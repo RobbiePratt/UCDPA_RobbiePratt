{
 "cells": [
  {
   "cell_type": "markdown",
   "id": "0cb17f17",
   "metadata": {},
   "source": [
    "##  Project Assignment - Specialist Certificate in Data Analytics Essentials- Robbie Pratt (Secondary Dataset_1)\n"
   ]
  },
  {
   "cell_type": "markdown",
   "id": "ce27d6e1",
   "metadata": {},
   "source": [
    "### 2.1. Your project should make use of the following - Web Scraping"
   ]
  },
  {
   "cell_type": "markdown",
   "id": "37f8b82c",
   "metadata": {},
   "source": [
    "#### 1.1. Import Python Packages"
   ]
  },
  {
   "cell_type": "code",
   "execution_count": 9,
   "id": "8b1737f6",
   "metadata": {},
   "outputs": [],
   "source": [
    "import pandas as pd\n",
    "import requests\n",
    "import bs4\n",
    "from bs4 import BeautifulSoup"
   ]
  },
  {
   "cell_type": "code",
   "execution_count": 10,
   "id": "e4488077",
   "metadata": {},
   "outputs": [],
   "source": [
    "url = 'https://economictimes.indiatimes.com/markets/stocks/news'"
   ]
  },
  {
   "cell_type": "code",
   "execution_count": 11,
   "id": "1e7c21a9",
   "metadata": {},
   "outputs": [],
   "source": [
    "headers = {\n",
    "    'User-Agent':\"Mozilla/5.0 (Windows NT 10.0; Win64; x64) AppleWebKit/537.36 (KHTML, like Gecko) Chrome/110.0.0.0 Safari/537.36 Edg/110.0.1587.50\"\n",
    "\n",
    "    \n",
    "}"
   ]
  },
  {
   "cell_type": "code",
   "execution_count": 13,
   "id": "5c2cdf0b",
   "metadata": {},
   "outputs": [],
   "source": [
    "r = requests.get(url,{'headers':headers})"
   ]
  },
  {
   "cell_type": "code",
   "execution_count": 15,
   "id": "86a9b7b1",
   "metadata": {},
   "outputs": [],
   "source": [
    "soup = bs4.BeautifulSoup(r.text,'html.parser')"
   ]
  },
  {
   "cell_type": "code",
   "execution_count": 27,
   "id": "a07e23b1",
   "metadata": {},
   "outputs": [
    {
     "data": {
      "text/plain": [
       "'NSE extends trading hours for interest rate derivatives till 5 pm'"
      ]
     },
     "execution_count": 27,
     "metadata": {},
     "output_type": "execute_result"
    }
   ],
   "source": [
    "soup.find_all('div',{'class' :'eachStory'})[0].find('a').text"
   ]
  },
  {
   "cell_type": "code",
   "execution_count": 39,
   "id": "3606f3a8",
   "metadata": {},
   "outputs": [
    {
     "name": "stdout",
     "output_type": "stream",
     "text": [
      "1:NSE extends trading hours for interest rate derivatives till 5 pm\n",
      "There shall be no change in trading hours for other interest rate derivative contracts, it said. All existing expiry contracts with expiry day beyond February 23, 2023, and all new expiration contracts introduced thereafter will be available for trading till 5 pm on expiry day.\n",
      "\n",
      "2:Ahead of Market: 10 things that will decide D-Street action on Wednesday\n",
      "Wall Street's main stock indexes fell more than 1% on Tuesday as gloomy forecasts from retailers Home Depot and Walmart added to worries that a sharp rise in interest rates and high inflation were taking a toll on the US economy.\n",
      "\n",
      "3:Trading Guide: Route Mobile among 6 stock recommendations for Wednesday\n",
      "Benchmark Sensex and Nifty closed marginally down in choppy trade on Tuesday, extending losses for a third straight day as investors remained cautious ahead of the release of minutes of the Federal Open Market Committee (FOMC) meeting. BSE Sensex edged down 19 points to settle at 60,672.72 as 17 of its constituents declined while 13 advanced. Negative cues from global peers dragged Nifty below 17,850.“On the hourly charts, we can observe that the key hourly moving averages placed in the zone 17920 – 17950 acted as a stiff resistance and the morning bounce fizzled out after reaching this resistance zone. On the hourly momentum indicator, we can observe a positive divergence developing, which is a sign that the selling pressure is weakening. Thus, price and momentum indicators are providing divergent signals and in such a scenario a consolidation is highly likely,” said Jatin Gedia, Technical Research Analyst, Sharekhan by BNP Paribas.That said, here are stock recommendations for Wednesday:\n",
      "\n",
      "4:Quick euro zone wage growth is just normal catch up, ECB's Lagarde says\n",
      "Lagarde said the ECB was monitoring wage growth \"very, very closely\" because it is a key driver of inflation but the current catch up process was quite normal.\n",
      "\n",
      "5:Stock Radar: Buy Firstsource Solutions for a target of Rs 148, says Ajit Mishra\n",
      "\"In line with other midcap and smallcap counters, FSL too is finally participating in the move, after seeing a breakout from a 9-month long consolidation phase,\" Ajit Mishra, VP - Technical Research, Religare Broking Ltd, said.\n",
      "\n",
      "6:Smallcase manager Alok Jain shows you how to navigate lumpy markets through momentum investing\n",
      "Patience and discipline in markets is key for a volatile strategy like momentum investing, said Jain, adding that market fluctuations or emotions shouldn't cloud the judgment of investors. \"Instead, investors should focus on long-term goals and stick to the investment plan,\" he said.\n",
      "\n",
      "7:Credit Suisse says equities to be choppy in H1. What should be your market strategy?\n",
      "India equities corrected 4.6% after US-based short-seller Hindenburg report on Adani group created some panic in the Indian financial market. However, markets pared losses over the past four weeks as the situation stabilized. The Nifty index was up 0.9% last month, while the MSCI World index gained 2.9% and the MSCI Asia ex-Japan index fell by 2.7%\n",
      "\n",
      "8:U.S. business activity rebounds to eight-month high in February- S&P Global survey\n",
      "That ended seven straight months of the index being below the 50 mark, which indicates contraction in the private sector. The services sector accounted for the rise in business activity, while manufacturing remained weak. Economists polled by Reuters had forecast the flash Composite PMI Output Index at 47.5\n",
      "\n",
      "9:Sebi imposes Rs 62 lakh fine on 6 entities for fraudulent trading\n",
      "The regulator found in its investigation that Utkarsh and Vanya sold shares and created misleading appearance of trading in the market for the days on which such trading took place\n",
      "\n",
      "10:Wall St tumbles as Walmart, Home Depot forecasts disappoint\n",
      "At 10:02 a.m. ET, the Dow Jones Industrial Average was down 424.64 points, or 1.26%, at 33,402.05, the S&P 500 was down 47.46 points, or 1.16%, at 4,031.63, and the Nasdaq Composite was down 165.27 points, or 1.40%, at 11,622.00\n",
      "\n"
     ]
    }
   ],
   "source": [
    "i = 0\n",
    "while i <10: \n",
    "    headline = (soup.find_all('div',{'class' :'eachStory'})[i].find('a').text)\n",
    "    print (str(i+1)+\":\"+ headline)\n",
    "    print (soup.find_all('div',{'class' :'eachStory'})[i].find('p').text)\n",
    "    print()\n",
    "    i+=1\n"
   ]
  },
  {
   "cell_type": "code",
   "execution_count": null,
   "id": "a4a65577",
   "metadata": {},
   "outputs": [],
   "source": []
  },
  {
   "cell_type": "code",
   "execution_count": null,
   "id": "92a2b859",
   "metadata": {},
   "outputs": [],
   "source": []
  }
 ],
 "metadata": {
  "kernelspec": {
   "display_name": "Python 3 (ipykernel)",
   "language": "python",
   "name": "python3"
  },
  "language_info": {
   "codemirror_mode": {
    "name": "ipython",
    "version": 3
   },
   "file_extension": ".py",
   "mimetype": "text/x-python",
   "name": "python",
   "nbconvert_exporter": "python",
   "pygments_lexer": "ipython3",
   "version": "3.10.7"
  }
 },
 "nbformat": 4,
 "nbformat_minor": 5
}
