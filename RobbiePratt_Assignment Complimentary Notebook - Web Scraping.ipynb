{
 "cells": [
  {
   "cell_type": "markdown",
   "id": "0cb17f17",
   "metadata": {},
   "source": [
    "##  Project Assignment - Specialist Certificate in Data Analytics Essentials- Robbie Pratt (Secondary Dataset_1)\n"
   ]
  },
  {
   "cell_type": "markdown",
   "id": "ce27d6e1",
   "metadata": {},
   "source": [
    "### 2.1. Your project should make use of the following - Web Scraping"
   ]
  },
  {
   "cell_type": "markdown",
   "id": "37f8b82c",
   "metadata": {},
   "source": [
    "#### 1.1. Import Python Packages"
   ]
  },
  {
   "cell_type": "code",
   "execution_count": 21,
   "id": "8b1737f6",
   "metadata": {},
   "outputs": [],
   "source": [
    "import pandas as pd\n",
    "import requests\n",
    "import bs4\n",
    "from bs4 import BeautifulSoup"
   ]
  },
  {
   "cell_type": "code",
   "execution_count": 22,
   "id": "e4488077",
   "metadata": {},
   "outputs": [],
   "source": [
    "url = 'https://www.rte.ie/news/'"
   ]
  },
  {
   "cell_type": "code",
   "execution_count": 23,
   "id": "1e7c21a9",
   "metadata": {},
   "outputs": [],
   "source": [
    "headers = {\n",
    "    'User-Agent':'Mozilla/5.0 (Windows NT 10.0; Win64; x64) AppleWebKit/537.36 (KHTML, like Gecko) Chrome/110.0.0.0 Safari/537.36 Edg/110.0.1587.50'\n",
    "}"
   ]
  },
  {
   "cell_type": "code",
   "execution_count": 24,
   "id": "5c2cdf0b",
   "metadata": {},
   "outputs": [],
   "source": [
    "r = requests.get(url,{'headers':headers})"
   ]
  },
  {
   "cell_type": "code",
   "execution_count": 25,
   "id": "86a9b7b1",
   "metadata": {},
   "outputs": [],
   "source": [
    "soup = bs4.BeautifulSoup(r.text,'html.parser')"
   ]
  },
  {
   "cell_type": "code",
   "execution_count": 72,
   "id": "a07e23b1",
   "metadata": {},
   "outputs": [
    {
     "data": {
      "text/plain": [
       "<span class=\"underline\">\n",
       "DJ Carey properties sold by AIB after court judgment\n",
       "</span>"
      ]
     },
     "execution_count": 72,
     "metadata": {},
     "output_type": "execute_result"
    }
   ],
   "source": [
    "soup.find_all('span',{'class' :\"underline\"})[1]\n"
   ]
  },
  {
   "cell_type": "code",
   "execution_count": 73,
   "id": "3606f3a8",
   "metadata": {},
   "outputs": [
    {
     "name": "stdout",
     "output_type": "stream",
     "text": [
      "<span class=\"underline\">\n",
      "'Ukraine will never be a victory for Russia' - Biden\n",
      "</span>\n",
      "\n",
      "<span class=\"underline\">\n",
      "DJ Carey properties sold by AIB after court judgment\n",
      "</span>\n",
      "\n",
      "<span class=\"underline\">\n",
      "Welfare bonus, €100 back-to-school allowance announced\n",
      "</span>\n",
      "\n",
      "<span class=\"underline\">\n",
      "Syrian baby born under rubble reunited with aunt, uncle\n",
      "</span>\n",
      "\n",
      "<span class=\"underline\">\n",
      "'I'll be worried about how I'll break even each month'\n",
      "</span>\n",
      "\n",
      "<span class=\"underline\">\n",
      "Claiming of the shrew: False widow spider eats mammal\n",
      "</span>\n",
      "\n",
      "<span class=\"underline\">\n",
      "Gda wouldn't be dead if he'd stayed in car, court hears\n",
      "</span>\n",
      "\n",
      "<span class=\"underline\">\n",
      "Life on Mars won't be found with current tech - experts\n",
      "</span>\n",
      "\n",
      "<span class=\"underline\">\n",
      "Romanian court extends detention of Andrew Tate\n",
      "</span>\n",
      "\n",
      "<span class=\"underline\">\n",
      "AIB to be called on to answer questions on write-downs\n",
      "</span>\n",
      "\n"
     ]
    }
   ],
   "source": [
    "i = 0\n",
    "while i <10: \n",
    "    soup.find_all('span',{'class' :\"underline\"})[i]\n",
    "    print (soup.find_all('span',{'class' :\"underline\"})[i])\n",
    "    print()\n",
    "    i+=1\n"
   ]
  },
  {
   "cell_type": "code",
   "execution_count": null,
   "id": "a4a65577",
   "metadata": {},
   "outputs": [],
   "source": []
  },
  {
   "cell_type": "code",
   "execution_count": null,
   "id": "92a2b859",
   "metadata": {},
   "outputs": [],
   "source": []
  }
 ],
 "metadata": {
  "kernelspec": {
   "display_name": "Python 3 (ipykernel)",
   "language": "python",
   "name": "python3"
  },
  "language_info": {
   "codemirror_mode": {
    "name": "ipython",
    "version": 3
   },
   "file_extension": ".py",
   "mimetype": "text/x-python",
   "name": "python",
   "nbconvert_exporter": "python",
   "pygments_lexer": "ipython3",
   "version": "3.10.7"
  }
 },
 "nbformat": 4,
 "nbformat_minor": 5
}
