{
 "cells": [
  {
   "cell_type": "markdown",
   "id": "46d4d857",
   "metadata": {},
   "source": [
    "##  Project Assignment - Specialist Certificate in Data Analytics Essentials- Robbie Pratt\n"
   ]
  },
  {
   "cell_type": "markdown",
   "id": "6fdb97d3",
   "metadata": {},
   "source": [
    "#### 1.1. Import Python Packages"
   ]
  },
  {
   "cell_type": "code",
   "execution_count": 155,
   "id": "4148d14f",
   "metadata": {},
   "outputs": [],
   "source": [
    "import pandas as pd\n",
    "import numpy as np\n",
    "import matplotlib.pylab as plt\n",
    "import matplotlib"
   ]
  },
  {
   "cell_type": "markdown",
   "id": "9805aa18",
   "metadata": {},
   "source": [
    "#### 1.2. Import a CSV file into a Pandas DataFrame"
   ]
  },
  {
   "cell_type": "code",
   "execution_count": 156,
   "id": "39c00dd4",
   "metadata": {},
   "outputs": [
    {
     "data": {
      "text/html": [
       "<div>\n",
       "<style scoped>\n",
       "    .dataframe tbody tr th:only-of-type {\n",
       "        vertical-align: middle;\n",
       "    }\n",
       "\n",
       "    .dataframe tbody tr th {\n",
       "        vertical-align: top;\n",
       "    }\n",
       "\n",
       "    .dataframe thead th {\n",
       "        text-align: right;\n",
       "    }\n",
       "</style>\n",
       "<table border=\"1\" class=\"dataframe\">\n",
       "  <thead>\n",
       "    <tr style=\"text-align: right;\">\n",
       "      <th></th>\n",
       "      <th>instance_id</th>\n",
       "      <th>artist_name</th>\n",
       "      <th>track_name</th>\n",
       "      <th>popularity</th>\n",
       "      <th>acousticness</th>\n",
       "      <th>danceability</th>\n",
       "      <th>duration_ms</th>\n",
       "      <th>energy</th>\n",
       "      <th>instrumentalness</th>\n",
       "      <th>key</th>\n",
       "      <th>liveness</th>\n",
       "      <th>loudness</th>\n",
       "      <th>mode</th>\n",
       "      <th>speechiness</th>\n",
       "      <th>tempo</th>\n",
       "      <th>obtained_date</th>\n",
       "      <th>valence</th>\n",
       "      <th>music_genre</th>\n",
       "    </tr>\n",
       "  </thead>\n",
       "  <tbody>\n",
       "    <tr>\n",
       "      <th>0</th>\n",
       "      <td>32894.0</td>\n",
       "      <td>Röyksopp</td>\n",
       "      <td>Röyksopp's Night Out</td>\n",
       "      <td>27.0</td>\n",
       "      <td>0.00468</td>\n",
       "      <td>0.652</td>\n",
       "      <td>-1.0</td>\n",
       "      <td>0.941</td>\n",
       "      <td>0.79200</td>\n",
       "      <td>A#</td>\n",
       "      <td>0.115</td>\n",
       "      <td>-5.201</td>\n",
       "      <td>Minor</td>\n",
       "      <td>0.0748</td>\n",
       "      <td>100.889</td>\n",
       "      <td>4-Apr</td>\n",
       "      <td>0.759</td>\n",
       "      <td>Electronic</td>\n",
       "    </tr>\n",
       "    <tr>\n",
       "      <th>1</th>\n",
       "      <td>46652.0</td>\n",
       "      <td>Thievery Corporation</td>\n",
       "      <td>The Shining Path</td>\n",
       "      <td>31.0</td>\n",
       "      <td>0.01270</td>\n",
       "      <td>0.622</td>\n",
       "      <td>218293.0</td>\n",
       "      <td>0.890</td>\n",
       "      <td>0.95000</td>\n",
       "      <td>D</td>\n",
       "      <td>0.124</td>\n",
       "      <td>-7.043</td>\n",
       "      <td>Minor</td>\n",
       "      <td>0.0300</td>\n",
       "      <td>115.00200000000001</td>\n",
       "      <td>4-Apr</td>\n",
       "      <td>0.531</td>\n",
       "      <td>Electronic</td>\n",
       "    </tr>\n",
       "    <tr>\n",
       "      <th>2</th>\n",
       "      <td>30097.0</td>\n",
       "      <td>Dillon Francis</td>\n",
       "      <td>Hurricane</td>\n",
       "      <td>28.0</td>\n",
       "      <td>0.00306</td>\n",
       "      <td>0.620</td>\n",
       "      <td>215613.0</td>\n",
       "      <td>0.755</td>\n",
       "      <td>0.01180</td>\n",
       "      <td>G#</td>\n",
       "      <td>0.534</td>\n",
       "      <td>-4.617</td>\n",
       "      <td>Major</td>\n",
       "      <td>0.0345</td>\n",
       "      <td>127.994</td>\n",
       "      <td>4-Apr</td>\n",
       "      <td>0.333</td>\n",
       "      <td>Electronic</td>\n",
       "    </tr>\n",
       "    <tr>\n",
       "      <th>3</th>\n",
       "      <td>62177.0</td>\n",
       "      <td>Dubloadz</td>\n",
       "      <td>Nitro</td>\n",
       "      <td>34.0</td>\n",
       "      <td>0.02540</td>\n",
       "      <td>0.774</td>\n",
       "      <td>166875.0</td>\n",
       "      <td>0.700</td>\n",
       "      <td>0.00253</td>\n",
       "      <td>C#</td>\n",
       "      <td>0.157</td>\n",
       "      <td>-4.498</td>\n",
       "      <td>Major</td>\n",
       "      <td>0.2390</td>\n",
       "      <td>128.014</td>\n",
       "      <td>4-Apr</td>\n",
       "      <td>0.270</td>\n",
       "      <td>Electronic</td>\n",
       "    </tr>\n",
       "    <tr>\n",
       "      <th>4</th>\n",
       "      <td>24907.0</td>\n",
       "      <td>What So Not</td>\n",
       "      <td>Divide &amp; Conquer</td>\n",
       "      <td>32.0</td>\n",
       "      <td>0.00465</td>\n",
       "      <td>0.638</td>\n",
       "      <td>222369.0</td>\n",
       "      <td>0.587</td>\n",
       "      <td>0.90900</td>\n",
       "      <td>F#</td>\n",
       "      <td>0.157</td>\n",
       "      <td>-6.266</td>\n",
       "      <td>Major</td>\n",
       "      <td>0.0413</td>\n",
       "      <td>145.036</td>\n",
       "      <td>4-Apr</td>\n",
       "      <td>0.323</td>\n",
       "      <td>Electronic</td>\n",
       "    </tr>\n",
       "    <tr>\n",
       "      <th>...</th>\n",
       "      <td>...</td>\n",
       "      <td>...</td>\n",
       "      <td>...</td>\n",
       "      <td>...</td>\n",
       "      <td>...</td>\n",
       "      <td>...</td>\n",
       "      <td>...</td>\n",
       "      <td>...</td>\n",
       "      <td>...</td>\n",
       "      <td>...</td>\n",
       "      <td>...</td>\n",
       "      <td>...</td>\n",
       "      <td>...</td>\n",
       "      <td>...</td>\n",
       "      <td>...</td>\n",
       "      <td>...</td>\n",
       "      <td>...</td>\n",
       "      <td>...</td>\n",
       "    </tr>\n",
       "    <tr>\n",
       "      <th>50000</th>\n",
       "      <td>58878.0</td>\n",
       "      <td>BEXEY</td>\n",
       "      <td>GO GETTA</td>\n",
       "      <td>59.0</td>\n",
       "      <td>0.03340</td>\n",
       "      <td>0.913</td>\n",
       "      <td>-1.0</td>\n",
       "      <td>0.574</td>\n",
       "      <td>0.00000</td>\n",
       "      <td>C#</td>\n",
       "      <td>0.119</td>\n",
       "      <td>-7.022</td>\n",
       "      <td>Major</td>\n",
       "      <td>0.2980</td>\n",
       "      <td>98.02799999999999</td>\n",
       "      <td>4-Apr</td>\n",
       "      <td>0.330</td>\n",
       "      <td>Hip-Hop</td>\n",
       "    </tr>\n",
       "    <tr>\n",
       "      <th>50001</th>\n",
       "      <td>43557.0</td>\n",
       "      <td>Roy Woods</td>\n",
       "      <td>Drama (feat. Drake)</td>\n",
       "      <td>72.0</td>\n",
       "      <td>0.15700</td>\n",
       "      <td>0.709</td>\n",
       "      <td>251860.0</td>\n",
       "      <td>0.362</td>\n",
       "      <td>0.00000</td>\n",
       "      <td>B</td>\n",
       "      <td>0.109</td>\n",
       "      <td>-9.814</td>\n",
       "      <td>Major</td>\n",
       "      <td>0.0550</td>\n",
       "      <td>122.04299999999999</td>\n",
       "      <td>4-Apr</td>\n",
       "      <td>0.113</td>\n",
       "      <td>Hip-Hop</td>\n",
       "    </tr>\n",
       "    <tr>\n",
       "      <th>50002</th>\n",
       "      <td>39767.0</td>\n",
       "      <td>Berner</td>\n",
       "      <td>Lovin' Me (feat. Smiggz)</td>\n",
       "      <td>51.0</td>\n",
       "      <td>0.00597</td>\n",
       "      <td>0.693</td>\n",
       "      <td>189483.0</td>\n",
       "      <td>0.763</td>\n",
       "      <td>0.00000</td>\n",
       "      <td>D</td>\n",
       "      <td>0.143</td>\n",
       "      <td>-5.443</td>\n",
       "      <td>Major</td>\n",
       "      <td>0.1460</td>\n",
       "      <td>131.079</td>\n",
       "      <td>4-Apr</td>\n",
       "      <td>0.395</td>\n",
       "      <td>Hip-Hop</td>\n",
       "    </tr>\n",
       "    <tr>\n",
       "      <th>50003</th>\n",
       "      <td>57944.0</td>\n",
       "      <td>The-Dream</td>\n",
       "      <td>Shawty Is Da Shit</td>\n",
       "      <td>65.0</td>\n",
       "      <td>0.08310</td>\n",
       "      <td>0.782</td>\n",
       "      <td>262773.0</td>\n",
       "      <td>0.472</td>\n",
       "      <td>0.00000</td>\n",
       "      <td>G</td>\n",
       "      <td>0.106</td>\n",
       "      <td>-5.016</td>\n",
       "      <td>Minor</td>\n",
       "      <td>0.0441</td>\n",
       "      <td>75.88600000000001</td>\n",
       "      <td>4-Apr</td>\n",
       "      <td>0.354</td>\n",
       "      <td>Hip-Hop</td>\n",
       "    </tr>\n",
       "    <tr>\n",
       "      <th>50004</th>\n",
       "      <td>63470.0</td>\n",
       "      <td>Naughty By Nature</td>\n",
       "      <td>Hip Hop Hooray</td>\n",
       "      <td>67.0</td>\n",
       "      <td>0.10200</td>\n",
       "      <td>0.862</td>\n",
       "      <td>267267.0</td>\n",
       "      <td>0.642</td>\n",
       "      <td>0.00000</td>\n",
       "      <td>F#</td>\n",
       "      <td>0.272</td>\n",
       "      <td>-13.652</td>\n",
       "      <td>Minor</td>\n",
       "      <td>0.1010</td>\n",
       "      <td>99.20100000000001</td>\n",
       "      <td>4-Apr</td>\n",
       "      <td>0.765</td>\n",
       "      <td>Hip-Hop</td>\n",
       "    </tr>\n",
       "  </tbody>\n",
       "</table>\n",
       "<p>50005 rows × 18 columns</p>\n",
       "</div>"
      ],
      "text/plain": [
       "       instance_id           artist_name                track_name  \\\n",
       "0          32894.0              Röyksopp      Röyksopp's Night Out   \n",
       "1          46652.0  Thievery Corporation          The Shining Path   \n",
       "2          30097.0        Dillon Francis                 Hurricane   \n",
       "3          62177.0              Dubloadz                     Nitro   \n",
       "4          24907.0           What So Not          Divide & Conquer   \n",
       "...            ...                   ...                       ...   \n",
       "50000      58878.0                 BEXEY                  GO GETTA   \n",
       "50001      43557.0             Roy Woods       Drama (feat. Drake)   \n",
       "50002      39767.0                Berner  Lovin' Me (feat. Smiggz)   \n",
       "50003      57944.0             The-Dream         Shawty Is Da Shit   \n",
       "50004      63470.0     Naughty By Nature            Hip Hop Hooray   \n",
       "\n",
       "       popularity  acousticness  danceability  duration_ms  energy  \\\n",
       "0            27.0       0.00468         0.652         -1.0   0.941   \n",
       "1            31.0       0.01270         0.622     218293.0   0.890   \n",
       "2            28.0       0.00306         0.620     215613.0   0.755   \n",
       "3            34.0       0.02540         0.774     166875.0   0.700   \n",
       "4            32.0       0.00465         0.638     222369.0   0.587   \n",
       "...           ...           ...           ...          ...     ...   \n",
       "50000        59.0       0.03340         0.913         -1.0   0.574   \n",
       "50001        72.0       0.15700         0.709     251860.0   0.362   \n",
       "50002        51.0       0.00597         0.693     189483.0   0.763   \n",
       "50003        65.0       0.08310         0.782     262773.0   0.472   \n",
       "50004        67.0       0.10200         0.862     267267.0   0.642   \n",
       "\n",
       "       instrumentalness key  liveness  loudness   mode  speechiness  \\\n",
       "0               0.79200  A#     0.115    -5.201  Minor       0.0748   \n",
       "1               0.95000   D     0.124    -7.043  Minor       0.0300   \n",
       "2               0.01180  G#     0.534    -4.617  Major       0.0345   \n",
       "3               0.00253  C#     0.157    -4.498  Major       0.2390   \n",
       "4               0.90900  F#     0.157    -6.266  Major       0.0413   \n",
       "...                 ...  ..       ...       ...    ...          ...   \n",
       "50000           0.00000  C#     0.119    -7.022  Major       0.2980   \n",
       "50001           0.00000   B     0.109    -9.814  Major       0.0550   \n",
       "50002           0.00000   D     0.143    -5.443  Major       0.1460   \n",
       "50003           0.00000   G     0.106    -5.016  Minor       0.0441   \n",
       "50004           0.00000  F#     0.272   -13.652  Minor       0.1010   \n",
       "\n",
       "                    tempo obtained_date  valence music_genre  \n",
       "0                 100.889         4-Apr    0.759  Electronic  \n",
       "1      115.00200000000001         4-Apr    0.531  Electronic  \n",
       "2                 127.994         4-Apr    0.333  Electronic  \n",
       "3                 128.014         4-Apr    0.270  Electronic  \n",
       "4                 145.036         4-Apr    0.323  Electronic  \n",
       "...                   ...           ...      ...         ...  \n",
       "50000   98.02799999999999         4-Apr    0.330     Hip-Hop  \n",
       "50001  122.04299999999999         4-Apr    0.113     Hip-Hop  \n",
       "50002             131.079         4-Apr    0.395     Hip-Hop  \n",
       "50003   75.88600000000001         4-Apr    0.354     Hip-Hop  \n",
       "50004   99.20100000000001         4-Apr    0.765     Hip-Hop  \n",
       "\n",
       "[50005 rows x 18 columns]"
      ]
     },
     "execution_count": 156,
     "metadata": {},
     "output_type": "execute_result"
    }
   ],
   "source": [
    "df=pd.read_csv('music_genre.csv')\n",
    "df"
   ]
  },
  {
   "cell_type": "markdown",
   "id": "fc953ef8",
   "metadata": {},
   "source": [
    "#### 1.3.  Web Scraping - Is being done seperately to this, see report"
   ]
  },
  {
   "cell_type": "markdown",
   "id": "0715050a",
   "metadata": {},
   "source": [
    "#### 1.4. View Data"
   ]
  },
  {
   "cell_type": "code",
   "execution_count": 157,
   "id": "4297ccda",
   "metadata": {},
   "outputs": [
    {
     "name": "stdout",
     "output_type": "stream",
     "text": [
      "   instance_id           artist_name            track_name  popularity  \\\n",
      "0      32894.0              Röyksopp  Röyksopp's Night Out        27.0   \n",
      "1      46652.0  Thievery Corporation      The Shining Path        31.0   \n",
      "2      30097.0        Dillon Francis             Hurricane        28.0   \n",
      "3      62177.0              Dubloadz                 Nitro        34.0   \n",
      "4      24907.0           What So Not      Divide & Conquer        32.0   \n",
      "\n",
      "   acousticness  danceability  duration_ms  energy  instrumentalness key  \\\n",
      "0       0.00468         0.652         -1.0   0.941           0.79200  A#   \n",
      "1       0.01270         0.622     218293.0   0.890           0.95000   D   \n",
      "2       0.00306         0.620     215613.0   0.755           0.01180  G#   \n",
      "3       0.02540         0.774     166875.0   0.700           0.00253  C#   \n",
      "4       0.00465         0.638     222369.0   0.587           0.90900  F#   \n",
      "\n",
      "   liveness  loudness   mode  speechiness               tempo obtained_date  \\\n",
      "0     0.115    -5.201  Minor       0.0748             100.889         4-Apr   \n",
      "1     0.124    -7.043  Minor       0.0300  115.00200000000001         4-Apr   \n",
      "2     0.534    -4.617  Major       0.0345             127.994         4-Apr   \n",
      "3     0.157    -4.498  Major       0.2390             128.014         4-Apr   \n",
      "4     0.157    -6.266  Major       0.0413             145.036         4-Apr   \n",
      "\n",
      "   valence music_genre  \n",
      "0    0.759  Electronic  \n",
      "1    0.531  Electronic  \n",
      "2    0.333  Electronic  \n",
      "3    0.270  Electronic  \n",
      "4    0.323  Electronic  \n"
     ]
    }
   ],
   "source": [
    "print (df.head())"
   ]
  },
  {
   "cell_type": "code",
   "execution_count": 158,
   "id": "11ed5394",
   "metadata": {},
   "outputs": [
    {
     "name": "stdout",
     "output_type": "stream",
     "text": [
      "(50005, 18)\n"
     ]
    }
   ],
   "source": [
    "print (df.shape)"
   ]
  },
  {
   "cell_type": "markdown",
   "id": "b64a6a12",
   "metadata": {},
   "source": [
    "3.2 Analysis Data - Replace missing values and drop duplicates"
   ]
  },
  {
   "cell_type": "markdown",
   "id": "1dd10b96",
   "metadata": {},
   "source": [
    "Drop columns not needed"
   ]
  },
  {
   "cell_type": "code",
   "execution_count": 159,
   "id": "c1c4e7ab",
   "metadata": {},
   "outputs": [],
   "source": [
    "df = df.drop(columns = ['key','tempo'])"
   ]
  },
  {
   "cell_type": "code",
   "execution_count": 160,
   "id": "82faafc8",
   "metadata": {},
   "outputs": [
    {
     "name": "stdout",
     "output_type": "stream",
     "text": [
      "    instance_id           artist_name  \\\n",
      "0       32894.0              Röyksopp   \n",
      "1       46652.0  Thievery Corporation   \n",
      "2       30097.0        Dillon Francis   \n",
      "3       62177.0              Dubloadz   \n",
      "4       24907.0           What So Not   \n",
      "5       89064.0            Axel Boman   \n",
      "6       43760.0        Jordan Comolli   \n",
      "7       30738.0                Hraach   \n",
      "8       84950.0                 Kayzo   \n",
      "9       56950.0                Shlump   \n",
      "10      49030.0        Chase & Status   \n",
      "11      22654.0               G Jones   \n",
      "12      69056.0        Champagne Drip   \n",
      "13      62039.0             DJ Shadow   \n",
      "14      49205.0                Getter   \n",
      "15      83192.0              Excision   \n",
      "16      83926.0              San Holo   \n",
      "17      54696.0        Dillon Francis   \n",
      "18      49375.0  The Bloody Beetroots   \n",
      "19      66905.0           empty_field   \n",
      "\n",
      "                                           track_name  popularity  \\\n",
      "0                                Röyksopp's Night Out        27.0   \n",
      "1                                    The Shining Path        31.0   \n",
      "2                                           Hurricane        28.0   \n",
      "3                                               Nitro        34.0   \n",
      "4                                    Divide & Conquer        32.0   \n",
      "5                                               Hello        47.0   \n",
      "6                                               Clash        46.0   \n",
      "7                                             Delirio        43.0   \n",
      "8                                         NEVER ALONE        39.0   \n",
      "9                                          Lazer Beam        22.0   \n",
      "10                        Lost & Not Found - Acoustic        30.0   \n",
      "11                                               Mind        27.0   \n",
      "12                            Satellite (Feat. Len X)        31.0   \n",
      "13                                 Broken Levee Blues        31.0   \n",
      "14                                            Bonesaw        27.0   \n",
      "15  Bring the Madness (Noisestorm Remix) [feat. Ma...        50.0   \n",
      "16                                          One Thing        59.0   \n",
      "17                          Without You - The Rebirth        29.0   \n",
      "18                 Irreversible (feat. Anders Friden)        35.0   \n",
      "19                                         7th Sevens        50.0   \n",
      "\n",
      "    acousticness  danceability  duration_ms  energy  instrumentalness  \\\n",
      "0       0.004680         0.652         -1.0   0.941          0.792000   \n",
      "1       0.012700         0.622     218293.0   0.890          0.950000   \n",
      "2       0.003060         0.620     215613.0   0.755          0.011800   \n",
      "3       0.025400         0.774     166875.0   0.700          0.002530   \n",
      "4       0.004650         0.638     222369.0   0.587          0.909000   \n",
      "5       0.005230         0.755     519468.0   0.731          0.854000   \n",
      "6       0.028900         0.572     214408.0   0.803          0.000008   \n",
      "7       0.029700         0.809     416132.0   0.706          0.903000   \n",
      "8       0.002990         0.509     292800.0   0.921          0.000276   \n",
      "9       0.009340         0.578     204800.0   0.731          0.011200   \n",
      "10      0.855000         0.607     170463.0   0.158          0.000000   \n",
      "11      0.033700         0.513     165132.0   0.828          0.569000   \n",
      "12      0.016000         0.660     236089.0   0.892          0.000605   \n",
      "13      0.860000         0.737         -1.0   0.405          0.036100   \n",
      "14      0.000194         0.601     243857.0   0.969          0.776000   \n",
      "15      0.003310         0.391     240000.0   0.957          0.220000   \n",
      "16      0.136000         0.336         -1.0   0.746          0.000000   \n",
      "17      0.158000         0.660     266282.0   0.784          0.000279   \n",
      "18      0.000060         0.259     185333.0   0.687          0.008620   \n",
      "19      0.028100         0.656     307328.0   0.653          0.858000   \n",
      "\n",
      "    liveness  loudness   mode  speechiness obtained_date  valence music_genre  \n",
      "0     0.1150    -5.201  Minor       0.0748         4-Apr   0.7590  Electronic  \n",
      "1     0.1240    -7.043  Minor       0.0300         4-Apr   0.5310  Electronic  \n",
      "2     0.5340    -4.617  Major       0.0345         4-Apr   0.3330  Electronic  \n",
      "3     0.1570    -4.498  Major       0.2390         4-Apr   0.2700  Electronic  \n",
      "4     0.1570    -6.266  Major       0.0413         4-Apr   0.3230  Electronic  \n",
      "5     0.2160   -10.517  Minor       0.0412         4-Apr   0.6140  Electronic  \n",
      "6     0.1060    -4.294  Major       0.3510         4-Apr   0.2300  Electronic  \n",
      "7     0.0635    -9.339  Minor       0.0484         4-Apr   0.7610  Electronic  \n",
      "8     0.1780    -3.175  Minor       0.2680         4-Apr   0.2730  Electronic  \n",
      "9     0.1110    -7.091  Minor       0.1730         4-Apr   0.2030  Electronic  \n",
      "10    0.1060   -13.787  Minor       0.0345         4-Apr   0.3070  Electronic  \n",
      "11    0.1090    -5.439  Minor       0.0609         3-Apr   0.0591  Electronic  \n",
      "12    0.1630    -3.464  Major       0.0645         4-Apr   0.1110  Electronic  \n",
      "13    0.1730   -10.536  Minor       0.0424         4-Apr   0.6470  Electronic  \n",
      "14    0.4090    -1.553  Major       0.1850         4-Apr   0.1980  Electronic  \n",
      "15    0.1120    -2.510  Major       0.0904         4-Apr   0.1210  Electronic  \n",
      "16    0.7370    -4.315  Minor       0.0685         4-Apr   0.2100  Electronic  \n",
      "17    0.0978    -4.396  Minor       0.0571         3-Apr   0.6220  Electronic  \n",
      "18    0.3380    -3.231  Major       0.0413         4-Apr   0.1140  Electronic  \n",
      "19    0.1120   -11.883  Minor       0.0396         4-Apr   0.1990  Electronic  \n"
     ]
    }
   ],
   "source": [
    "print (df.head(20))"
   ]
  },
  {
   "cell_type": "markdown",
   "id": "ab66de5d",
   "metadata": {},
   "source": [
    "Duplicates"
   ]
  },
  {
   "cell_type": "code",
   "execution_count": 161,
   "id": "2a1014df",
   "metadata": {},
   "outputs": [
    {
     "data": {
      "text/plain": [
       "4"
      ]
     },
     "execution_count": 161,
     "metadata": {},
     "output_type": "execute_result"
    }
   ],
   "source": [
    "len(df[df.duplicated()])"
   ]
  },
  {
   "cell_type": "code",
   "execution_count": 162,
   "id": "e45672fc",
   "metadata": {},
   "outputs": [],
   "source": [
    "df.drop_duplicates(inplace = True)"
   ]
  },
  {
   "cell_type": "code",
   "execution_count": 163,
   "id": "fa9ebc21",
   "metadata": {},
   "outputs": [
    {
     "data": {
      "text/plain": [
       "0"
      ]
     },
     "execution_count": 163,
     "metadata": {},
     "output_type": "execute_result"
    }
   ],
   "source": [
    "len(df[df.duplicated()])"
   ]
  },
  {
   "cell_type": "markdown",
   "id": "277224bc",
   "metadata": {},
   "source": [
    "Null values"
   ]
  },
  {
   "cell_type": "code",
   "execution_count": 164,
   "id": "ce1c7fc9",
   "metadata": {},
   "outputs": [
    {
     "name": "stdout",
     "output_type": "stream",
     "text": [
      "Number of null values in the dataset are null:  instance_id         1\n",
      "artist_name         1\n",
      "track_name          1\n",
      "popularity          1\n",
      "acousticness        1\n",
      "danceability        1\n",
      "duration_ms         1\n",
      "energy              1\n",
      "instrumentalness    1\n",
      "liveness            1\n",
      "loudness            1\n",
      "mode                1\n",
      "speechiness         1\n",
      "obtained_date       1\n",
      "valence             1\n",
      "music_genre         1\n",
      "dtype: int64\n"
     ]
    }
   ],
   "source": [
    "null = df.isna().sum()\n",
    "print (\"Number of null values in the dataset are null: \", null)"
   ]
  },
  {
   "cell_type": "code",
   "execution_count": 165,
   "id": "8a3e68bd",
   "metadata": {},
   "outputs": [
    {
     "name": "stdout",
     "output_type": "stream",
     "text": [
      "Number of null values in the dataset are null:  instance_id         1\n",
      "artist_name         1\n",
      "track_name          1\n",
      "popularity          1\n",
      "acousticness        1\n",
      "danceability        1\n",
      "duration_ms         1\n",
      "energy              1\n",
      "instrumentalness    1\n",
      "liveness            1\n",
      "loudness            1\n",
      "mode                1\n",
      "speechiness         1\n",
      "obtained_date       1\n",
      "valence             1\n",
      "music_genre         1\n",
      "dtype: int64\n"
     ]
    }
   ],
   "source": [
    "null = df.isna().sum()\n",
    "print (\"Number of null values in the dataset are null: \", null)"
   ]
  },
  {
   "cell_type": "code",
   "execution_count": 166,
   "id": "9b031d16",
   "metadata": {},
   "outputs": [
    {
     "name": "stdout",
     "output_type": "stream",
     "text": [
      "(50001, 16) (50000, 16)\n"
     ]
    }
   ],
   "source": [
    "print(df.shape,droprows.shape)"
   ]
  },
  {
   "cell_type": "code",
   "execution_count": null,
   "id": "ee334961",
   "metadata": {},
   "outputs": [],
   "source": []
  }
 ],
 "metadata": {
  "kernelspec": {
   "display_name": "Python 3 (ipykernel)",
   "language": "python",
   "name": "python3"
  },
  "language_info": {
   "codemirror_mode": {
    "name": "ipython",
    "version": 3
   },
   "file_extension": ".py",
   "mimetype": "text/x-python",
   "name": "python",
   "nbconvert_exporter": "python",
   "pygments_lexer": "ipython3",
   "version": "3.10.7"
  }
 },
 "nbformat": 4,
 "nbformat_minor": 5
}
