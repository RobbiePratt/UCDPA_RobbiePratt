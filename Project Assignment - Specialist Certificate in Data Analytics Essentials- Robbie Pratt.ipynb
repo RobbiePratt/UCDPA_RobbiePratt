{
 "cells": [
  {
   "cell_type": "markdown",
   "id": "2d683741",
   "metadata": {},
   "source": [
    "##  Project Assignment - Specialist Certificate in Data Analytics Essentials- Robbie Pratt \n"
   ]
  },
  {
   "cell_type": "markdown",
   "id": "a1080fac",
   "metadata": {},
   "source": [
    "#### Import Python Packages"
   ]
  },
  {
   "cell_type": "code",
   "execution_count": 597,
   "id": "b156da03",
   "metadata": {},
   "outputs": [],
   "source": [
    "import pandas as pd\n",
    "import re\n",
    "import numpy as np\n",
    "\n",
    "from sklearn.model_selection import train_test_split\n",
    "from sklearn.linear_model import LinearRegression\n",
    "from sklearn.metrics import r2_score\n",
    "from sklearn.metrics import mean_absolute_error\n",
    "from sklearn.tree import DecisionTreeRegressor, DecisionTreeClassifier\n",
    "\n",
    "import matplotlib.pylab as plt\n",
    "import matplotlib\n",
    "import seaborn as sns"
   ]
  },
  {
   "cell_type": "markdown",
   "id": "9b34eb58",
   "metadata": {},
   "source": [
    "#### Web Scraping - Is in the complimentary notebook"
   ]
  },
  {
   "cell_type": "markdown",
   "id": "879d9e47",
   "metadata": {},
   "source": [
    "#### Import a CSV file into a Pandas DataFrame"
   ]
  },
  {
   "cell_type": "code",
   "execution_count": 598,
   "id": "eca94cd6",
   "metadata": {},
   "outputs": [
    {
     "data": {
      "text/html": [
       "<div>\n",
       "<style scoped>\n",
       "    .dataframe tbody tr th:only-of-type {\n",
       "        vertical-align: middle;\n",
       "    }\n",
       "\n",
       "    .dataframe tbody tr th {\n",
       "        vertical-align: top;\n",
       "    }\n",
       "\n",
       "    .dataframe thead th {\n",
       "        text-align: right;\n",
       "    }\n",
       "</style>\n",
       "<table border=\"1\" class=\"dataframe\">\n",
       "  <thead>\n",
       "    <tr style=\"text-align: right;\">\n",
       "      <th></th>\n",
       "      <th>bookId</th>\n",
       "      <th>title</th>\n",
       "      <th>series</th>\n",
       "      <th>author</th>\n",
       "      <th>rating</th>\n",
       "      <th>description</th>\n",
       "      <th>language</th>\n",
       "      <th>isbn</th>\n",
       "      <th>genres</th>\n",
       "      <th>characters</th>\n",
       "      <th>...</th>\n",
       "      <th>firstPublishDate</th>\n",
       "      <th>awards</th>\n",
       "      <th>numRatings</th>\n",
       "      <th>ratingsByStars</th>\n",
       "      <th>likedPercent</th>\n",
       "      <th>setting</th>\n",
       "      <th>coverImg</th>\n",
       "      <th>bbeScore</th>\n",
       "      <th>bbeVotes</th>\n",
       "      <th>price</th>\n",
       "    </tr>\n",
       "  </thead>\n",
       "  <tbody>\n",
       "    <tr>\n",
       "      <th>0</th>\n",
       "      <td>2767052-the-hunger-games</td>\n",
       "      <td>The Hunger Games</td>\n",
       "      <td>The Hunger Games #1</td>\n",
       "      <td>Suzanne Collins</td>\n",
       "      <td>4.33</td>\n",
       "      <td>WINNING MEANS FAME AND FORTUNE.LOSING MEANS CE...</td>\n",
       "      <td>English</td>\n",
       "      <td>9780439023481</td>\n",
       "      <td>['Young Adult', 'Fiction', 'Dystopia', 'Fantas...</td>\n",
       "      <td>['Katniss Everdeen', 'Peeta Mellark', 'Cato (H...</td>\n",
       "      <td>...</td>\n",
       "      <td>NaN</td>\n",
       "      <td>['Locus Award Nominee for Best Young Adult Boo...</td>\n",
       "      <td>6376780</td>\n",
       "      <td>['3444695', '1921313', '745221', '171994', '93...</td>\n",
       "      <td>96.0</td>\n",
       "      <td>['District 12, Panem', 'Capitol, Panem', 'Pane...</td>\n",
       "      <td>https://i.gr-assets.com/images/S/compressed.ph...</td>\n",
       "      <td>2993816</td>\n",
       "      <td>30516</td>\n",
       "      <td>5.09</td>\n",
       "    </tr>\n",
       "    <tr>\n",
       "      <th>1</th>\n",
       "      <td>2.Harry_Potter_and_the_Order_of_the_Phoenix</td>\n",
       "      <td>Harry Potter and the Order of the Phoenix</td>\n",
       "      <td>Harry Potter #5</td>\n",
       "      <td>J.K. Rowling, Mary GrandPré (Illustrator)</td>\n",
       "      <td>4.50</td>\n",
       "      <td>There is a door at the end of a silent corrido...</td>\n",
       "      <td>English</td>\n",
       "      <td>9780439358071</td>\n",
       "      <td>['Fantasy', 'Young Adult', 'Fiction', 'Magic',...</td>\n",
       "      <td>['Sirius Black', 'Draco Malfoy', 'Ron Weasley'...</td>\n",
       "      <td>...</td>\n",
       "      <td>06/21/03</td>\n",
       "      <td>['Bram Stoker Award for Works for Young Reader...</td>\n",
       "      <td>2507623</td>\n",
       "      <td>['1593642', '637516', '222366', '39573', '14526']</td>\n",
       "      <td>98.0</td>\n",
       "      <td>['Hogwarts School of Witchcraft and Wizardry (...</td>\n",
       "      <td>https://i.gr-assets.com/images/S/compressed.ph...</td>\n",
       "      <td>2632233</td>\n",
       "      <td>26923</td>\n",
       "      <td>7.38</td>\n",
       "    </tr>\n",
       "    <tr>\n",
       "      <th>2</th>\n",
       "      <td>2657.To_Kill_a_Mockingbird</td>\n",
       "      <td>To Kill a Mockingbird</td>\n",
       "      <td>To Kill a Mockingbird</td>\n",
       "      <td>Harper Lee</td>\n",
       "      <td>4.28</td>\n",
       "      <td>The unforgettable novel of a childhood in a sl...</td>\n",
       "      <td>English</td>\n",
       "      <td>9999999999999</td>\n",
       "      <td>['Classics', 'Fiction', 'Historical Fiction', ...</td>\n",
       "      <td>['Scout Finch', 'Atticus Finch', 'Jem Finch', ...</td>\n",
       "      <td>...</td>\n",
       "      <td>07/11/60</td>\n",
       "      <td>['Pulitzer Prize for Fiction (1961)', 'Audie A...</td>\n",
       "      <td>4501075</td>\n",
       "      <td>['2363896', '1333153', '573280', '149952', '80...</td>\n",
       "      <td>95.0</td>\n",
       "      <td>['Maycomb, Alabama (United States)']</td>\n",
       "      <td>https://i.gr-assets.com/images/S/compressed.ph...</td>\n",
       "      <td>2269402</td>\n",
       "      <td>23328</td>\n",
       "      <td>NaN</td>\n",
       "    </tr>\n",
       "  </tbody>\n",
       "</table>\n",
       "<p>3 rows × 25 columns</p>\n",
       "</div>"
      ],
      "text/plain": [
       "                                        bookId  \\\n",
       "0                     2767052-the-hunger-games   \n",
       "1  2.Harry_Potter_and_the_Order_of_the_Phoenix   \n",
       "2                   2657.To_Kill_a_Mockingbird   \n",
       "\n",
       "                                       title                 series  \\\n",
       "0                           The Hunger Games    The Hunger Games #1   \n",
       "1  Harry Potter and the Order of the Phoenix        Harry Potter #5   \n",
       "2                      To Kill a Mockingbird  To Kill a Mockingbird   \n",
       "\n",
       "                                      author  rating  \\\n",
       "0                            Suzanne Collins    4.33   \n",
       "1  J.K. Rowling, Mary GrandPré (Illustrator)    4.50   \n",
       "2                                 Harper Lee    4.28   \n",
       "\n",
       "                                         description language           isbn  \\\n",
       "0  WINNING MEANS FAME AND FORTUNE.LOSING MEANS CE...  English  9780439023481   \n",
       "1  There is a door at the end of a silent corrido...  English  9780439358071   \n",
       "2  The unforgettable novel of a childhood in a sl...  English  9999999999999   \n",
       "\n",
       "                                              genres  \\\n",
       "0  ['Young Adult', 'Fiction', 'Dystopia', 'Fantas...   \n",
       "1  ['Fantasy', 'Young Adult', 'Fiction', 'Magic',...   \n",
       "2  ['Classics', 'Fiction', 'Historical Fiction', ...   \n",
       "\n",
       "                                          characters  ... firstPublishDate  \\\n",
       "0  ['Katniss Everdeen', 'Peeta Mellark', 'Cato (H...  ...              NaN   \n",
       "1  ['Sirius Black', 'Draco Malfoy', 'Ron Weasley'...  ...         06/21/03   \n",
       "2  ['Scout Finch', 'Atticus Finch', 'Jem Finch', ...  ...         07/11/60   \n",
       "\n",
       "                                              awards numRatings  \\\n",
       "0  ['Locus Award Nominee for Best Young Adult Boo...    6376780   \n",
       "1  ['Bram Stoker Award for Works for Young Reader...    2507623   \n",
       "2  ['Pulitzer Prize for Fiction (1961)', 'Audie A...    4501075   \n",
       "\n",
       "                                      ratingsByStars likedPercent  \\\n",
       "0  ['3444695', '1921313', '745221', '171994', '93...         96.0   \n",
       "1  ['1593642', '637516', '222366', '39573', '14526']         98.0   \n",
       "2  ['2363896', '1333153', '573280', '149952', '80...         95.0   \n",
       "\n",
       "                                             setting  \\\n",
       "0  ['District 12, Panem', 'Capitol, Panem', 'Pane...   \n",
       "1  ['Hogwarts School of Witchcraft and Wizardry (...   \n",
       "2               ['Maycomb, Alabama (United States)']   \n",
       "\n",
       "                                            coverImg  bbeScore bbeVotes  price  \n",
       "0  https://i.gr-assets.com/images/S/compressed.ph...   2993816    30516   5.09  \n",
       "1  https://i.gr-assets.com/images/S/compressed.ph...   2632233    26923   7.38  \n",
       "2  https://i.gr-assets.com/images/S/compressed.ph...   2269402    23328    NaN  \n",
       "\n",
       "[3 rows x 25 columns]"
      ]
     },
     "execution_count": 598,
     "metadata": {},
     "output_type": "execute_result"
    }
   ],
   "source": [
    "df_BestBooks=pd.read_csv('BestBooks.csv')\n",
    "df_BestBooks.head(3)"
   ]
  },
  {
   "cell_type": "markdown",
   "id": "75eaf514",
   "metadata": {},
   "source": [
    "#### View Data"
   ]
  },
  {
   "cell_type": "code",
   "execution_count": 599,
   "id": "42198d5e",
   "metadata": {},
   "outputs": [
    {
     "name": "stdout",
     "output_type": "stream",
     "text": [
      "(52478, 25)\n"
     ]
    }
   ],
   "source": [
    "print(df_BestBooks.shape)"
   ]
  },
  {
   "cell_type": "markdown",
   "id": "363b7994",
   "metadata": {},
   "source": [
    "#### Find missing (null) values in the dataset"
   ]
  },
  {
   "cell_type": "code",
   "execution_count": 600,
   "id": "28fedc3e",
   "metadata": {},
   "outputs": [
    {
     "name": "stdout",
     "output_type": "stream",
     "text": [
      "Number of null values in the dataset:  bookId                  0\n",
      "title                   0\n",
      "series              29008\n",
      "author                  0\n",
      "rating                  0\n",
      "description          1338\n",
      "language             3806\n",
      "isbn                    0\n",
      "genres                  0\n",
      "characters              0\n",
      "bookFormat           1473\n",
      "edition             47523\n",
      "pages                2347\n",
      "publisher            3696\n",
      "publishDate           880\n",
      "firstPublishDate    21326\n",
      "awards                  0\n",
      "numRatings              0\n",
      "ratingsByStars          0\n",
      "likedPercent          622\n",
      "setting                 0\n",
      "coverImg              605\n",
      "bbeScore                0\n",
      "bbeVotes                0\n",
      "price               14365\n",
      "dtype: int64\n"
     ]
    }
   ],
   "source": [
    "null = df_BestBooks.isna().sum()\n",
    "print(\"Number of null values in the dataset: \", null)"
   ]
  },
  {
   "cell_type": "markdown",
   "id": "9b55c573",
   "metadata": {},
   "source": [
    "### Dropping unwanted columns"
   ]
  },
  {
   "cell_type": "code",
   "execution_count": 601,
   "id": "72f8ef9c",
   "metadata": {},
   "outputs": [],
   "source": [
    "df_BestBooks = df_BestBooks.drop(columns = ['series', 'description', 'language', 'bookFormat',  'edition', \n",
    "                                            'pages', 'publisher', 'publishDate', 'firstPublishDate', 'coverImg'])"
   ]
  },
  {
   "cell_type": "code",
   "execution_count": 602,
   "id": "b55eed66",
   "metadata": {},
   "outputs": [
    {
     "name": "stdout",
     "output_type": "stream",
     "text": [
      "Number of null values in the dataset are null:  bookId                0\n",
      "title                 0\n",
      "author                0\n",
      "rating                0\n",
      "isbn                  0\n",
      "genres                0\n",
      "characters            0\n",
      "awards                0\n",
      "numRatings            0\n",
      "ratingsByStars        0\n",
      "likedPercent        622\n",
      "setting               0\n",
      "bbeScore              0\n",
      "bbeVotes              0\n",
      "price             14365\n",
      "dtype: int64\n"
     ]
    }
   ],
   "source": [
    "null = df_BestBooks.isnull().sum()\n",
    "print(\"Number of null values in the dataset are null: \", null)"
   ]
  },
  {
   "cell_type": "code",
   "execution_count": 603,
   "id": "f9a14014",
   "metadata": {},
   "outputs": [
    {
     "data": {
      "text/html": [
       "<div>\n",
       "<style scoped>\n",
       "    .dataframe tbody tr th:only-of-type {\n",
       "        vertical-align: middle;\n",
       "    }\n",
       "\n",
       "    .dataframe tbody tr th {\n",
       "        vertical-align: top;\n",
       "    }\n",
       "\n",
       "    .dataframe thead th {\n",
       "        text-align: right;\n",
       "    }\n",
       "</style>\n",
       "<table border=\"1\" class=\"dataframe\">\n",
       "  <thead>\n",
       "    <tr style=\"text-align: right;\">\n",
       "      <th></th>\n",
       "      <th>bookId</th>\n",
       "      <th>title</th>\n",
       "      <th>author</th>\n",
       "      <th>rating</th>\n",
       "      <th>isbn</th>\n",
       "      <th>genres</th>\n",
       "      <th>characters</th>\n",
       "      <th>awards</th>\n",
       "      <th>numRatings</th>\n",
       "      <th>ratingsByStars</th>\n",
       "      <th>likedPercent</th>\n",
       "      <th>setting</th>\n",
       "      <th>bbeScore</th>\n",
       "      <th>bbeVotes</th>\n",
       "      <th>price</th>\n",
       "    </tr>\n",
       "  </thead>\n",
       "  <tbody>\n",
       "    <tr>\n",
       "      <th>0</th>\n",
       "      <td>2767052-the-hunger-games</td>\n",
       "      <td>The Hunger Games</td>\n",
       "      <td>Suzanne Collins</td>\n",
       "      <td>4.33</td>\n",
       "      <td>9780439023481</td>\n",
       "      <td>['Young Adult', 'Fiction', 'Dystopia', 'Fantas...</td>\n",
       "      <td>['Katniss Everdeen', 'Peeta Mellark', 'Cato (H...</td>\n",
       "      <td>['Locus Award Nominee for Best Young Adult Boo...</td>\n",
       "      <td>6376780</td>\n",
       "      <td>['3444695', '1921313', '745221', '171994', '93...</td>\n",
       "      <td>96.0</td>\n",
       "      <td>['District 12, Panem', 'Capitol, Panem', 'Pane...</td>\n",
       "      <td>2993816</td>\n",
       "      <td>30516</td>\n",
       "      <td>5.09</td>\n",
       "    </tr>\n",
       "    <tr>\n",
       "      <th>1</th>\n",
       "      <td>2.Harry_Potter_and_the_Order_of_the_Phoenix</td>\n",
       "      <td>Harry Potter and the Order of the Phoenix</td>\n",
       "      <td>J.K. Rowling, Mary GrandPré (Illustrator)</td>\n",
       "      <td>4.50</td>\n",
       "      <td>9780439358071</td>\n",
       "      <td>['Fantasy', 'Young Adult', 'Fiction', 'Magic',...</td>\n",
       "      <td>['Sirius Black', 'Draco Malfoy', 'Ron Weasley'...</td>\n",
       "      <td>['Bram Stoker Award for Works for Young Reader...</td>\n",
       "      <td>2507623</td>\n",
       "      <td>['1593642', '637516', '222366', '39573', '14526']</td>\n",
       "      <td>98.0</td>\n",
       "      <td>['Hogwarts School of Witchcraft and Wizardry (...</td>\n",
       "      <td>2632233</td>\n",
       "      <td>26923</td>\n",
       "      <td>7.38</td>\n",
       "    </tr>\n",
       "    <tr>\n",
       "      <th>2</th>\n",
       "      <td>2657.To_Kill_a_Mockingbird</td>\n",
       "      <td>To Kill a Mockingbird</td>\n",
       "      <td>Harper Lee</td>\n",
       "      <td>4.28</td>\n",
       "      <td>9999999999999</td>\n",
       "      <td>['Classics', 'Fiction', 'Historical Fiction', ...</td>\n",
       "      <td>['Scout Finch', 'Atticus Finch', 'Jem Finch', ...</td>\n",
       "      <td>['Pulitzer Prize for Fiction (1961)', 'Audie A...</td>\n",
       "      <td>4501075</td>\n",
       "      <td>['2363896', '1333153', '573280', '149952', '80...</td>\n",
       "      <td>95.0</td>\n",
       "      <td>['Maycomb, Alabama (United States)']</td>\n",
       "      <td>2269402</td>\n",
       "      <td>23328</td>\n",
       "      <td>NaN</td>\n",
       "    </tr>\n",
       "  </tbody>\n",
       "</table>\n",
       "</div>"
      ],
      "text/plain": [
       "                                        bookId  \\\n",
       "0                     2767052-the-hunger-games   \n",
       "1  2.Harry_Potter_and_the_Order_of_the_Phoenix   \n",
       "2                   2657.To_Kill_a_Mockingbird   \n",
       "\n",
       "                                       title  \\\n",
       "0                           The Hunger Games   \n",
       "1  Harry Potter and the Order of the Phoenix   \n",
       "2                      To Kill a Mockingbird   \n",
       "\n",
       "                                      author  rating           isbn  \\\n",
       "0                            Suzanne Collins    4.33  9780439023481   \n",
       "1  J.K. Rowling, Mary GrandPré (Illustrator)    4.50  9780439358071   \n",
       "2                                 Harper Lee    4.28  9999999999999   \n",
       "\n",
       "                                              genres  \\\n",
       "0  ['Young Adult', 'Fiction', 'Dystopia', 'Fantas...   \n",
       "1  ['Fantasy', 'Young Adult', 'Fiction', 'Magic',...   \n",
       "2  ['Classics', 'Fiction', 'Historical Fiction', ...   \n",
       "\n",
       "                                          characters  \\\n",
       "0  ['Katniss Everdeen', 'Peeta Mellark', 'Cato (H...   \n",
       "1  ['Sirius Black', 'Draco Malfoy', 'Ron Weasley'...   \n",
       "2  ['Scout Finch', 'Atticus Finch', 'Jem Finch', ...   \n",
       "\n",
       "                                              awards  numRatings  \\\n",
       "0  ['Locus Award Nominee for Best Young Adult Boo...     6376780   \n",
       "1  ['Bram Stoker Award for Works for Young Reader...     2507623   \n",
       "2  ['Pulitzer Prize for Fiction (1961)', 'Audie A...     4501075   \n",
       "\n",
       "                                      ratingsByStars  likedPercent  \\\n",
       "0  ['3444695', '1921313', '745221', '171994', '93...          96.0   \n",
       "1  ['1593642', '637516', '222366', '39573', '14526']          98.0   \n",
       "2  ['2363896', '1333153', '573280', '149952', '80...          95.0   \n",
       "\n",
       "                                             setting  bbeScore  bbeVotes price  \n",
       "0  ['District 12, Panem', 'Capitol, Panem', 'Pane...   2993816     30516  5.09  \n",
       "1  ['Hogwarts School of Witchcraft and Wizardry (...   2632233     26923  7.38  \n",
       "2               ['Maycomb, Alabama (United States)']   2269402     23328   NaN  "
      ]
     },
     "execution_count": 603,
     "metadata": {},
     "output_type": "execute_result"
    }
   ],
   "source": [
    "df_BestBooks.head(3)"
   ]
  },
  {
   "cell_type": "markdown",
   "id": "e7eb052d",
   "metadata": {},
   "source": [
    "### Drop rows with missing \"price\" and \"likedPercent\" "
   ]
  },
  {
   "cell_type": "code",
   "execution_count": 604,
   "id": "ca2b7e79",
   "metadata": {},
   "outputs": [],
   "source": [
    "df_BestBooks.dropna(axis=0, inplace=True)"
   ]
  },
  {
   "cell_type": "code",
   "execution_count": 605,
   "id": "d98667c8",
   "metadata": {},
   "outputs": [
    {
     "name": "stdout",
     "output_type": "stream",
     "text": [
      "Number of null values in the dataset are null:  bookId            0\n",
      "title             0\n",
      "author            0\n",
      "rating            0\n",
      "isbn              0\n",
      "genres            0\n",
      "characters        0\n",
      "awards            0\n",
      "numRatings        0\n",
      "ratingsByStars    0\n",
      "likedPercent      0\n",
      "setting           0\n",
      "bbeScore          0\n",
      "bbeVotes          0\n",
      "price             0\n",
      "dtype: int64\n"
     ]
    }
   ],
   "source": [
    "null = df_BestBooks.isna().sum()\n",
    "print(\"Number of null values in the dataset are null: \", null)"
   ]
  },
  {
   "cell_type": "code",
   "execution_count": 606,
   "id": "63e618ea",
   "metadata": {},
   "outputs": [
    {
     "name": "stdout",
     "output_type": "stream",
     "text": [
      "(37901, 15)\n"
     ]
    }
   ],
   "source": [
    "print(df_BestBooks.shape)"
   ]
  },
  {
   "cell_type": "code",
   "execution_count": 607,
   "id": "d84236a4",
   "metadata": {
    "scrolled": true
   },
   "outputs": [
    {
     "data": {
      "text/html": [
       "<div>\n",
       "<style scoped>\n",
       "    .dataframe tbody tr th:only-of-type {\n",
       "        vertical-align: middle;\n",
       "    }\n",
       "\n",
       "    .dataframe tbody tr th {\n",
       "        vertical-align: top;\n",
       "    }\n",
       "\n",
       "    .dataframe thead th {\n",
       "        text-align: right;\n",
       "    }\n",
       "</style>\n",
       "<table border=\"1\" class=\"dataframe\">\n",
       "  <thead>\n",
       "    <tr style=\"text-align: right;\">\n",
       "      <th></th>\n",
       "      <th>bookId</th>\n",
       "      <th>title</th>\n",
       "      <th>author</th>\n",
       "      <th>rating</th>\n",
       "      <th>isbn</th>\n",
       "      <th>genres</th>\n",
       "      <th>characters</th>\n",
       "      <th>awards</th>\n",
       "      <th>numRatings</th>\n",
       "      <th>ratingsByStars</th>\n",
       "      <th>likedPercent</th>\n",
       "      <th>setting</th>\n",
       "      <th>bbeScore</th>\n",
       "      <th>bbeVotes</th>\n",
       "      <th>price</th>\n",
       "    </tr>\n",
       "  </thead>\n",
       "  <tbody>\n",
       "    <tr>\n",
       "      <th>0</th>\n",
       "      <td>2767052-the-hunger-games</td>\n",
       "      <td>The Hunger Games</td>\n",
       "      <td>Suzanne Collins</td>\n",
       "      <td>4.33</td>\n",
       "      <td>9780439023481</td>\n",
       "      <td>['Young Adult', 'Fiction', 'Dystopia', 'Fantas...</td>\n",
       "      <td>['Katniss Everdeen', 'Peeta Mellark', 'Cato (H...</td>\n",
       "      <td>['Locus Award Nominee for Best Young Adult Boo...</td>\n",
       "      <td>6376780</td>\n",
       "      <td>['3444695', '1921313', '745221', '171994', '93...</td>\n",
       "      <td>96.0</td>\n",
       "      <td>['District 12, Panem', 'Capitol, Panem', 'Pane...</td>\n",
       "      <td>2993816</td>\n",
       "      <td>30516</td>\n",
       "      <td>5.09</td>\n",
       "    </tr>\n",
       "    <tr>\n",
       "      <th>1</th>\n",
       "      <td>2.Harry_Potter_and_the_Order_of_the_Phoenix</td>\n",
       "      <td>Harry Potter and the Order of the Phoenix</td>\n",
       "      <td>J.K. Rowling, Mary GrandPré (Illustrator)</td>\n",
       "      <td>4.50</td>\n",
       "      <td>9780439358071</td>\n",
       "      <td>['Fantasy', 'Young Adult', 'Fiction', 'Magic',...</td>\n",
       "      <td>['Sirius Black', 'Draco Malfoy', 'Ron Weasley'...</td>\n",
       "      <td>['Bram Stoker Award for Works for Young Reader...</td>\n",
       "      <td>2507623</td>\n",
       "      <td>['1593642', '637516', '222366', '39573', '14526']</td>\n",
       "      <td>98.0</td>\n",
       "      <td>['Hogwarts School of Witchcraft and Wizardry (...</td>\n",
       "      <td>2632233</td>\n",
       "      <td>26923</td>\n",
       "      <td>7.38</td>\n",
       "    </tr>\n",
       "    <tr>\n",
       "      <th>4</th>\n",
       "      <td>41865.Twilight</td>\n",
       "      <td>Twilight</td>\n",
       "      <td>Stephenie Meyer</td>\n",
       "      <td>3.60</td>\n",
       "      <td>9780316015844</td>\n",
       "      <td>['Young Adult', 'Fantasy', 'Romance', 'Vampire...</td>\n",
       "      <td>['Edward Cullen', 'Jacob Black', 'Laurent', 'R...</td>\n",
       "      <td>['Georgia Peach Book Award (2007)', 'Buxtehude...</td>\n",
       "      <td>4964519</td>\n",
       "      <td>['1751460', '1113682', '1008686', '542017', '5...</td>\n",
       "      <td>78.0</td>\n",
       "      <td>['Forks, Washington (United States)', 'Phoenix...</td>\n",
       "      <td>1459448</td>\n",
       "      <td>14874</td>\n",
       "      <td>2.1</td>\n",
       "    </tr>\n",
       "  </tbody>\n",
       "</table>\n",
       "</div>"
      ],
      "text/plain": [
       "                                        bookId  \\\n",
       "0                     2767052-the-hunger-games   \n",
       "1  2.Harry_Potter_and_the_Order_of_the_Phoenix   \n",
       "4                               41865.Twilight   \n",
       "\n",
       "                                       title  \\\n",
       "0                           The Hunger Games   \n",
       "1  Harry Potter and the Order of the Phoenix   \n",
       "4                                   Twilight   \n",
       "\n",
       "                                      author  rating           isbn  \\\n",
       "0                            Suzanne Collins    4.33  9780439023481   \n",
       "1  J.K. Rowling, Mary GrandPré (Illustrator)    4.50  9780439358071   \n",
       "4                            Stephenie Meyer    3.60  9780316015844   \n",
       "\n",
       "                                              genres  \\\n",
       "0  ['Young Adult', 'Fiction', 'Dystopia', 'Fantas...   \n",
       "1  ['Fantasy', 'Young Adult', 'Fiction', 'Magic',...   \n",
       "4  ['Young Adult', 'Fantasy', 'Romance', 'Vampire...   \n",
       "\n",
       "                                          characters  \\\n",
       "0  ['Katniss Everdeen', 'Peeta Mellark', 'Cato (H...   \n",
       "1  ['Sirius Black', 'Draco Malfoy', 'Ron Weasley'...   \n",
       "4  ['Edward Cullen', 'Jacob Black', 'Laurent', 'R...   \n",
       "\n",
       "                                              awards  numRatings  \\\n",
       "0  ['Locus Award Nominee for Best Young Adult Boo...     6376780   \n",
       "1  ['Bram Stoker Award for Works for Young Reader...     2507623   \n",
       "4  ['Georgia Peach Book Award (2007)', 'Buxtehude...     4964519   \n",
       "\n",
       "                                      ratingsByStars  likedPercent  \\\n",
       "0  ['3444695', '1921313', '745221', '171994', '93...          96.0   \n",
       "1  ['1593642', '637516', '222366', '39573', '14526']          98.0   \n",
       "4  ['1751460', '1113682', '1008686', '542017', '5...          78.0   \n",
       "\n",
       "                                             setting  bbeScore  bbeVotes price  \n",
       "0  ['District 12, Panem', 'Capitol, Panem', 'Pane...   2993816     30516  5.09  \n",
       "1  ['Hogwarts School of Witchcraft and Wizardry (...   2632233     26923  7.38  \n",
       "4  ['Forks, Washington (United States)', 'Phoenix...   1459448     14874   2.1  "
      ]
     },
     "execution_count": 607,
     "metadata": {},
     "output_type": "execute_result"
    }
   ],
   "source": [
    "df_BestBooks.head(3)"
   ]
  },
  {
   "cell_type": "markdown",
   "id": "49bac966",
   "metadata": {},
   "source": [
    "### Merging - Is in the complimentary notebook for Merging"
   ]
  },
  {
   "cell_type": "markdown",
   "id": "a661dffb",
   "metadata": {},
   "source": [
    "### Iterators - Is in the complimentary notebook for Web-scraping"
   ]
  },
  {
   "cell_type": "markdown",
   "id": "7c145a5f",
   "metadata": {},
   "source": [
    "### Lists / RegEx"
   ]
  },
  {
   "cell_type": "markdown",
   "id": "95e01ff3",
   "metadata": {},
   "source": [
    "### Awards column is in a list format, convert to string and count awards"
   ]
  },
  {
   "cell_type": "code",
   "execution_count": 608,
   "id": "6cf5fbef",
   "metadata": {},
   "outputs": [],
   "source": [
    "df_BestBooks ['awards'] = df_BestBooks['awards'].str.replace(r'\\W',\"\", regex=True)"
   ]
  },
  {
   "cell_type": "code",
   "execution_count": 609,
   "id": "2de9db76",
   "metadata": {},
   "outputs": [
    {
     "data": {
      "text/html": [
       "<div>\n",
       "<style scoped>\n",
       "    .dataframe tbody tr th:only-of-type {\n",
       "        vertical-align: middle;\n",
       "    }\n",
       "\n",
       "    .dataframe tbody tr th {\n",
       "        vertical-align: top;\n",
       "    }\n",
       "\n",
       "    .dataframe thead th {\n",
       "        text-align: right;\n",
       "    }\n",
       "</style>\n",
       "<table border=\"1\" class=\"dataframe\">\n",
       "  <thead>\n",
       "    <tr style=\"text-align: right;\">\n",
       "      <th></th>\n",
       "      <th>bookId</th>\n",
       "      <th>title</th>\n",
       "      <th>author</th>\n",
       "      <th>rating</th>\n",
       "      <th>isbn</th>\n",
       "      <th>genres</th>\n",
       "      <th>characters</th>\n",
       "      <th>awards</th>\n",
       "      <th>numRatings</th>\n",
       "      <th>ratingsByStars</th>\n",
       "      <th>likedPercent</th>\n",
       "      <th>setting</th>\n",
       "      <th>bbeScore</th>\n",
       "      <th>bbeVotes</th>\n",
       "      <th>price</th>\n",
       "    </tr>\n",
       "  </thead>\n",
       "  <tbody>\n",
       "    <tr>\n",
       "      <th>0</th>\n",
       "      <td>2767052-the-hunger-games</td>\n",
       "      <td>The Hunger Games</td>\n",
       "      <td>Suzanne Collins</td>\n",
       "      <td>4.33</td>\n",
       "      <td>9780439023481</td>\n",
       "      <td>['Young Adult', 'Fiction', 'Dystopia', 'Fantas...</td>\n",
       "      <td>['Katniss Everdeen', 'Peeta Mellark', 'Cato (H...</td>\n",
       "      <td>LocusAwardNomineeforBestYoungAdultBook2009Geor...</td>\n",
       "      <td>6376780</td>\n",
       "      <td>['3444695', '1921313', '745221', '171994', '93...</td>\n",
       "      <td>96.0</td>\n",
       "      <td>['District 12, Panem', 'Capitol, Panem', 'Pane...</td>\n",
       "      <td>2993816</td>\n",
       "      <td>30516</td>\n",
       "      <td>5.09</td>\n",
       "    </tr>\n",
       "    <tr>\n",
       "      <th>1</th>\n",
       "      <td>2.Harry_Potter_and_the_Order_of_the_Phoenix</td>\n",
       "      <td>Harry Potter and the Order of the Phoenix</td>\n",
       "      <td>J.K. Rowling, Mary GrandPré (Illustrator)</td>\n",
       "      <td>4.50</td>\n",
       "      <td>9780439358071</td>\n",
       "      <td>['Fantasy', 'Young Adult', 'Fiction', 'Magic',...</td>\n",
       "      <td>['Sirius Black', 'Draco Malfoy', 'Ron Weasley'...</td>\n",
       "      <td>BramStokerAwardforWorksforYoungReaders2003Anth...</td>\n",
       "      <td>2507623</td>\n",
       "      <td>['1593642', '637516', '222366', '39573', '14526']</td>\n",
       "      <td>98.0</td>\n",
       "      <td>['Hogwarts School of Witchcraft and Wizardry (...</td>\n",
       "      <td>2632233</td>\n",
       "      <td>26923</td>\n",
       "      <td>7.38</td>\n",
       "    </tr>\n",
       "    <tr>\n",
       "      <th>4</th>\n",
       "      <td>41865.Twilight</td>\n",
       "      <td>Twilight</td>\n",
       "      <td>Stephenie Meyer</td>\n",
       "      <td>3.60</td>\n",
       "      <td>9780316015844</td>\n",
       "      <td>['Young Adult', 'Fantasy', 'Romance', 'Vampire...</td>\n",
       "      <td>['Edward Cullen', 'Jacob Black', 'Laurent', 'R...</td>\n",
       "      <td>GeorgiaPeachBookAward2007BuxtehuderBulle2006Ke...</td>\n",
       "      <td>4964519</td>\n",
       "      <td>['1751460', '1113682', '1008686', '542017', '5...</td>\n",
       "      <td>78.0</td>\n",
       "      <td>['Forks, Washington (United States)', 'Phoenix...</td>\n",
       "      <td>1459448</td>\n",
       "      <td>14874</td>\n",
       "      <td>2.1</td>\n",
       "    </tr>\n",
       "  </tbody>\n",
       "</table>\n",
       "</div>"
      ],
      "text/plain": [
       "                                        bookId  \\\n",
       "0                     2767052-the-hunger-games   \n",
       "1  2.Harry_Potter_and_the_Order_of_the_Phoenix   \n",
       "4                               41865.Twilight   \n",
       "\n",
       "                                       title  \\\n",
       "0                           The Hunger Games   \n",
       "1  Harry Potter and the Order of the Phoenix   \n",
       "4                                   Twilight   \n",
       "\n",
       "                                      author  rating           isbn  \\\n",
       "0                            Suzanne Collins    4.33  9780439023481   \n",
       "1  J.K. Rowling, Mary GrandPré (Illustrator)    4.50  9780439358071   \n",
       "4                            Stephenie Meyer    3.60  9780316015844   \n",
       "\n",
       "                                              genres  \\\n",
       "0  ['Young Adult', 'Fiction', 'Dystopia', 'Fantas...   \n",
       "1  ['Fantasy', 'Young Adult', 'Fiction', 'Magic',...   \n",
       "4  ['Young Adult', 'Fantasy', 'Romance', 'Vampire...   \n",
       "\n",
       "                                          characters  \\\n",
       "0  ['Katniss Everdeen', 'Peeta Mellark', 'Cato (H...   \n",
       "1  ['Sirius Black', 'Draco Malfoy', 'Ron Weasley'...   \n",
       "4  ['Edward Cullen', 'Jacob Black', 'Laurent', 'R...   \n",
       "\n",
       "                                              awards  numRatings  \\\n",
       "0  LocusAwardNomineeforBestYoungAdultBook2009Geor...     6376780   \n",
       "1  BramStokerAwardforWorksforYoungReaders2003Anth...     2507623   \n",
       "4  GeorgiaPeachBookAward2007BuxtehuderBulle2006Ke...     4964519   \n",
       "\n",
       "                                      ratingsByStars  likedPercent  \\\n",
       "0  ['3444695', '1921313', '745221', '171994', '93...          96.0   \n",
       "1  ['1593642', '637516', '222366', '39573', '14526']          98.0   \n",
       "4  ['1751460', '1113682', '1008686', '542017', '5...          78.0   \n",
       "\n",
       "                                             setting  bbeScore  bbeVotes price  \n",
       "0  ['District 12, Panem', 'Capitol, Panem', 'Pane...   2993816     30516  5.09  \n",
       "1  ['Hogwarts School of Witchcraft and Wizardry (...   2632233     26923  7.38  \n",
       "4  ['Forks, Washington (United States)', 'Phoenix...   1459448     14874   2.1  "
      ]
     },
     "execution_count": 609,
     "metadata": {},
     "output_type": "execute_result"
    }
   ],
   "source": [
    "df_BestBooks.head(3)"
   ]
  },
  {
   "cell_type": "code",
   "execution_count": 610,
   "id": "43c500ab",
   "metadata": {},
   "outputs": [
    {
     "data": {
      "text/plain": [
       "0        LocusAwardNomineeforBestYoungAdultBook2009Geor...\n",
       "1        BramStokerAwardforWorksforYoungReaders2003Anth...\n",
       "4        GeorgiaPeachBookAward2007BuxtehuderBulle2006Ke...\n",
       "5        NationalJewishBookAwardforChildrensandYoungAdu...\n",
       "6        PrometheusHallofFameAward2011RetroHugoAwardfor...\n",
       "                               ...                        \n",
       "52470    HOLTMedallionbyVirginiaRomanceWritersNomineefo...\n",
       "52472                                                     \n",
       "52475                         ReadersFavoriteBookAward2011\n",
       "52476                                                     \n",
       "52477                                                     \n",
       "Name: awards, Length: 37901, dtype: object"
      ]
     },
     "execution_count": 610,
     "metadata": {},
     "output_type": "execute_result"
    }
   ],
   "source": [
    "df_BestBooks['awards']"
   ]
  },
  {
   "cell_type": "code",
   "execution_count": 611,
   "id": "538f3f3d",
   "metadata": {},
   "outputs": [],
   "source": [
    "df_BestBooks['Award_Count'] = df_BestBooks['awards'].apply(lambda n: len(n.split(',')))"
   ]
  },
  {
   "cell_type": "code",
   "execution_count": 612,
   "id": "c0978b30",
   "metadata": {},
   "outputs": [
    {
     "data": {
      "text/plain": [
       "0        1\n",
       "1        1\n",
       "4        1\n",
       "5        1\n",
       "6        1\n",
       "        ..\n",
       "52470    1\n",
       "52472    1\n",
       "52475    1\n",
       "52476    1\n",
       "52477    1\n",
       "Name: Award_Count, Length: 37901, dtype: int64"
      ]
     },
     "execution_count": 612,
     "metadata": {},
     "output_type": "execute_result"
    }
   ],
   "source": [
    "df_BestBooks['Award_Count']"
   ]
  },
  {
   "cell_type": "code",
   "execution_count": 613,
   "id": "6710a373",
   "metadata": {},
   "outputs": [
    {
     "data": {
      "text/html": [
       "<div>\n",
       "<style scoped>\n",
       "    .dataframe tbody tr th:only-of-type {\n",
       "        vertical-align: middle;\n",
       "    }\n",
       "\n",
       "    .dataframe tbody tr th {\n",
       "        vertical-align: top;\n",
       "    }\n",
       "\n",
       "    .dataframe thead th {\n",
       "        text-align: right;\n",
       "    }\n",
       "</style>\n",
       "<table border=\"1\" class=\"dataframe\">\n",
       "  <thead>\n",
       "    <tr style=\"text-align: right;\">\n",
       "      <th></th>\n",
       "      <th>bookId</th>\n",
       "      <th>title</th>\n",
       "      <th>author</th>\n",
       "      <th>rating</th>\n",
       "      <th>isbn</th>\n",
       "      <th>genres</th>\n",
       "      <th>characters</th>\n",
       "      <th>awards</th>\n",
       "      <th>numRatings</th>\n",
       "      <th>ratingsByStars</th>\n",
       "      <th>likedPercent</th>\n",
       "      <th>setting</th>\n",
       "      <th>bbeScore</th>\n",
       "      <th>bbeVotes</th>\n",
       "      <th>price</th>\n",
       "      <th>Award_Count</th>\n",
       "    </tr>\n",
       "  </thead>\n",
       "  <tbody>\n",
       "    <tr>\n",
       "      <th>0</th>\n",
       "      <td>2767052-the-hunger-games</td>\n",
       "      <td>The Hunger Games</td>\n",
       "      <td>Suzanne Collins</td>\n",
       "      <td>4.33</td>\n",
       "      <td>9780439023481</td>\n",
       "      <td>['Young Adult', 'Fiction', 'Dystopia', 'Fantas...</td>\n",
       "      <td>['Katniss Everdeen', 'Peeta Mellark', 'Cato (H...</td>\n",
       "      <td>LocusAwardNomineeforBestYoungAdultBook2009Geor...</td>\n",
       "      <td>6376780</td>\n",
       "      <td>['3444695', '1921313', '745221', '171994', '93...</td>\n",
       "      <td>96.0</td>\n",
       "      <td>['District 12, Panem', 'Capitol, Panem', 'Pane...</td>\n",
       "      <td>2993816</td>\n",
       "      <td>30516</td>\n",
       "      <td>5.09</td>\n",
       "      <td>1</td>\n",
       "    </tr>\n",
       "    <tr>\n",
       "      <th>1</th>\n",
       "      <td>2.Harry_Potter_and_the_Order_of_the_Phoenix</td>\n",
       "      <td>Harry Potter and the Order of the Phoenix</td>\n",
       "      <td>J.K. Rowling, Mary GrandPré (Illustrator)</td>\n",
       "      <td>4.50</td>\n",
       "      <td>9780439358071</td>\n",
       "      <td>['Fantasy', 'Young Adult', 'Fiction', 'Magic',...</td>\n",
       "      <td>['Sirius Black', 'Draco Malfoy', 'Ron Weasley'...</td>\n",
       "      <td>BramStokerAwardforWorksforYoungReaders2003Anth...</td>\n",
       "      <td>2507623</td>\n",
       "      <td>['1593642', '637516', '222366', '39573', '14526']</td>\n",
       "      <td>98.0</td>\n",
       "      <td>['Hogwarts School of Witchcraft and Wizardry (...</td>\n",
       "      <td>2632233</td>\n",
       "      <td>26923</td>\n",
       "      <td>7.38</td>\n",
       "      <td>1</td>\n",
       "    </tr>\n",
       "    <tr>\n",
       "      <th>4</th>\n",
       "      <td>41865.Twilight</td>\n",
       "      <td>Twilight</td>\n",
       "      <td>Stephenie Meyer</td>\n",
       "      <td>3.60</td>\n",
       "      <td>9780316015844</td>\n",
       "      <td>['Young Adult', 'Fantasy', 'Romance', 'Vampire...</td>\n",
       "      <td>['Edward Cullen', 'Jacob Black', 'Laurent', 'R...</td>\n",
       "      <td>GeorgiaPeachBookAward2007BuxtehuderBulle2006Ke...</td>\n",
       "      <td>4964519</td>\n",
       "      <td>['1751460', '1113682', '1008686', '542017', '5...</td>\n",
       "      <td>78.0</td>\n",
       "      <td>['Forks, Washington (United States)', 'Phoenix...</td>\n",
       "      <td>1459448</td>\n",
       "      <td>14874</td>\n",
       "      <td>2.1</td>\n",
       "      <td>1</td>\n",
       "    </tr>\n",
       "  </tbody>\n",
       "</table>\n",
       "</div>"
      ],
      "text/plain": [
       "                                        bookId  \\\n",
       "0                     2767052-the-hunger-games   \n",
       "1  2.Harry_Potter_and_the_Order_of_the_Phoenix   \n",
       "4                               41865.Twilight   \n",
       "\n",
       "                                       title  \\\n",
       "0                           The Hunger Games   \n",
       "1  Harry Potter and the Order of the Phoenix   \n",
       "4                                   Twilight   \n",
       "\n",
       "                                      author  rating           isbn  \\\n",
       "0                            Suzanne Collins    4.33  9780439023481   \n",
       "1  J.K. Rowling, Mary GrandPré (Illustrator)    4.50  9780439358071   \n",
       "4                            Stephenie Meyer    3.60  9780316015844   \n",
       "\n",
       "                                              genres  \\\n",
       "0  ['Young Adult', 'Fiction', 'Dystopia', 'Fantas...   \n",
       "1  ['Fantasy', 'Young Adult', 'Fiction', 'Magic',...   \n",
       "4  ['Young Adult', 'Fantasy', 'Romance', 'Vampire...   \n",
       "\n",
       "                                          characters  \\\n",
       "0  ['Katniss Everdeen', 'Peeta Mellark', 'Cato (H...   \n",
       "1  ['Sirius Black', 'Draco Malfoy', 'Ron Weasley'...   \n",
       "4  ['Edward Cullen', 'Jacob Black', 'Laurent', 'R...   \n",
       "\n",
       "                                              awards  numRatings  \\\n",
       "0  LocusAwardNomineeforBestYoungAdultBook2009Geor...     6376780   \n",
       "1  BramStokerAwardforWorksforYoungReaders2003Anth...     2507623   \n",
       "4  GeorgiaPeachBookAward2007BuxtehuderBulle2006Ke...     4964519   \n",
       "\n",
       "                                      ratingsByStars  likedPercent  \\\n",
       "0  ['3444695', '1921313', '745221', '171994', '93...          96.0   \n",
       "1  ['1593642', '637516', '222366', '39573', '14526']          98.0   \n",
       "4  ['1751460', '1113682', '1008686', '542017', '5...          78.0   \n",
       "\n",
       "                                             setting  bbeScore  bbeVotes  \\\n",
       "0  ['District 12, Panem', 'Capitol, Panem', 'Pane...   2993816     30516   \n",
       "1  ['Hogwarts School of Witchcraft and Wizardry (...   2632233     26923   \n",
       "4  ['Forks, Washington (United States)', 'Phoenix...   1459448     14874   \n",
       "\n",
       "  price  Award_Count  \n",
       "0  5.09            1  \n",
       "1  7.38            1  \n",
       "4   2.1            1  "
      ]
     },
     "execution_count": 613,
     "metadata": {},
     "output_type": "execute_result"
    }
   ],
   "source": [
    "df_BestBooks.head(3)"
   ]
  },
  {
   "cell_type": "markdown",
   "id": "41aa0c8b",
   "metadata": {},
   "source": [
    "### RegEx - Further example is in the complimentary notebook forRegEx"
   ]
  },
  {
   "cell_type": "markdown",
   "id": "0e6d3ecc",
   "metadata": {},
   "source": [
    "### Split genres column (list) into string. "
   ]
  },
  {
   "cell_type": "code",
   "execution_count": 614,
   "id": "cf672027",
   "metadata": {},
   "outputs": [
    {
     "data": {
      "text/html": [
       "<div>\n",
       "<style scoped>\n",
       "    .dataframe tbody tr th:only-of-type {\n",
       "        vertical-align: middle;\n",
       "    }\n",
       "\n",
       "    .dataframe tbody tr th {\n",
       "        vertical-align: top;\n",
       "    }\n",
       "\n",
       "    .dataframe thead th {\n",
       "        text-align: right;\n",
       "    }\n",
       "</style>\n",
       "<table border=\"1\" class=\"dataframe\">\n",
       "  <thead>\n",
       "    <tr style=\"text-align: right;\">\n",
       "      <th></th>\n",
       "      <th>new_genre</th>\n",
       "      <th>restof_genre</th>\n",
       "    </tr>\n",
       "  </thead>\n",
       "  <tbody>\n",
       "    <tr>\n",
       "      <th>0</th>\n",
       "      <td>['Young Adult'</td>\n",
       "      <td>'Fiction', 'Dystopia', 'Fantasy', 'Science Fi...</td>\n",
       "    </tr>\n",
       "    <tr>\n",
       "      <th>1</th>\n",
       "      <td>['Fantasy'</td>\n",
       "      <td>'Young Adult', 'Fiction', 'Magic', 'Childrens...</td>\n",
       "    </tr>\n",
       "    <tr>\n",
       "      <th>4</th>\n",
       "      <td>['Young Adult'</td>\n",
       "      <td>'Fantasy', 'Romance', 'Vampires', 'Fiction', ...</td>\n",
       "    </tr>\n",
       "    <tr>\n",
       "      <th>5</th>\n",
       "      <td>['Historical Fiction'</td>\n",
       "      <td>'Fiction', 'Young Adult', 'Historical', 'Clas...</td>\n",
       "    </tr>\n",
       "    <tr>\n",
       "      <th>6</th>\n",
       "      <td>['Classics'</td>\n",
       "      <td>'Fiction', 'Dystopia', 'Fantasy', 'Literature...</td>\n",
       "    </tr>\n",
       "    <tr>\n",
       "      <th>...</th>\n",
       "      <td>...</td>\n",
       "      <td>...</td>\n",
       "    </tr>\n",
       "    <tr>\n",
       "      <th>52470</th>\n",
       "      <td>['Christian Fiction'</td>\n",
       "      <td>'Christian', 'Suspense', 'Romance', 'Mystery'...</td>\n",
       "    </tr>\n",
       "    <tr>\n",
       "      <th>52472</th>\n",
       "      <td>['Romance'</td>\n",
       "      <td>'Young Adult', 'Contemporary', 'Contemporary ...</td>\n",
       "    </tr>\n",
       "    <tr>\n",
       "      <th>52475</th>\n",
       "      <td>['Fantasy'</td>\n",
       "      <td>'Young Adult', 'Paranormal', 'Angels', 'Roman...</td>\n",
       "    </tr>\n",
       "    <tr>\n",
       "      <th>52476</th>\n",
       "      <td>['Fiction'</td>\n",
       "      <td>'Mystery', 'Historical Fiction', 'Adventure',...</td>\n",
       "    </tr>\n",
       "    <tr>\n",
       "      <th>52477</th>\n",
       "      <td>['Lds Fiction'</td>\n",
       "      <td>'Historical Fiction', 'Young Adult', 'Fiction...</td>\n",
       "    </tr>\n",
       "  </tbody>\n",
       "</table>\n",
       "<p>37901 rows × 2 columns</p>\n",
       "</div>"
      ],
      "text/plain": [
       "                   new_genre  \\\n",
       "0             ['Young Adult'   \n",
       "1                 ['Fantasy'   \n",
       "4             ['Young Adult'   \n",
       "5      ['Historical Fiction'   \n",
       "6                ['Classics'   \n",
       "...                      ...   \n",
       "52470   ['Christian Fiction'   \n",
       "52472             ['Romance'   \n",
       "52475             ['Fantasy'   \n",
       "52476             ['Fiction'   \n",
       "52477         ['Lds Fiction'   \n",
       "\n",
       "                                            restof_genre  \n",
       "0       'Fiction', 'Dystopia', 'Fantasy', 'Science Fi...  \n",
       "1       'Young Adult', 'Fiction', 'Magic', 'Childrens...  \n",
       "4       'Fantasy', 'Romance', 'Vampires', 'Fiction', ...  \n",
       "5       'Fiction', 'Young Adult', 'Historical', 'Clas...  \n",
       "6       'Fiction', 'Dystopia', 'Fantasy', 'Literature...  \n",
       "...                                                  ...  \n",
       "52470   'Christian', 'Suspense', 'Romance', 'Mystery'...  \n",
       "52472   'Young Adult', 'Contemporary', 'Contemporary ...  \n",
       "52475   'Young Adult', 'Paranormal', 'Angels', 'Roman...  \n",
       "52476   'Mystery', 'Historical Fiction', 'Adventure',...  \n",
       "52477   'Historical Fiction', 'Young Adult', 'Fiction...  \n",
       "\n",
       "[37901 rows x 2 columns]"
      ]
     },
     "execution_count": 614,
     "metadata": {},
     "output_type": "execute_result"
    }
   ],
   "source": [
    "split_genre = df_BestBooks['genres'].str.split(',',n=1,expand=True)\n",
    "split_genre.rename(columns={0:'new_genre',1:'restof_genre'})"
   ]
  },
  {
   "cell_type": "code",
   "execution_count": 615,
   "id": "866fd078",
   "metadata": {},
   "outputs": [],
   "source": [
    "df_BestBooks[['new_genre','restof_genre']]= df_BestBooks['genres'].str.split(',',n=1,expand=True)"
   ]
  },
  {
   "cell_type": "code",
   "execution_count": 616,
   "id": "90118be2",
   "metadata": {
    "scrolled": true
   },
   "outputs": [
    {
     "data": {
      "text/html": [
       "<div>\n",
       "<style scoped>\n",
       "    .dataframe tbody tr th:only-of-type {\n",
       "        vertical-align: middle;\n",
       "    }\n",
       "\n",
       "    .dataframe tbody tr th {\n",
       "        vertical-align: top;\n",
       "    }\n",
       "\n",
       "    .dataframe thead th {\n",
       "        text-align: right;\n",
       "    }\n",
       "</style>\n",
       "<table border=\"1\" class=\"dataframe\">\n",
       "  <thead>\n",
       "    <tr style=\"text-align: right;\">\n",
       "      <th></th>\n",
       "      <th>bookId</th>\n",
       "      <th>title</th>\n",
       "      <th>author</th>\n",
       "      <th>rating</th>\n",
       "      <th>isbn</th>\n",
       "      <th>genres</th>\n",
       "      <th>characters</th>\n",
       "      <th>awards</th>\n",
       "      <th>numRatings</th>\n",
       "      <th>ratingsByStars</th>\n",
       "      <th>likedPercent</th>\n",
       "      <th>setting</th>\n",
       "      <th>bbeScore</th>\n",
       "      <th>bbeVotes</th>\n",
       "      <th>price</th>\n",
       "      <th>Award_Count</th>\n",
       "      <th>new_genre</th>\n",
       "      <th>restof_genre</th>\n",
       "    </tr>\n",
       "  </thead>\n",
       "  <tbody>\n",
       "    <tr>\n",
       "      <th>0</th>\n",
       "      <td>2767052-the-hunger-games</td>\n",
       "      <td>The Hunger Games</td>\n",
       "      <td>Suzanne Collins</td>\n",
       "      <td>4.33</td>\n",
       "      <td>9780439023481</td>\n",
       "      <td>['Young Adult', 'Fiction', 'Dystopia', 'Fantas...</td>\n",
       "      <td>['Katniss Everdeen', 'Peeta Mellark', 'Cato (H...</td>\n",
       "      <td>LocusAwardNomineeforBestYoungAdultBook2009Geor...</td>\n",
       "      <td>6376780</td>\n",
       "      <td>['3444695', '1921313', '745221', '171994', '93...</td>\n",
       "      <td>96.0</td>\n",
       "      <td>['District 12, Panem', 'Capitol, Panem', 'Pane...</td>\n",
       "      <td>2993816</td>\n",
       "      <td>30516</td>\n",
       "      <td>5.09</td>\n",
       "      <td>1</td>\n",
       "      <td>['Young Adult'</td>\n",
       "      <td>'Fiction', 'Dystopia', 'Fantasy', 'Science Fi...</td>\n",
       "    </tr>\n",
       "    <tr>\n",
       "      <th>1</th>\n",
       "      <td>2.Harry_Potter_and_the_Order_of_the_Phoenix</td>\n",
       "      <td>Harry Potter and the Order of the Phoenix</td>\n",
       "      <td>J.K. Rowling, Mary GrandPré (Illustrator)</td>\n",
       "      <td>4.50</td>\n",
       "      <td>9780439358071</td>\n",
       "      <td>['Fantasy', 'Young Adult', 'Fiction', 'Magic',...</td>\n",
       "      <td>['Sirius Black', 'Draco Malfoy', 'Ron Weasley'...</td>\n",
       "      <td>BramStokerAwardforWorksforYoungReaders2003Anth...</td>\n",
       "      <td>2507623</td>\n",
       "      <td>['1593642', '637516', '222366', '39573', '14526']</td>\n",
       "      <td>98.0</td>\n",
       "      <td>['Hogwarts School of Witchcraft and Wizardry (...</td>\n",
       "      <td>2632233</td>\n",
       "      <td>26923</td>\n",
       "      <td>7.38</td>\n",
       "      <td>1</td>\n",
       "      <td>['Fantasy'</td>\n",
       "      <td>'Young Adult', 'Fiction', 'Magic', 'Childrens...</td>\n",
       "    </tr>\n",
       "    <tr>\n",
       "      <th>4</th>\n",
       "      <td>41865.Twilight</td>\n",
       "      <td>Twilight</td>\n",
       "      <td>Stephenie Meyer</td>\n",
       "      <td>3.60</td>\n",
       "      <td>9780316015844</td>\n",
       "      <td>['Young Adult', 'Fantasy', 'Romance', 'Vampire...</td>\n",
       "      <td>['Edward Cullen', 'Jacob Black', 'Laurent', 'R...</td>\n",
       "      <td>GeorgiaPeachBookAward2007BuxtehuderBulle2006Ke...</td>\n",
       "      <td>4964519</td>\n",
       "      <td>['1751460', '1113682', '1008686', '542017', '5...</td>\n",
       "      <td>78.0</td>\n",
       "      <td>['Forks, Washington (United States)', 'Phoenix...</td>\n",
       "      <td>1459448</td>\n",
       "      <td>14874</td>\n",
       "      <td>2.1</td>\n",
       "      <td>1</td>\n",
       "      <td>['Young Adult'</td>\n",
       "      <td>'Fantasy', 'Romance', 'Vampires', 'Fiction', ...</td>\n",
       "    </tr>\n",
       "    <tr>\n",
       "      <th>5</th>\n",
       "      <td>19063.The_Book_Thief</td>\n",
       "      <td>The Book Thief</td>\n",
       "      <td>Markus Zusak (Goodreads Author)</td>\n",
       "      <td>4.37</td>\n",
       "      <td>9780375831003</td>\n",
       "      <td>['Historical Fiction', 'Fiction', 'Young Adult...</td>\n",
       "      <td>['Liesel Meminger', 'Hans Hubermann', 'Rudy St...</td>\n",
       "      <td>NationalJewishBookAwardforChildrensandYoungAdu...</td>\n",
       "      <td>1834276</td>\n",
       "      <td>['1048230', '524674', '186297', '48864', '26211']</td>\n",
       "      <td>96.0</td>\n",
       "      <td>['Molching (Germany)', 'Germany']</td>\n",
       "      <td>1372809</td>\n",
       "      <td>14168</td>\n",
       "      <td>3.8</td>\n",
       "      <td>1</td>\n",
       "      <td>['Historical Fiction'</td>\n",
       "      <td>'Fiction', 'Young Adult', 'Historical', 'Clas...</td>\n",
       "    </tr>\n",
       "    <tr>\n",
       "      <th>6</th>\n",
       "      <td>170448.Animal_Farm</td>\n",
       "      <td>Animal Farm</td>\n",
       "      <td>George Orwell, Russell Baker (Preface), C.M. W...</td>\n",
       "      <td>3.95</td>\n",
       "      <td>9780451526342</td>\n",
       "      <td>['Classics', 'Fiction', 'Dystopia', 'Fantasy',...</td>\n",
       "      <td>['Snowball', 'Napoleon', 'Clover', 'Boxer', 'O...</td>\n",
       "      <td>PrometheusHallofFameAward2011RetroHugoAwardfor...</td>\n",
       "      <td>2740713</td>\n",
       "      <td>['986764', '958699', '545475', '165093', '84682']</td>\n",
       "      <td>91.0</td>\n",
       "      <td>['England', 'United Kingdom']</td>\n",
       "      <td>1276599</td>\n",
       "      <td>13264</td>\n",
       "      <td>4.42</td>\n",
       "      <td>1</td>\n",
       "      <td>['Classics'</td>\n",
       "      <td>'Fiction', 'Dystopia', 'Fantasy', 'Literature...</td>\n",
       "    </tr>\n",
       "    <tr>\n",
       "      <th>...</th>\n",
       "      <td>...</td>\n",
       "      <td>...</td>\n",
       "      <td>...</td>\n",
       "      <td>...</td>\n",
       "      <td>...</td>\n",
       "      <td>...</td>\n",
       "      <td>...</td>\n",
       "      <td>...</td>\n",
       "      <td>...</td>\n",
       "      <td>...</td>\n",
       "      <td>...</td>\n",
       "      <td>...</td>\n",
       "      <td>...</td>\n",
       "      <td>...</td>\n",
       "      <td>...</td>\n",
       "      <td>...</td>\n",
       "      <td>...</td>\n",
       "      <td>...</td>\n",
       "    </tr>\n",
       "    <tr>\n",
       "      <th>52470</th>\n",
       "      <td>11115191-attracted-to-fire</td>\n",
       "      <td>Attracted to Fire</td>\n",
       "      <td>DiAnn Mills (Goodreads Author)</td>\n",
       "      <td>4.14</td>\n",
       "      <td>9781414348643</td>\n",
       "      <td>['Christian Fiction', 'Christian', 'Suspense',...</td>\n",
       "      <td>[]</td>\n",
       "      <td>HOLTMedallionbyVirginiaRomanceWritersNomineefo...</td>\n",
       "      <td>2143</td>\n",
       "      <td>['945', '716', '365', '78', '39']</td>\n",
       "      <td>95.0</td>\n",
       "      <td>['West Texas (United States)']</td>\n",
       "      <td>0</td>\n",
       "      <td>1</td>\n",
       "      <td>5.55</td>\n",
       "      <td>1</td>\n",
       "      <td>['Christian Fiction'</td>\n",
       "      <td>'Christian', 'Suspense', 'Romance', 'Mystery'...</td>\n",
       "    </tr>\n",
       "    <tr>\n",
       "      <th>52472</th>\n",
       "      <td>12395883-unbelievable</td>\n",
       "      <td>Unbelievable</td>\n",
       "      <td>Sherry Gammon (Goodreads Author)</td>\n",
       "      <td>4.16</td>\n",
       "      <td>9781477594247</td>\n",
       "      <td>['Romance', 'Young Adult', 'Contemporary', 'Co...</td>\n",
       "      <td>[]</td>\n",
       "      <td></td>\n",
       "      <td>1028</td>\n",
       "      <td>['442', '384', '142', '48', '12']</td>\n",
       "      <td>94.0</td>\n",
       "      <td>['Port Fare, New York (United States)']</td>\n",
       "      <td>0</td>\n",
       "      <td>1</td>\n",
       "      <td>19.18</td>\n",
       "      <td>1</td>\n",
       "      <td>['Romance'</td>\n",
       "      <td>'Young Adult', 'Contemporary', 'Contemporary ...</td>\n",
       "    </tr>\n",
       "    <tr>\n",
       "      <th>52475</th>\n",
       "      <td>10815662-marked</td>\n",
       "      <td>Marked</td>\n",
       "      <td>Kim Richardson (Goodreads Author)</td>\n",
       "      <td>3.70</td>\n",
       "      <td>9781461017097</td>\n",
       "      <td>['Fantasy', 'Young Adult', 'Paranormal', 'Ange...</td>\n",
       "      <td>[]</td>\n",
       "      <td>ReadersFavoriteBookAward2011</td>\n",
       "      <td>6674</td>\n",
       "      <td>['2109', '1868', '1660', '647', '390']</td>\n",
       "      <td>84.0</td>\n",
       "      <td>[]</td>\n",
       "      <td>0</td>\n",
       "      <td>1</td>\n",
       "      <td>7.37</td>\n",
       "      <td>1</td>\n",
       "      <td>['Fantasy'</td>\n",
       "      <td>'Young Adult', 'Paranormal', 'Angels', 'Roman...</td>\n",
       "    </tr>\n",
       "    <tr>\n",
       "      <th>52476</th>\n",
       "      <td>11330278-wayward-son</td>\n",
       "      <td>Wayward Son</td>\n",
       "      <td>Tom Pollack (Goodreads Author), John Loftus (G...</td>\n",
       "      <td>3.85</td>\n",
       "      <td>9781450755634</td>\n",
       "      <td>['Fiction', 'Mystery', 'Historical Fiction', '...</td>\n",
       "      <td>[]</td>\n",
       "      <td></td>\n",
       "      <td>238</td>\n",
       "      <td>['77', '78', '59', '19', '5']</td>\n",
       "      <td>90.0</td>\n",
       "      <td>[]</td>\n",
       "      <td>0</td>\n",
       "      <td>1</td>\n",
       "      <td>2.86</td>\n",
       "      <td>1</td>\n",
       "      <td>['Fiction'</td>\n",
       "      <td>'Mystery', 'Historical Fiction', 'Adventure',...</td>\n",
       "    </tr>\n",
       "    <tr>\n",
       "      <th>52477</th>\n",
       "      <td>10991547-daughter-of-helaman</td>\n",
       "      <td>Daughter of Helaman</td>\n",
       "      <td>Misty Moncur (Goodreads Author)</td>\n",
       "      <td>4.02</td>\n",
       "      <td>9781599554976</td>\n",
       "      <td>['Lds Fiction', 'Historical Fiction', 'Young A...</td>\n",
       "      <td>[]</td>\n",
       "      <td></td>\n",
       "      <td>246</td>\n",
       "      <td>['106', '73', '42', '17', '8']</td>\n",
       "      <td>90.0</td>\n",
       "      <td>[]</td>\n",
       "      <td>0</td>\n",
       "      <td>1</td>\n",
       "      <td>5.20</td>\n",
       "      <td>1</td>\n",
       "      <td>['Lds Fiction'</td>\n",
       "      <td>'Historical Fiction', 'Young Adult', 'Fiction...</td>\n",
       "    </tr>\n",
       "  </tbody>\n",
       "</table>\n",
       "<p>37901 rows × 18 columns</p>\n",
       "</div>"
      ],
      "text/plain": [
       "                                            bookId  \\\n",
       "0                         2767052-the-hunger-games   \n",
       "1      2.Harry_Potter_and_the_Order_of_the_Phoenix   \n",
       "4                                   41865.Twilight   \n",
       "5                             19063.The_Book_Thief   \n",
       "6                               170448.Animal_Farm   \n",
       "...                                            ...   \n",
       "52470                   11115191-attracted-to-fire   \n",
       "52472                        12395883-unbelievable   \n",
       "52475                              10815662-marked   \n",
       "52476                         11330278-wayward-son   \n",
       "52477                 10991547-daughter-of-helaman   \n",
       "\n",
       "                                           title  \\\n",
       "0                               The Hunger Games   \n",
       "1      Harry Potter and the Order of the Phoenix   \n",
       "4                                       Twilight   \n",
       "5                                 The Book Thief   \n",
       "6                                    Animal Farm   \n",
       "...                                          ...   \n",
       "52470                          Attracted to Fire   \n",
       "52472                               Unbelievable   \n",
       "52475                                     Marked   \n",
       "52476                                Wayward Son   \n",
       "52477                        Daughter of Helaman   \n",
       "\n",
       "                                                  author  rating  \\\n",
       "0                                        Suzanne Collins    4.33   \n",
       "1              J.K. Rowling, Mary GrandPré (Illustrator)    4.50   \n",
       "4                                        Stephenie Meyer    3.60   \n",
       "5                        Markus Zusak (Goodreads Author)    4.37   \n",
       "6      George Orwell, Russell Baker (Preface), C.M. W...    3.95   \n",
       "...                                                  ...     ...   \n",
       "52470                     DiAnn Mills (Goodreads Author)    4.14   \n",
       "52472                   Sherry Gammon (Goodreads Author)    4.16   \n",
       "52475                  Kim Richardson (Goodreads Author)    3.70   \n",
       "52476  Tom Pollack (Goodreads Author), John Loftus (G...    3.85   \n",
       "52477                    Misty Moncur (Goodreads Author)    4.02   \n",
       "\n",
       "                isbn                                             genres  \\\n",
       "0      9780439023481  ['Young Adult', 'Fiction', 'Dystopia', 'Fantas...   \n",
       "1      9780439358071  ['Fantasy', 'Young Adult', 'Fiction', 'Magic',...   \n",
       "4      9780316015844  ['Young Adult', 'Fantasy', 'Romance', 'Vampire...   \n",
       "5      9780375831003  ['Historical Fiction', 'Fiction', 'Young Adult...   \n",
       "6      9780451526342  ['Classics', 'Fiction', 'Dystopia', 'Fantasy',...   \n",
       "...              ...                                                ...   \n",
       "52470  9781414348643  ['Christian Fiction', 'Christian', 'Suspense',...   \n",
       "52472  9781477594247  ['Romance', 'Young Adult', 'Contemporary', 'Co...   \n",
       "52475  9781461017097  ['Fantasy', 'Young Adult', 'Paranormal', 'Ange...   \n",
       "52476  9781450755634  ['Fiction', 'Mystery', 'Historical Fiction', '...   \n",
       "52477  9781599554976  ['Lds Fiction', 'Historical Fiction', 'Young A...   \n",
       "\n",
       "                                              characters  \\\n",
       "0      ['Katniss Everdeen', 'Peeta Mellark', 'Cato (H...   \n",
       "1      ['Sirius Black', 'Draco Malfoy', 'Ron Weasley'...   \n",
       "4      ['Edward Cullen', 'Jacob Black', 'Laurent', 'R...   \n",
       "5      ['Liesel Meminger', 'Hans Hubermann', 'Rudy St...   \n",
       "6      ['Snowball', 'Napoleon', 'Clover', 'Boxer', 'O...   \n",
       "...                                                  ...   \n",
       "52470                                                 []   \n",
       "52472                                                 []   \n",
       "52475                                                 []   \n",
       "52476                                                 []   \n",
       "52477                                                 []   \n",
       "\n",
       "                                                  awards  numRatings  \\\n",
       "0      LocusAwardNomineeforBestYoungAdultBook2009Geor...     6376780   \n",
       "1      BramStokerAwardforWorksforYoungReaders2003Anth...     2507623   \n",
       "4      GeorgiaPeachBookAward2007BuxtehuderBulle2006Ke...     4964519   \n",
       "5      NationalJewishBookAwardforChildrensandYoungAdu...     1834276   \n",
       "6      PrometheusHallofFameAward2011RetroHugoAwardfor...     2740713   \n",
       "...                                                  ...         ...   \n",
       "52470  HOLTMedallionbyVirginiaRomanceWritersNomineefo...        2143   \n",
       "52472                                                           1028   \n",
       "52475                       ReadersFavoriteBookAward2011        6674   \n",
       "52476                                                            238   \n",
       "52477                                                            246   \n",
       "\n",
       "                                          ratingsByStars  likedPercent  \\\n",
       "0      ['3444695', '1921313', '745221', '171994', '93...          96.0   \n",
       "1      ['1593642', '637516', '222366', '39573', '14526']          98.0   \n",
       "4      ['1751460', '1113682', '1008686', '542017', '5...          78.0   \n",
       "5      ['1048230', '524674', '186297', '48864', '26211']          96.0   \n",
       "6      ['986764', '958699', '545475', '165093', '84682']          91.0   \n",
       "...                                                  ...           ...   \n",
       "52470                  ['945', '716', '365', '78', '39']          95.0   \n",
       "52472                  ['442', '384', '142', '48', '12']          94.0   \n",
       "52475             ['2109', '1868', '1660', '647', '390']          84.0   \n",
       "52476                      ['77', '78', '59', '19', '5']          90.0   \n",
       "52477                     ['106', '73', '42', '17', '8']          90.0   \n",
       "\n",
       "                                                 setting  bbeScore  bbeVotes  \\\n",
       "0      ['District 12, Panem', 'Capitol, Panem', 'Pane...   2993816     30516   \n",
       "1      ['Hogwarts School of Witchcraft and Wizardry (...   2632233     26923   \n",
       "4      ['Forks, Washington (United States)', 'Phoenix...   1459448     14874   \n",
       "5                      ['Molching (Germany)', 'Germany']   1372809     14168   \n",
       "6                          ['England', 'United Kingdom']   1276599     13264   \n",
       "...                                                  ...       ...       ...   \n",
       "52470                     ['West Texas (United States)']         0         1   \n",
       "52472            ['Port Fare, New York (United States)']         0         1   \n",
       "52475                                                 []         0         1   \n",
       "52476                                                 []         0         1   \n",
       "52477                                                 []         0         1   \n",
       "\n",
       "       price  Award_Count              new_genre  \\\n",
       "0       5.09            1         ['Young Adult'   \n",
       "1       7.38            1             ['Fantasy'   \n",
       "4        2.1            1         ['Young Adult'   \n",
       "5        3.8            1  ['Historical Fiction'   \n",
       "6       4.42            1            ['Classics'   \n",
       "...      ...          ...                    ...   \n",
       "52470   5.55            1   ['Christian Fiction'   \n",
       "52472  19.18            1             ['Romance'   \n",
       "52475   7.37            1             ['Fantasy'   \n",
       "52476   2.86            1             ['Fiction'   \n",
       "52477   5.20            1         ['Lds Fiction'   \n",
       "\n",
       "                                            restof_genre  \n",
       "0       'Fiction', 'Dystopia', 'Fantasy', 'Science Fi...  \n",
       "1       'Young Adult', 'Fiction', 'Magic', 'Childrens...  \n",
       "4       'Fantasy', 'Romance', 'Vampires', 'Fiction', ...  \n",
       "5       'Fiction', 'Young Adult', 'Historical', 'Clas...  \n",
       "6       'Fiction', 'Dystopia', 'Fantasy', 'Literature...  \n",
       "...                                                  ...  \n",
       "52470   'Christian', 'Suspense', 'Romance', 'Mystery'...  \n",
       "52472   'Young Adult', 'Contemporary', 'Contemporary ...  \n",
       "52475   'Young Adult', 'Paranormal', 'Angels', 'Roman...  \n",
       "52476   'Mystery', 'Historical Fiction', 'Adventure',...  \n",
       "52477   'Historical Fiction', 'Young Adult', 'Fiction...  \n",
       "\n",
       "[37901 rows x 18 columns]"
      ]
     },
     "execution_count": 616,
     "metadata": {},
     "output_type": "execute_result"
    }
   ],
   "source": [
    "df_BestBooks"
   ]
  },
  {
   "cell_type": "markdown",
   "id": "e413b238",
   "metadata": {},
   "source": [
    "### Remove special characters"
   ]
  },
  {
   "cell_type": "code",
   "execution_count": 617,
   "id": "d944f965",
   "metadata": {
    "scrolled": true
   },
   "outputs": [],
   "source": [
    "df_BestBooks ['new_genre'] = df_BestBooks['new_genre'].str.replace(r'\\W',\"\",regex=True)"
   ]
  },
  {
   "cell_type": "code",
   "execution_count": 618,
   "id": "83ddecad",
   "metadata": {},
   "outputs": [
    {
     "data": {
      "text/html": [
       "<div>\n",
       "<style scoped>\n",
       "    .dataframe tbody tr th:only-of-type {\n",
       "        vertical-align: middle;\n",
       "    }\n",
       "\n",
       "    .dataframe tbody tr th {\n",
       "        vertical-align: top;\n",
       "    }\n",
       "\n",
       "    .dataframe thead th {\n",
       "        text-align: right;\n",
       "    }\n",
       "</style>\n",
       "<table border=\"1\" class=\"dataframe\">\n",
       "  <thead>\n",
       "    <tr style=\"text-align: right;\">\n",
       "      <th></th>\n",
       "      <th>bookId</th>\n",
       "      <th>title</th>\n",
       "      <th>author</th>\n",
       "      <th>rating</th>\n",
       "      <th>isbn</th>\n",
       "      <th>genres</th>\n",
       "      <th>characters</th>\n",
       "      <th>awards</th>\n",
       "      <th>numRatings</th>\n",
       "      <th>ratingsByStars</th>\n",
       "      <th>likedPercent</th>\n",
       "      <th>setting</th>\n",
       "      <th>bbeScore</th>\n",
       "      <th>bbeVotes</th>\n",
       "      <th>price</th>\n",
       "      <th>Award_Count</th>\n",
       "      <th>new_genre</th>\n",
       "      <th>restof_genre</th>\n",
       "    </tr>\n",
       "  </thead>\n",
       "  <tbody>\n",
       "    <tr>\n",
       "      <th>0</th>\n",
       "      <td>2767052-the-hunger-games</td>\n",
       "      <td>The Hunger Games</td>\n",
       "      <td>Suzanne Collins</td>\n",
       "      <td>4.33</td>\n",
       "      <td>9780439023481</td>\n",
       "      <td>['Young Adult', 'Fiction', 'Dystopia', 'Fantas...</td>\n",
       "      <td>['Katniss Everdeen', 'Peeta Mellark', 'Cato (H...</td>\n",
       "      <td>LocusAwardNomineeforBestYoungAdultBook2009Geor...</td>\n",
       "      <td>6376780</td>\n",
       "      <td>['3444695', '1921313', '745221', '171994', '93...</td>\n",
       "      <td>96.0</td>\n",
       "      <td>['District 12, Panem', 'Capitol, Panem', 'Pane...</td>\n",
       "      <td>2993816</td>\n",
       "      <td>30516</td>\n",
       "      <td>5.09</td>\n",
       "      <td>1</td>\n",
       "      <td>YoungAdult</td>\n",
       "      <td>'Fiction', 'Dystopia', 'Fantasy', 'Science Fi...</td>\n",
       "    </tr>\n",
       "    <tr>\n",
       "      <th>1</th>\n",
       "      <td>2.Harry_Potter_and_the_Order_of_the_Phoenix</td>\n",
       "      <td>Harry Potter and the Order of the Phoenix</td>\n",
       "      <td>J.K. Rowling, Mary GrandPré (Illustrator)</td>\n",
       "      <td>4.50</td>\n",
       "      <td>9780439358071</td>\n",
       "      <td>['Fantasy', 'Young Adult', 'Fiction', 'Magic',...</td>\n",
       "      <td>['Sirius Black', 'Draco Malfoy', 'Ron Weasley'...</td>\n",
       "      <td>BramStokerAwardforWorksforYoungReaders2003Anth...</td>\n",
       "      <td>2507623</td>\n",
       "      <td>['1593642', '637516', '222366', '39573', '14526']</td>\n",
       "      <td>98.0</td>\n",
       "      <td>['Hogwarts School of Witchcraft and Wizardry (...</td>\n",
       "      <td>2632233</td>\n",
       "      <td>26923</td>\n",
       "      <td>7.38</td>\n",
       "      <td>1</td>\n",
       "      <td>Fantasy</td>\n",
       "      <td>'Young Adult', 'Fiction', 'Magic', 'Childrens...</td>\n",
       "    </tr>\n",
       "    <tr>\n",
       "      <th>4</th>\n",
       "      <td>41865.Twilight</td>\n",
       "      <td>Twilight</td>\n",
       "      <td>Stephenie Meyer</td>\n",
       "      <td>3.60</td>\n",
       "      <td>9780316015844</td>\n",
       "      <td>['Young Adult', 'Fantasy', 'Romance', 'Vampire...</td>\n",
       "      <td>['Edward Cullen', 'Jacob Black', 'Laurent', 'R...</td>\n",
       "      <td>GeorgiaPeachBookAward2007BuxtehuderBulle2006Ke...</td>\n",
       "      <td>4964519</td>\n",
       "      <td>['1751460', '1113682', '1008686', '542017', '5...</td>\n",
       "      <td>78.0</td>\n",
       "      <td>['Forks, Washington (United States)', 'Phoenix...</td>\n",
       "      <td>1459448</td>\n",
       "      <td>14874</td>\n",
       "      <td>2.1</td>\n",
       "      <td>1</td>\n",
       "      <td>YoungAdult</td>\n",
       "      <td>'Fantasy', 'Romance', 'Vampires', 'Fiction', ...</td>\n",
       "    </tr>\n",
       "  </tbody>\n",
       "</table>\n",
       "</div>"
      ],
      "text/plain": [
       "                                        bookId  \\\n",
       "0                     2767052-the-hunger-games   \n",
       "1  2.Harry_Potter_and_the_Order_of_the_Phoenix   \n",
       "4                               41865.Twilight   \n",
       "\n",
       "                                       title  \\\n",
       "0                           The Hunger Games   \n",
       "1  Harry Potter and the Order of the Phoenix   \n",
       "4                                   Twilight   \n",
       "\n",
       "                                      author  rating           isbn  \\\n",
       "0                            Suzanne Collins    4.33  9780439023481   \n",
       "1  J.K. Rowling, Mary GrandPré (Illustrator)    4.50  9780439358071   \n",
       "4                            Stephenie Meyer    3.60  9780316015844   \n",
       "\n",
       "                                              genres  \\\n",
       "0  ['Young Adult', 'Fiction', 'Dystopia', 'Fantas...   \n",
       "1  ['Fantasy', 'Young Adult', 'Fiction', 'Magic',...   \n",
       "4  ['Young Adult', 'Fantasy', 'Romance', 'Vampire...   \n",
       "\n",
       "                                          characters  \\\n",
       "0  ['Katniss Everdeen', 'Peeta Mellark', 'Cato (H...   \n",
       "1  ['Sirius Black', 'Draco Malfoy', 'Ron Weasley'...   \n",
       "4  ['Edward Cullen', 'Jacob Black', 'Laurent', 'R...   \n",
       "\n",
       "                                              awards  numRatings  \\\n",
       "0  LocusAwardNomineeforBestYoungAdultBook2009Geor...     6376780   \n",
       "1  BramStokerAwardforWorksforYoungReaders2003Anth...     2507623   \n",
       "4  GeorgiaPeachBookAward2007BuxtehuderBulle2006Ke...     4964519   \n",
       "\n",
       "                                      ratingsByStars  likedPercent  \\\n",
       "0  ['3444695', '1921313', '745221', '171994', '93...          96.0   \n",
       "1  ['1593642', '637516', '222366', '39573', '14526']          98.0   \n",
       "4  ['1751460', '1113682', '1008686', '542017', '5...          78.0   \n",
       "\n",
       "                                             setting  bbeScore  bbeVotes  \\\n",
       "0  ['District 12, Panem', 'Capitol, Panem', 'Pane...   2993816     30516   \n",
       "1  ['Hogwarts School of Witchcraft and Wizardry (...   2632233     26923   \n",
       "4  ['Forks, Washington (United States)', 'Phoenix...   1459448     14874   \n",
       "\n",
       "  price  Award_Count   new_genre  \\\n",
       "0  5.09            1  YoungAdult   \n",
       "1  7.38            1     Fantasy   \n",
       "4   2.1            1  YoungAdult   \n",
       "\n",
       "                                        restof_genre  \n",
       "0   'Fiction', 'Dystopia', 'Fantasy', 'Science Fi...  \n",
       "1   'Young Adult', 'Fiction', 'Magic', 'Childrens...  \n",
       "4   'Fantasy', 'Romance', 'Vampires', 'Fiction', ...  "
      ]
     },
     "execution_count": 618,
     "metadata": {},
     "output_type": "execute_result"
    }
   ],
   "source": [
    "df_BestBooks.head(3)"
   ]
  },
  {
   "cell_type": "code",
   "execution_count": 619,
   "id": "acee9845",
   "metadata": {},
   "outputs": [],
   "source": [
    "df_BestBooks = df_BestBooks.drop(columns = ['restof_genre'])"
   ]
  },
  {
   "cell_type": "code",
   "execution_count": 620,
   "id": "a1eefa86",
   "metadata": {},
   "outputs": [
    {
     "data": {
      "text/html": [
       "<div>\n",
       "<style scoped>\n",
       "    .dataframe tbody tr th:only-of-type {\n",
       "        vertical-align: middle;\n",
       "    }\n",
       "\n",
       "    .dataframe tbody tr th {\n",
       "        vertical-align: top;\n",
       "    }\n",
       "\n",
       "    .dataframe thead th {\n",
       "        text-align: right;\n",
       "    }\n",
       "</style>\n",
       "<table border=\"1\" class=\"dataframe\">\n",
       "  <thead>\n",
       "    <tr style=\"text-align: right;\">\n",
       "      <th></th>\n",
       "      <th>bookId</th>\n",
       "      <th>title</th>\n",
       "      <th>author</th>\n",
       "      <th>rating</th>\n",
       "      <th>isbn</th>\n",
       "      <th>genres</th>\n",
       "      <th>characters</th>\n",
       "      <th>awards</th>\n",
       "      <th>numRatings</th>\n",
       "      <th>ratingsByStars</th>\n",
       "      <th>likedPercent</th>\n",
       "      <th>setting</th>\n",
       "      <th>bbeScore</th>\n",
       "      <th>bbeVotes</th>\n",
       "      <th>price</th>\n",
       "      <th>Award_Count</th>\n",
       "      <th>new_genre</th>\n",
       "    </tr>\n",
       "  </thead>\n",
       "  <tbody>\n",
       "    <tr>\n",
       "      <th>0</th>\n",
       "      <td>2767052-the-hunger-games</td>\n",
       "      <td>The Hunger Games</td>\n",
       "      <td>Suzanne Collins</td>\n",
       "      <td>4.33</td>\n",
       "      <td>9780439023481</td>\n",
       "      <td>['Young Adult', 'Fiction', 'Dystopia', 'Fantas...</td>\n",
       "      <td>['Katniss Everdeen', 'Peeta Mellark', 'Cato (H...</td>\n",
       "      <td>LocusAwardNomineeforBestYoungAdultBook2009Geor...</td>\n",
       "      <td>6376780</td>\n",
       "      <td>['3444695', '1921313', '745221', '171994', '93...</td>\n",
       "      <td>96.0</td>\n",
       "      <td>['District 12, Panem', 'Capitol, Panem', 'Pane...</td>\n",
       "      <td>2993816</td>\n",
       "      <td>30516</td>\n",
       "      <td>5.09</td>\n",
       "      <td>1</td>\n",
       "      <td>YoungAdult</td>\n",
       "    </tr>\n",
       "    <tr>\n",
       "      <th>1</th>\n",
       "      <td>2.Harry_Potter_and_the_Order_of_the_Phoenix</td>\n",
       "      <td>Harry Potter and the Order of the Phoenix</td>\n",
       "      <td>J.K. Rowling, Mary GrandPré (Illustrator)</td>\n",
       "      <td>4.50</td>\n",
       "      <td>9780439358071</td>\n",
       "      <td>['Fantasy', 'Young Adult', 'Fiction', 'Magic',...</td>\n",
       "      <td>['Sirius Black', 'Draco Malfoy', 'Ron Weasley'...</td>\n",
       "      <td>BramStokerAwardforWorksforYoungReaders2003Anth...</td>\n",
       "      <td>2507623</td>\n",
       "      <td>['1593642', '637516', '222366', '39573', '14526']</td>\n",
       "      <td>98.0</td>\n",
       "      <td>['Hogwarts School of Witchcraft and Wizardry (...</td>\n",
       "      <td>2632233</td>\n",
       "      <td>26923</td>\n",
       "      <td>7.38</td>\n",
       "      <td>1</td>\n",
       "      <td>Fantasy</td>\n",
       "    </tr>\n",
       "    <tr>\n",
       "      <th>4</th>\n",
       "      <td>41865.Twilight</td>\n",
       "      <td>Twilight</td>\n",
       "      <td>Stephenie Meyer</td>\n",
       "      <td>3.60</td>\n",
       "      <td>9780316015844</td>\n",
       "      <td>['Young Adult', 'Fantasy', 'Romance', 'Vampire...</td>\n",
       "      <td>['Edward Cullen', 'Jacob Black', 'Laurent', 'R...</td>\n",
       "      <td>GeorgiaPeachBookAward2007BuxtehuderBulle2006Ke...</td>\n",
       "      <td>4964519</td>\n",
       "      <td>['1751460', '1113682', '1008686', '542017', '5...</td>\n",
       "      <td>78.0</td>\n",
       "      <td>['Forks, Washington (United States)', 'Phoenix...</td>\n",
       "      <td>1459448</td>\n",
       "      <td>14874</td>\n",
       "      <td>2.1</td>\n",
       "      <td>1</td>\n",
       "      <td>YoungAdult</td>\n",
       "    </tr>\n",
       "  </tbody>\n",
       "</table>\n",
       "</div>"
      ],
      "text/plain": [
       "                                        bookId  \\\n",
       "0                     2767052-the-hunger-games   \n",
       "1  2.Harry_Potter_and_the_Order_of_the_Phoenix   \n",
       "4                               41865.Twilight   \n",
       "\n",
       "                                       title  \\\n",
       "0                           The Hunger Games   \n",
       "1  Harry Potter and the Order of the Phoenix   \n",
       "4                                   Twilight   \n",
       "\n",
       "                                      author  rating           isbn  \\\n",
       "0                            Suzanne Collins    4.33  9780439023481   \n",
       "1  J.K. Rowling, Mary GrandPré (Illustrator)    4.50  9780439358071   \n",
       "4                            Stephenie Meyer    3.60  9780316015844   \n",
       "\n",
       "                                              genres  \\\n",
       "0  ['Young Adult', 'Fiction', 'Dystopia', 'Fantas...   \n",
       "1  ['Fantasy', 'Young Adult', 'Fiction', 'Magic',...   \n",
       "4  ['Young Adult', 'Fantasy', 'Romance', 'Vampire...   \n",
       "\n",
       "                                          characters  \\\n",
       "0  ['Katniss Everdeen', 'Peeta Mellark', 'Cato (H...   \n",
       "1  ['Sirius Black', 'Draco Malfoy', 'Ron Weasley'...   \n",
       "4  ['Edward Cullen', 'Jacob Black', 'Laurent', 'R...   \n",
       "\n",
       "                                              awards  numRatings  \\\n",
       "0  LocusAwardNomineeforBestYoungAdultBook2009Geor...     6376780   \n",
       "1  BramStokerAwardforWorksforYoungReaders2003Anth...     2507623   \n",
       "4  GeorgiaPeachBookAward2007BuxtehuderBulle2006Ke...     4964519   \n",
       "\n",
       "                                      ratingsByStars  likedPercent  \\\n",
       "0  ['3444695', '1921313', '745221', '171994', '93...          96.0   \n",
       "1  ['1593642', '637516', '222366', '39573', '14526']          98.0   \n",
       "4  ['1751460', '1113682', '1008686', '542017', '5...          78.0   \n",
       "\n",
       "                                             setting  bbeScore  bbeVotes  \\\n",
       "0  ['District 12, Panem', 'Capitol, Panem', 'Pane...   2993816     30516   \n",
       "1  ['Hogwarts School of Witchcraft and Wizardry (...   2632233     26923   \n",
       "4  ['Forks, Washington (United States)', 'Phoenix...   1459448     14874   \n",
       "\n",
       "  price  Award_Count   new_genre  \n",
       "0  5.09            1  YoungAdult  \n",
       "1  7.38            1     Fantasy  \n",
       "4   2.1            1  YoungAdult  "
      ]
     },
     "execution_count": 620,
     "metadata": {},
     "output_type": "execute_result"
    }
   ],
   "source": [
    "df_BestBooks.head(3)"
   ]
  },
  {
   "cell_type": "markdown",
   "id": "3c450a51",
   "metadata": {},
   "source": [
    "### Define a customer function to create reusable code"
   ]
  },
  {
   "cell_type": "markdown",
   "id": "88612f4f",
   "metadata": {},
   "source": [
    "### Checking for Errors in column rating"
   ]
  },
  {
   "cell_type": "code",
   "execution_count": 621,
   "id": "c00877c1",
   "metadata": {},
   "outputs": [
    {
     "data": {
      "text/html": [
       "<div>\n",
       "<style scoped>\n",
       "    .dataframe tbody tr th:only-of-type {\n",
       "        vertical-align: middle;\n",
       "    }\n",
       "\n",
       "    .dataframe tbody tr th {\n",
       "        vertical-align: top;\n",
       "    }\n",
       "\n",
       "    .dataframe thead th {\n",
       "        text-align: right;\n",
       "    }\n",
       "</style>\n",
       "<table border=\"1\" class=\"dataframe\">\n",
       "  <thead>\n",
       "    <tr style=\"text-align: right;\">\n",
       "      <th></th>\n",
       "      <th>bookId</th>\n",
       "      <th>title</th>\n",
       "      <th>author</th>\n",
       "      <th>rating</th>\n",
       "      <th>isbn</th>\n",
       "      <th>genres</th>\n",
       "      <th>characters</th>\n",
       "      <th>awards</th>\n",
       "      <th>numRatings</th>\n",
       "      <th>ratingsByStars</th>\n",
       "      <th>likedPercent</th>\n",
       "      <th>setting</th>\n",
       "      <th>bbeScore</th>\n",
       "      <th>bbeVotes</th>\n",
       "      <th>price</th>\n",
       "      <th>Award_Count</th>\n",
       "      <th>new_genre</th>\n",
       "      <th>Error_rating</th>\n",
       "    </tr>\n",
       "  </thead>\n",
       "  <tbody>\n",
       "    <tr>\n",
       "      <th>0</th>\n",
       "      <td>2767052-the-hunger-games</td>\n",
       "      <td>The Hunger Games</td>\n",
       "      <td>Suzanne Collins</td>\n",
       "      <td>4.33</td>\n",
       "      <td>9780439023481</td>\n",
       "      <td>['Young Adult', 'Fiction', 'Dystopia', 'Fantas...</td>\n",
       "      <td>['Katniss Everdeen', 'Peeta Mellark', 'Cato (H...</td>\n",
       "      <td>LocusAwardNomineeforBestYoungAdultBook2009Geor...</td>\n",
       "      <td>6376780</td>\n",
       "      <td>['3444695', '1921313', '745221', '171994', '93...</td>\n",
       "      <td>96.0</td>\n",
       "      <td>['District 12, Panem', 'Capitol, Panem', 'Pane...</td>\n",
       "      <td>2993816</td>\n",
       "      <td>30516</td>\n",
       "      <td>5.09</td>\n",
       "      <td>1</td>\n",
       "      <td>YoungAdult</td>\n",
       "      <td>No_Error</td>\n",
       "    </tr>\n",
       "    <tr>\n",
       "      <th>1</th>\n",
       "      <td>2.Harry_Potter_and_the_Order_of_the_Phoenix</td>\n",
       "      <td>Harry Potter and the Order of the Phoenix</td>\n",
       "      <td>J.K. Rowling, Mary GrandPré (Illustrator)</td>\n",
       "      <td>4.50</td>\n",
       "      <td>9780439358071</td>\n",
       "      <td>['Fantasy', 'Young Adult', 'Fiction', 'Magic',...</td>\n",
       "      <td>['Sirius Black', 'Draco Malfoy', 'Ron Weasley'...</td>\n",
       "      <td>BramStokerAwardforWorksforYoungReaders2003Anth...</td>\n",
       "      <td>2507623</td>\n",
       "      <td>['1593642', '637516', '222366', '39573', '14526']</td>\n",
       "      <td>98.0</td>\n",
       "      <td>['Hogwarts School of Witchcraft and Wizardry (...</td>\n",
       "      <td>2632233</td>\n",
       "      <td>26923</td>\n",
       "      <td>7.38</td>\n",
       "      <td>1</td>\n",
       "      <td>Fantasy</td>\n",
       "      <td>No_Error</td>\n",
       "    </tr>\n",
       "    <tr>\n",
       "      <th>4</th>\n",
       "      <td>41865.Twilight</td>\n",
       "      <td>Twilight</td>\n",
       "      <td>Stephenie Meyer</td>\n",
       "      <td>3.60</td>\n",
       "      <td>9780316015844</td>\n",
       "      <td>['Young Adult', 'Fantasy', 'Romance', 'Vampire...</td>\n",
       "      <td>['Edward Cullen', 'Jacob Black', 'Laurent', 'R...</td>\n",
       "      <td>GeorgiaPeachBookAward2007BuxtehuderBulle2006Ke...</td>\n",
       "      <td>4964519</td>\n",
       "      <td>['1751460', '1113682', '1008686', '542017', '5...</td>\n",
       "      <td>78.0</td>\n",
       "      <td>['Forks, Washington (United States)', 'Phoenix...</td>\n",
       "      <td>1459448</td>\n",
       "      <td>14874</td>\n",
       "      <td>2.1</td>\n",
       "      <td>1</td>\n",
       "      <td>YoungAdult</td>\n",
       "      <td>No_Error</td>\n",
       "    </tr>\n",
       "  </tbody>\n",
       "</table>\n",
       "</div>"
      ],
      "text/plain": [
       "                                        bookId  \\\n",
       "0                     2767052-the-hunger-games   \n",
       "1  2.Harry_Potter_and_the_Order_of_the_Phoenix   \n",
       "4                               41865.Twilight   \n",
       "\n",
       "                                       title  \\\n",
       "0                           The Hunger Games   \n",
       "1  Harry Potter and the Order of the Phoenix   \n",
       "4                                   Twilight   \n",
       "\n",
       "                                      author  rating           isbn  \\\n",
       "0                            Suzanne Collins    4.33  9780439023481   \n",
       "1  J.K. Rowling, Mary GrandPré (Illustrator)    4.50  9780439358071   \n",
       "4                            Stephenie Meyer    3.60  9780316015844   \n",
       "\n",
       "                                              genres  \\\n",
       "0  ['Young Adult', 'Fiction', 'Dystopia', 'Fantas...   \n",
       "1  ['Fantasy', 'Young Adult', 'Fiction', 'Magic',...   \n",
       "4  ['Young Adult', 'Fantasy', 'Romance', 'Vampire...   \n",
       "\n",
       "                                          characters  \\\n",
       "0  ['Katniss Everdeen', 'Peeta Mellark', 'Cato (H...   \n",
       "1  ['Sirius Black', 'Draco Malfoy', 'Ron Weasley'...   \n",
       "4  ['Edward Cullen', 'Jacob Black', 'Laurent', 'R...   \n",
       "\n",
       "                                              awards  numRatings  \\\n",
       "0  LocusAwardNomineeforBestYoungAdultBook2009Geor...     6376780   \n",
       "1  BramStokerAwardforWorksforYoungReaders2003Anth...     2507623   \n",
       "4  GeorgiaPeachBookAward2007BuxtehuderBulle2006Ke...     4964519   \n",
       "\n",
       "                                      ratingsByStars  likedPercent  \\\n",
       "0  ['3444695', '1921313', '745221', '171994', '93...          96.0   \n",
       "1  ['1593642', '637516', '222366', '39573', '14526']          98.0   \n",
       "4  ['1751460', '1113682', '1008686', '542017', '5...          78.0   \n",
       "\n",
       "                                             setting  bbeScore  bbeVotes  \\\n",
       "0  ['District 12, Panem', 'Capitol, Panem', 'Pane...   2993816     30516   \n",
       "1  ['Hogwarts School of Witchcraft and Wizardry (...   2632233     26923   \n",
       "4  ['Forks, Washington (United States)', 'Phoenix...   1459448     14874   \n",
       "\n",
       "  price  Award_Count   new_genre Error_rating  \n",
       "0  5.09            1  YoungAdult     No_Error  \n",
       "1  7.38            1     Fantasy     No_Error  \n",
       "4   2.1            1  YoungAdult     No_Error  "
      ]
     },
     "execution_count": 621,
     "metadata": {},
     "output_type": "execute_result"
    }
   ],
   "source": [
    "df_BestBooks.loc[df_BestBooks[\"rating\"]<= 5, \"Error_rating\"] = \"No_Error\"\n",
    "df_BestBooks.loc[df_BestBooks[\"rating\"]> 5, \"Error_rating\"] = \"Error\"\n",
    "df_BestBooks.loc[df_BestBooks[\"rating\"]< 0, \"Error_rating\"] = \"Error\"\n",
    "df_BestBooks.head(3)"
   ]
  },
  {
   "cell_type": "code",
   "execution_count": 622,
   "id": "9690cd37",
   "metadata": {},
   "outputs": [
    {
     "name": "stdout",
     "output_type": "stream",
     "text": [
      "\n",
      "This value does not exist in the Dataframe\n",
      "37901\n"
     ]
    }
   ],
   "source": [
    "if 'Error' in df_BestBooks.Error_rating :\n",
    "    print(\"\\nThis value exists in the Dataframe\")\n",
    " \n",
    "else :\n",
    "    print(\"\\nThis value does not exist in the Dataframe\")\n",
    "\n",
    "print(df_BestBooks['Error_rating'].value_counts()['No_Error'])"
   ]
  },
  {
   "cell_type": "markdown",
   "id": "e6f586be",
   "metadata": {},
   "source": [
    "### Checking for errors in column likedPercent"
   ]
  },
  {
   "cell_type": "code",
   "execution_count": 623,
   "id": "cb453cf3",
   "metadata": {},
   "outputs": [
    {
     "name": "stdout",
     "output_type": "stream",
     "text": [
      "\n",
      "This value does not exist in the Dataframe\n",
      "37901\n"
     ]
    }
   ],
   "source": [
    "df_BestBooks.loc[df_BestBooks[\"likedPercent\"]<= 100, \"Error_percentage\"] = \"No_Error\"\n",
    "df_BestBooks.loc[df_BestBooks[\"likedPercent\"]> 100, \"Error_percentage\"] = \"Error\"\n",
    "df_BestBooks.loc[df_BestBooks[\"likedPercent\"]< 0, \"Error_percentage\"] = \"Error\"\n",
    "\n",
    "if 'Error' in df_BestBooks.Error_percentage :\n",
    "    print(\"\\nThis value exists in the Dataframe\")\n",
    " \n",
    "else :\n",
    "    print(\"\\nThis value does not exist in the Dataframe\")\n",
    "\n",
    "print(df_BestBooks['Error_percentage'].value_counts()['No_Error'])"
   ]
  },
  {
   "cell_type": "code",
   "execution_count": 624,
   "id": "ed01f7d5",
   "metadata": {},
   "outputs": [
    {
     "data": {
      "text/html": [
       "<div>\n",
       "<style scoped>\n",
       "    .dataframe tbody tr th:only-of-type {\n",
       "        vertical-align: middle;\n",
       "    }\n",
       "\n",
       "    .dataframe tbody tr th {\n",
       "        vertical-align: top;\n",
       "    }\n",
       "\n",
       "    .dataframe thead th {\n",
       "        text-align: right;\n",
       "    }\n",
       "</style>\n",
       "<table border=\"1\" class=\"dataframe\">\n",
       "  <thead>\n",
       "    <tr style=\"text-align: right;\">\n",
       "      <th></th>\n",
       "      <th>bookId</th>\n",
       "      <th>title</th>\n",
       "      <th>author</th>\n",
       "      <th>rating</th>\n",
       "      <th>isbn</th>\n",
       "      <th>genres</th>\n",
       "      <th>characters</th>\n",
       "      <th>awards</th>\n",
       "      <th>numRatings</th>\n",
       "      <th>ratingsByStars</th>\n",
       "      <th>likedPercent</th>\n",
       "      <th>setting</th>\n",
       "      <th>bbeScore</th>\n",
       "      <th>bbeVotes</th>\n",
       "      <th>price</th>\n",
       "      <th>Award_Count</th>\n",
       "      <th>new_genre</th>\n",
       "      <th>Error_rating</th>\n",
       "      <th>Error_percentage</th>\n",
       "    </tr>\n",
       "  </thead>\n",
       "  <tbody>\n",
       "    <tr>\n",
       "      <th>0</th>\n",
       "      <td>2767052-the-hunger-games</td>\n",
       "      <td>The Hunger Games</td>\n",
       "      <td>Suzanne Collins</td>\n",
       "      <td>4.33</td>\n",
       "      <td>9780439023481</td>\n",
       "      <td>['Young Adult', 'Fiction', 'Dystopia', 'Fantas...</td>\n",
       "      <td>['Katniss Everdeen', 'Peeta Mellark', 'Cato (H...</td>\n",
       "      <td>LocusAwardNomineeforBestYoungAdultBook2009Geor...</td>\n",
       "      <td>6376780</td>\n",
       "      <td>['3444695', '1921313', '745221', '171994', '93...</td>\n",
       "      <td>96.0</td>\n",
       "      <td>['District 12, Panem', 'Capitol, Panem', 'Pane...</td>\n",
       "      <td>2993816</td>\n",
       "      <td>30516</td>\n",
       "      <td>5.09</td>\n",
       "      <td>1</td>\n",
       "      <td>YoungAdult</td>\n",
       "      <td>No_Error</td>\n",
       "      <td>No_Error</td>\n",
       "    </tr>\n",
       "    <tr>\n",
       "      <th>1</th>\n",
       "      <td>2.Harry_Potter_and_the_Order_of_the_Phoenix</td>\n",
       "      <td>Harry Potter and the Order of the Phoenix</td>\n",
       "      <td>J.K. Rowling, Mary GrandPré (Illustrator)</td>\n",
       "      <td>4.50</td>\n",
       "      <td>9780439358071</td>\n",
       "      <td>['Fantasy', 'Young Adult', 'Fiction', 'Magic',...</td>\n",
       "      <td>['Sirius Black', 'Draco Malfoy', 'Ron Weasley'...</td>\n",
       "      <td>BramStokerAwardforWorksforYoungReaders2003Anth...</td>\n",
       "      <td>2507623</td>\n",
       "      <td>['1593642', '637516', '222366', '39573', '14526']</td>\n",
       "      <td>98.0</td>\n",
       "      <td>['Hogwarts School of Witchcraft and Wizardry (...</td>\n",
       "      <td>2632233</td>\n",
       "      <td>26923</td>\n",
       "      <td>7.38</td>\n",
       "      <td>1</td>\n",
       "      <td>Fantasy</td>\n",
       "      <td>No_Error</td>\n",
       "      <td>No_Error</td>\n",
       "    </tr>\n",
       "    <tr>\n",
       "      <th>4</th>\n",
       "      <td>41865.Twilight</td>\n",
       "      <td>Twilight</td>\n",
       "      <td>Stephenie Meyer</td>\n",
       "      <td>3.60</td>\n",
       "      <td>9780316015844</td>\n",
       "      <td>['Young Adult', 'Fantasy', 'Romance', 'Vampire...</td>\n",
       "      <td>['Edward Cullen', 'Jacob Black', 'Laurent', 'R...</td>\n",
       "      <td>GeorgiaPeachBookAward2007BuxtehuderBulle2006Ke...</td>\n",
       "      <td>4964519</td>\n",
       "      <td>['1751460', '1113682', '1008686', '542017', '5...</td>\n",
       "      <td>78.0</td>\n",
       "      <td>['Forks, Washington (United States)', 'Phoenix...</td>\n",
       "      <td>1459448</td>\n",
       "      <td>14874</td>\n",
       "      <td>2.1</td>\n",
       "      <td>1</td>\n",
       "      <td>YoungAdult</td>\n",
       "      <td>No_Error</td>\n",
       "      <td>No_Error</td>\n",
       "    </tr>\n",
       "  </tbody>\n",
       "</table>\n",
       "</div>"
      ],
      "text/plain": [
       "                                        bookId  \\\n",
       "0                     2767052-the-hunger-games   \n",
       "1  2.Harry_Potter_and_the_Order_of_the_Phoenix   \n",
       "4                               41865.Twilight   \n",
       "\n",
       "                                       title  \\\n",
       "0                           The Hunger Games   \n",
       "1  Harry Potter and the Order of the Phoenix   \n",
       "4                                   Twilight   \n",
       "\n",
       "                                      author  rating           isbn  \\\n",
       "0                            Suzanne Collins    4.33  9780439023481   \n",
       "1  J.K. Rowling, Mary GrandPré (Illustrator)    4.50  9780439358071   \n",
       "4                            Stephenie Meyer    3.60  9780316015844   \n",
       "\n",
       "                                              genres  \\\n",
       "0  ['Young Adult', 'Fiction', 'Dystopia', 'Fantas...   \n",
       "1  ['Fantasy', 'Young Adult', 'Fiction', 'Magic',...   \n",
       "4  ['Young Adult', 'Fantasy', 'Romance', 'Vampire...   \n",
       "\n",
       "                                          characters  \\\n",
       "0  ['Katniss Everdeen', 'Peeta Mellark', 'Cato (H...   \n",
       "1  ['Sirius Black', 'Draco Malfoy', 'Ron Weasley'...   \n",
       "4  ['Edward Cullen', 'Jacob Black', 'Laurent', 'R...   \n",
       "\n",
       "                                              awards  numRatings  \\\n",
       "0  LocusAwardNomineeforBestYoungAdultBook2009Geor...     6376780   \n",
       "1  BramStokerAwardforWorksforYoungReaders2003Anth...     2507623   \n",
       "4  GeorgiaPeachBookAward2007BuxtehuderBulle2006Ke...     4964519   \n",
       "\n",
       "                                      ratingsByStars  likedPercent  \\\n",
       "0  ['3444695', '1921313', '745221', '171994', '93...          96.0   \n",
       "1  ['1593642', '637516', '222366', '39573', '14526']          98.0   \n",
       "4  ['1751460', '1113682', '1008686', '542017', '5...          78.0   \n",
       "\n",
       "                                             setting  bbeScore  bbeVotes  \\\n",
       "0  ['District 12, Panem', 'Capitol, Panem', 'Pane...   2993816     30516   \n",
       "1  ['Hogwarts School of Witchcraft and Wizardry (...   2632233     26923   \n",
       "4  ['Forks, Washington (United States)', 'Phoenix...   1459448     14874   \n",
       "\n",
       "  price  Award_Count   new_genre Error_rating Error_percentage  \n",
       "0  5.09            1  YoungAdult     No_Error         No_Error  \n",
       "1  7.38            1     Fantasy     No_Error         No_Error  \n",
       "4   2.1            1  YoungAdult     No_Error         No_Error  "
      ]
     },
     "execution_count": 624,
     "metadata": {},
     "output_type": "execute_result"
    }
   ],
   "source": [
    "df_BestBooks.head(3)"
   ]
  },
  {
   "cell_type": "markdown",
   "id": "b6bf8fa5",
   "metadata": {},
   "source": [
    "### NumPy"
   ]
  },
  {
   "cell_type": "code",
   "execution_count": 625,
   "id": "efbb9f88",
   "metadata": {},
   "outputs": [
    {
     "data": {
      "text/html": [
       "<div>\n",
       "<style scoped>\n",
       "    .dataframe tbody tr th:only-of-type {\n",
       "        vertical-align: middle;\n",
       "    }\n",
       "\n",
       "    .dataframe tbody tr th {\n",
       "        vertical-align: top;\n",
       "    }\n",
       "\n",
       "    .dataframe thead th {\n",
       "        text-align: right;\n",
       "    }\n",
       "</style>\n",
       "<table border=\"1\" class=\"dataframe\">\n",
       "  <thead>\n",
       "    <tr style=\"text-align: right;\">\n",
       "      <th></th>\n",
       "      <th>rating</th>\n",
       "      <th>numRatings</th>\n",
       "      <th>likedPercent</th>\n",
       "      <th>bbeScore</th>\n",
       "      <th>bbeVotes</th>\n",
       "      <th>Award_Count</th>\n",
       "    </tr>\n",
       "  </thead>\n",
       "  <tbody>\n",
       "    <tr>\n",
       "      <th>count</th>\n",
       "      <td>37901.000000</td>\n",
       "      <td>3.790100e+04</td>\n",
       "      <td>37901.000000</td>\n",
       "      <td>3.790100e+04</td>\n",
       "      <td>37901.000000</td>\n",
       "      <td>37901.0</td>\n",
       "    </tr>\n",
       "    <tr>\n",
       "      <th>mean</th>\n",
       "      <td>3.998219</td>\n",
       "      <td>1.944083e+04</td>\n",
       "      <td>92.299755</td>\n",
       "      <td>1.950290e+03</td>\n",
       "      <td>22.388591</td>\n",
       "      <td>1.0</td>\n",
       "    </tr>\n",
       "    <tr>\n",
       "      <th>std</th>\n",
       "      <td>0.301866</td>\n",
       "      <td>9.496797e+04</td>\n",
       "      <td>5.437769</td>\n",
       "      <td>3.375958e+04</td>\n",
       "      <td>354.417035</td>\n",
       "      <td>0.0</td>\n",
       "    </tr>\n",
       "    <tr>\n",
       "      <th>min</th>\n",
       "      <td>1.000000</td>\n",
       "      <td>1.000000e+00</td>\n",
       "      <td>0.000000</td>\n",
       "      <td>0.000000e+00</td>\n",
       "      <td>-4.000000</td>\n",
       "      <td>1.0</td>\n",
       "    </tr>\n",
       "    <tr>\n",
       "      <th>25%</th>\n",
       "      <td>3.810000</td>\n",
       "      <td>6.720000e+02</td>\n",
       "      <td>90.000000</td>\n",
       "      <td>8.300000e+01</td>\n",
       "      <td>1.000000</td>\n",
       "      <td>1.0</td>\n",
       "    </tr>\n",
       "    <tr>\n",
       "      <th>50%</th>\n",
       "      <td>4.010000</td>\n",
       "      <td>3.259000e+03</td>\n",
       "      <td>94.000000</td>\n",
       "      <td>9.800000e+01</td>\n",
       "      <td>1.000000</td>\n",
       "      <td>1.0</td>\n",
       "    </tr>\n",
       "    <tr>\n",
       "      <th>75%</th>\n",
       "      <td>4.190000</td>\n",
       "      <td>1.172500e+04</td>\n",
       "      <td>96.000000</td>\n",
       "      <td>1.960000e+02</td>\n",
       "      <td>3.000000</td>\n",
       "      <td>1.0</td>\n",
       "    </tr>\n",
       "    <tr>\n",
       "      <th>max</th>\n",
       "      <td>5.000000</td>\n",
       "      <td>6.376780e+06</td>\n",
       "      <td>100.000000</td>\n",
       "      <td>2.993816e+06</td>\n",
       "      <td>30516.000000</td>\n",
       "      <td>1.0</td>\n",
       "    </tr>\n",
       "  </tbody>\n",
       "</table>\n",
       "</div>"
      ],
      "text/plain": [
       "             rating    numRatings  likedPercent      bbeScore      bbeVotes  \\\n",
       "count  37901.000000  3.790100e+04  37901.000000  3.790100e+04  37901.000000   \n",
       "mean       3.998219  1.944083e+04     92.299755  1.950290e+03     22.388591   \n",
       "std        0.301866  9.496797e+04      5.437769  3.375958e+04    354.417035   \n",
       "min        1.000000  1.000000e+00      0.000000  0.000000e+00     -4.000000   \n",
       "25%        3.810000  6.720000e+02     90.000000  8.300000e+01      1.000000   \n",
       "50%        4.010000  3.259000e+03     94.000000  9.800000e+01      1.000000   \n",
       "75%        4.190000  1.172500e+04     96.000000  1.960000e+02      3.000000   \n",
       "max        5.000000  6.376780e+06    100.000000  2.993816e+06  30516.000000   \n",
       "\n",
       "       Award_Count  \n",
       "count      37901.0  \n",
       "mean           1.0  \n",
       "std            0.0  \n",
       "min            1.0  \n",
       "25%            1.0  \n",
       "50%            1.0  \n",
       "75%            1.0  \n",
       "max            1.0  "
      ]
     },
     "execution_count": 625,
     "metadata": {},
     "output_type": "execute_result"
    }
   ],
   "source": [
    "df_BestBooks.describe(include=(np.number))"
   ]
  },
  {
   "cell_type": "markdown",
   "id": "02cf4e60",
   "metadata": {},
   "source": [
    "### Visualisations & Relationships"
   ]
  },
  {
   "cell_type": "markdown",
   "id": "06328fca",
   "metadata": {},
   "source": [
    "### Correlation Heat Map"
   ]
  },
  {
   "cell_type": "code",
   "execution_count": 626,
   "id": "16597c10",
   "metadata": {},
   "outputs": [
    {
     "data": {
      "image/png": "[encoded data removed]",
      "text/plain": [
       "<Figure size 1000x700 with 2 Axes>"
      ]
     },
     "metadata": {},
     "output_type": "display_data"
    }
   ],
   "source": [
    "plt.figure(figsize=(10,7))\n",
    "sns.heatmap(df_BestBooks.corr(numeric_only =[False]), annot=True)\n",
    "plt.title ('Correlation between the columns')\n",
    "plt.show(close=None, block=None) "
   ]
  },
  {
   "cell_type": "markdown",
   "id": "19e49363",
   "metadata": {},
   "source": [
    "### Seaborn Pair-plot"
   ]
  },
  {
   "cell_type": "code",
   "execution_count": 627,
   "id": "51b9626d",
   "metadata": {},
   "outputs": [
    {
     "data": {
      "image/png": "[encoded data removed]",
      "text/plain": [
       "<Figure size 500x500 with 6 Axes>"
      ]
     },
     "metadata": {},
     "output_type": "display_data"
    }
   ],
   "source": [
    "Z = sns.pairplot(df_BestBooks, vars=[\"likedPercent\", \"rating\"])"
   ]
  },
  {
   "cell_type": "markdown",
   "id": "934421ec",
   "metadata": {},
   "source": [
    "### Machine Learning  -Linear Regression Model - Supervised Learning"
   ]
  },
  {
   "cell_type": "markdown",
   "id": "53b3b3dd",
   "metadata": {},
   "source": [
    "Data types"
   ]
  },
  {
   "cell_type": "code",
   "execution_count": 628,
   "id": "f8cf2b83",
   "metadata": {},
   "outputs": [
    {
     "name": "stdout",
     "output_type": "stream",
     "text": [
      "float64\n",
      "float64\n"
     ]
    }
   ],
   "source": [
    "print(df_BestBooks.likedPercent.dtypes)   \n",
    "print(df_BestBooks.rating.dtypes)  "
   ]
  },
  {
   "cell_type": "markdown",
   "id": "d394379d",
   "metadata": {},
   "source": [
    "Define x and y"
   ]
  },
  {
   "cell_type": "code",
   "execution_count": 629,
   "id": "44e8b634",
   "metadata": {},
   "outputs": [],
   "source": [
    "X = df_BestBooks['rating'].values\n",
    "y = df_BestBooks['likedPercent'].values"
   ]
  },
  {
   "cell_type": "code",
   "execution_count": 630,
   "id": "e5bfa9dc",
   "metadata": {},
   "outputs": [
    {
     "data": {
      "text/plain": [
       "array([4.33, 4.5 , 3.6 , ..., 3.7 , 3.85, 4.02])"
      ]
     },
     "execution_count": 630,
     "metadata": {},
     "output_type": "execute_result"
    }
   ],
   "source": [
    "X"
   ]
  },
  {
   "cell_type": "code",
   "execution_count": 631,
   "id": "273a0bae",
   "metadata": {},
   "outputs": [
    {
     "data": {
      "text/plain": [
       "array([96., 98., 78., ..., 84., 90., 90.])"
      ]
     },
     "execution_count": 631,
     "metadata": {},
     "output_type": "execute_result"
    }
   ],
   "source": [
    "y"
   ]
  },
  {
   "cell_type": "markdown",
   "id": "1af10d09",
   "metadata": {},
   "source": [
    "Reshapping X and y"
   ]
  },
  {
   "cell_type": "code",
   "execution_count": 632,
   "id": "498ebc04",
   "metadata": {},
   "outputs": [],
   "source": [
    "X = X.reshape(-1,1)\n",
    "y = y.reshape (-1,1)"
   ]
  },
  {
   "cell_type": "code",
   "execution_count": 633,
   "id": "ba30d824",
   "metadata": {},
   "outputs": [
    {
     "data": {
      "text/plain": [
       "array([[4.33],\n",
       "       [4.5 ],\n",
       "       [3.6 ],\n",
       "       ...,\n",
       "       [3.7 ],\n",
       "       [3.85],\n",
       "       [4.02]])"
      ]
     },
     "execution_count": 633,
     "metadata": {},
     "output_type": "execute_result"
    }
   ],
   "source": [
    "X"
   ]
  },
  {
   "cell_type": "code",
   "execution_count": 634,
   "id": "2bec4f4c",
   "metadata": {},
   "outputs": [
    {
     "data": {
      "text/plain": [
       "array([[96.],\n",
       "       [98.],\n",
       "       [78.],\n",
       "       ...,\n",
       "       [84.],\n",
       "       [90.],\n",
       "       [90.]])"
      ]
     },
     "execution_count": 634,
     "metadata": {},
     "output_type": "execute_result"
    }
   ],
   "source": [
    "y"
   ]
  },
  {
   "cell_type": "markdown",
   "id": "f289204b",
   "metadata": {},
   "source": [
    "Split the dataset into training data and testing data - 70/30"
   ]
  },
  {
   "cell_type": "code",
   "execution_count": 635,
   "id": "513b139e",
   "metadata": {},
   "outputs": [],
   "source": [
    "X_train,X_test,y_train,y_test= train_test_split(X,y, test_size=0.2, random_state=0)"
   ]
  },
  {
   "cell_type": "code",
   "execution_count": 636,
   "id": "c7b0db0a",
   "metadata": {},
   "outputs": [
    {
     "data": {
      "text/plain": [
       "(array([[4.13],\n",
       "        [3.95],\n",
       "        [4.2 ],\n",
       "        ...,\n",
       "        [4.  ],\n",
       "        [4.54],\n",
       "        [3.88]]),\n",
       " array([[3.74],\n",
       "        [3.57],\n",
       "        [4.48],\n",
       "        ...,\n",
       "        [3.86],\n",
       "        [4.35],\n",
       "        [4.22]]),\n",
       " array([[96.],\n",
       "        [93.],\n",
       "        [95.],\n",
       "        ...,\n",
       "        [95.],\n",
       "        [98.],\n",
       "        [93.]]),\n",
       " array([[90.],\n",
       "        [84.],\n",
       "        [98.],\n",
       "        ...,\n",
       "        [91.],\n",
       "        [95.],\n",
       "        [95.]]))"
      ]
     },
     "execution_count": 636,
     "metadata": {},
     "output_type": "execute_result"
    }
   ],
   "source": [
    "X_train,X_test,y_train,y_test"
   ]
  },
  {
   "cell_type": "markdown",
   "id": "33739dff",
   "metadata": {},
   "source": [
    "Use Linear Regression function to train and fit the model"
   ]
  },
  {
   "cell_type": "code",
   "execution_count": 637,
   "id": "0cbe5295",
   "metadata": {},
   "outputs": [
    {
     "data": {
      "text/html": [
       "<style>#sk-container-id-25 {color: black;background-color: white;}#sk-container-id-25 pre{padding: 0;}#sk-container-id-25 div.sk-toggleable {background-color: white;}#sk-container-id-25 label.sk-toggleable__label {cursor: pointer;display: block;width: 100%;margin-bottom: 0;padding: 0.3em;box-sizing: border-box;text-align: center;}#sk-container-id-25 label.sk-toggleable__label-arrow:before {content: \"▸\";float: left;margin-right: 0.25em;color: #696969;}#sk-container-id-25 label.sk-toggleable__label-arrow:hover:before {color: black;}#sk-container-id-25 div.sk-estimator:hover label.sk-toggleable__label-arrow:before {color: black;}#sk-container-id-25 div.sk-toggleable__content {max-height: 0;max-width: 0;overflow: hidden;text-align: left;background-color: #f0f8ff;}#sk-container-id-25 div.sk-toggleable__content pre {margin: 0.2em;color: black;border-radius: 0.25em;background-color: #f0f8ff;}#sk-container-id-25 input.sk-toggleable__control:checked~div.sk-toggleable__content {max-height: 200px;max-width: 100%;overflow: auto;}#sk-container-id-25 input.sk-toggleable__control:checked~label.sk-toggleable__label-arrow:before {content: \"▾\";}#sk-container-id-25 div.sk-estimator input.sk-toggleable__control:checked~label.sk-toggleable__label {background-color: #d4ebff;}#sk-container-id-25 div.sk-label input.sk-toggleable__control:checked~label.sk-toggleable__label {background-color: #d4ebff;}#sk-container-id-25 input.sk-hidden--visually {border: 0;clip: rect(1px 1px 1px 1px);clip: rect(1px, 1px, 1px, 1px);height: 1px;margin: -1px;overflow: hidden;padding: 0;position: absolute;width: 1px;}#sk-container-id-25 div.sk-estimator {font-family: monospace;background-color: #f0f8ff;border: 1px dotted black;border-radius: 0.25em;box-sizing: border-box;margin-bottom: 0.5em;}#sk-container-id-25 div.sk-estimator:hover {background-color: #d4ebff;}#sk-container-id-25 div.sk-parallel-item::after {content: \"\";width: 100%;border-bottom: 1px solid gray;flex-grow: 1;}#sk-container-id-25 div.sk-label:hover label.sk-toggleable__label {background-color: #d4ebff;}#sk-container-id-25 div.sk-serial::before {content: \"\";position: absolute;border-left: 1px solid gray;box-sizing: border-box;top: 0;bottom: 0;left: 50%;z-index: 0;}#sk-container-id-25 div.sk-serial {display: flex;flex-direction: column;align-items: center;background-color: white;padding-right: 0.2em;padding-left: 0.2em;position: relative;}#sk-container-id-25 div.sk-item {position: relative;z-index: 1;}#sk-container-id-25 div.sk-parallel {display: flex;align-items: stretch;justify-content: center;background-color: white;position: relative;}#sk-container-id-25 div.sk-item::before, #sk-container-id-25 div.sk-parallel-item::before {content: \"\";position: absolute;border-left: 1px solid gray;box-sizing: border-box;top: 0;bottom: 0;left: 50%;z-index: -1;}#sk-container-id-25 div.sk-parallel-item {display: flex;flex-direction: column;z-index: 1;position: relative;background-color: white;}#sk-container-id-25 div.sk-parallel-item:first-child::after {align-self: flex-end;width: 50%;}#sk-container-id-25 div.sk-parallel-item:last-child::after {align-self: flex-start;width: 50%;}#sk-container-id-25 div.sk-parallel-item:only-child::after {width: 0;}#sk-container-id-25 div.sk-dashed-wrapped {border: 1px dashed gray;margin: 0 0.4em 0.5em 0.4em;box-sizing: border-box;padding-bottom: 0.4em;background-color: white;}#sk-container-id-25 div.sk-label label {font-family: monospace;font-weight: bold;display: inline-block;line-height: 1.2em;}#sk-container-id-25 div.sk-label-container {text-align: center;}#sk-container-id-25 div.sk-container {/* jupyter's `normalize.less` sets `[hidden] { display: none; }` but bootstrap.min.css set `[hidden] { display: none !important; }` so we also need the `!important` here to be able to override the default hidden behavior on the sphinx rendered scikit-learn.org. See: https://github.com/scikit-learn/scikit-learn/issues/21755 */display: inline-block !important;position: relative;}#sk-container-id-25 div.sk-text-repr-fallback {display: none;}</style><div id=\"sk-container-id-25\" class=\"sk-top-container\"><div class=\"sk-text-repr-fallback\"><pre>LinearRegression()</pre><b>In a Jupyter environment, please rerun this cell to show the HTML representation or trust the notebook. <br />On GitHub, the HTML representation is unable to render, please try loading this page with nbviewer.org.</b></div><div class=\"sk-container\" hidden><div class=\"sk-item\"><div class=\"sk-estimator sk-toggleable\"><input class=\"sk-toggleable__control sk-hidden--visually\" id=\"sk-estimator-id-25\" type=\"checkbox\" checked><label for=\"sk-estimator-id-25\" class=\"sk-toggleable__label sk-toggleable__label-arrow\">LinearRegression</label><div class=\"sk-toggleable__content\"><pre>LinearRegression()</pre></div></div></div></div></div>"
      ],
      "text/plain": [
       "LinearRegression()"
      ]
     },
     "execution_count": 637,
     "metadata": {},
     "output_type": "execute_result"
    }
   ],
   "source": [
    "reg= LinearRegression()\n",
    "reg.fit(X_train,y_train)"
   ]
  },
  {
   "cell_type": "markdown",
   "id": "2f3eb8c0",
   "metadata": {},
   "source": [
    "Model prediction and test data"
   ]
  },
  {
   "cell_type": "code",
   "execution_count": 638,
   "id": "de54e99f",
   "metadata": {},
   "outputs": [
    {
     "name": "stdout",
     "output_type": "stream",
     "text": [
      "[[88.4543769 ]\n",
      " [85.9191496 ]\n",
      " [99.4900722 ]\n",
      " ...\n",
      " [90.24394911]\n",
      " [97.55136897]\n",
      " [95.61266574]]\n",
      "[[90.]\n",
      " [84.]\n",
      " [98.]\n",
      " ...\n",
      " [91.]\n",
      " [95.]\n",
      " [95.]]\n"
     ]
    }
   ],
   "source": [
    "y_predict=reg.predict(X_test)\n",
    "print(y_predict)\n",
    "print(y_test)"
   ]
  },
  {
   "cell_type": "markdown",
   "id": "0f37fc0c",
   "metadata": {},
   "source": [
    "Calculate the accuracy of the model using reg.score"
   ]
  },
  {
   "cell_type": "code",
   "execution_count": 639,
   "id": "5e924c4f",
   "metadata": {},
   "outputs": [
    {
     "data": {
      "text/plain": [
       "0.6804690764057619"
      ]
     },
     "execution_count": 639,
     "metadata": {},
     "output_type": "execute_result"
    }
   ],
   "source": [
    "reg.score(X_test, y_test)"
   ]
  },
  {
   "cell_type": "markdown",
   "id": "160d02a2",
   "metadata": {},
   "source": [
    "Hyperparamater Tuning - increase the test size to 30%"
   ]
  },
  {
   "cell_type": "code",
   "execution_count": 640,
   "id": "372aad3e",
   "metadata": {},
   "outputs": [],
   "source": [
    "X_train,X_test,y_train,y_test= train_test_split(X,y, test_size=0.3, random_state=0)"
   ]
  },
  {
   "cell_type": "code",
   "execution_count": 641,
   "id": "cc767806",
   "metadata": {},
   "outputs": [
    {
     "data": {
      "text/html": [
       "<style>#sk-container-id-26 {color: black;background-color: white;}#sk-container-id-26 pre{padding: 0;}#sk-container-id-26 div.sk-toggleable {background-color: white;}#sk-container-id-26 label.sk-toggleable__label {cursor: pointer;display: block;width: 100%;margin-bottom: 0;padding: 0.3em;box-sizing: border-box;text-align: center;}#sk-container-id-26 label.sk-toggleable__label-arrow:before {content: \"▸\";float: left;margin-right: 0.25em;color: #696969;}#sk-container-id-26 label.sk-toggleable__label-arrow:hover:before {color: black;}#sk-container-id-26 div.sk-estimator:hover label.sk-toggleable__label-arrow:before {color: black;}#sk-container-id-26 div.sk-toggleable__content {max-height: 0;max-width: 0;overflow: hidden;text-align: left;background-color: #f0f8ff;}#sk-container-id-26 div.sk-toggleable__content pre {margin: 0.2em;color: black;border-radius: 0.25em;background-color: #f0f8ff;}#sk-container-id-26 input.sk-toggleable__control:checked~div.sk-toggleable__content {max-height: 200px;max-width: 100%;overflow: auto;}#sk-container-id-26 input.sk-toggleable__control:checked~label.sk-toggleable__label-arrow:before {content: \"▾\";}#sk-container-id-26 div.sk-estimator input.sk-toggleable__control:checked~label.sk-toggleable__label {background-color: #d4ebff;}#sk-container-id-26 div.sk-label input.sk-toggleable__control:checked~label.sk-toggleable__label {background-color: #d4ebff;}#sk-container-id-26 input.sk-hidden--visually {border: 0;clip: rect(1px 1px 1px 1px);clip: rect(1px, 1px, 1px, 1px);height: 1px;margin: -1px;overflow: hidden;padding: 0;position: absolute;width: 1px;}#sk-container-id-26 div.sk-estimator {font-family: monospace;background-color: #f0f8ff;border: 1px dotted black;border-radius: 0.25em;box-sizing: border-box;margin-bottom: 0.5em;}#sk-container-id-26 div.sk-estimator:hover {background-color: #d4ebff;}#sk-container-id-26 div.sk-parallel-item::after {content: \"\";width: 100%;border-bottom: 1px solid gray;flex-grow: 1;}#sk-container-id-26 div.sk-label:hover label.sk-toggleable__label {background-color: #d4ebff;}#sk-container-id-26 div.sk-serial::before {content: \"\";position: absolute;border-left: 1px solid gray;box-sizing: border-box;top: 0;bottom: 0;left: 50%;z-index: 0;}#sk-container-id-26 div.sk-serial {display: flex;flex-direction: column;align-items: center;background-color: white;padding-right: 0.2em;padding-left: 0.2em;position: relative;}#sk-container-id-26 div.sk-item {position: relative;z-index: 1;}#sk-container-id-26 div.sk-parallel {display: flex;align-items: stretch;justify-content: center;background-color: white;position: relative;}#sk-container-id-26 div.sk-item::before, #sk-container-id-26 div.sk-parallel-item::before {content: \"\";position: absolute;border-left: 1px solid gray;box-sizing: border-box;top: 0;bottom: 0;left: 50%;z-index: -1;}#sk-container-id-26 div.sk-parallel-item {display: flex;flex-direction: column;z-index: 1;position: relative;background-color: white;}#sk-container-id-26 div.sk-parallel-item:first-child::after {align-self: flex-end;width: 50%;}#sk-container-id-26 div.sk-parallel-item:last-child::after {align-self: flex-start;width: 50%;}#sk-container-id-26 div.sk-parallel-item:only-child::after {width: 0;}#sk-container-id-26 div.sk-dashed-wrapped {border: 1px dashed gray;margin: 0 0.4em 0.5em 0.4em;box-sizing: border-box;padding-bottom: 0.4em;background-color: white;}#sk-container-id-26 div.sk-label label {font-family: monospace;font-weight: bold;display: inline-block;line-height: 1.2em;}#sk-container-id-26 div.sk-label-container {text-align: center;}#sk-container-id-26 div.sk-container {/* jupyter's `normalize.less` sets `[hidden] { display: none; }` but bootstrap.min.css set `[hidden] { display: none !important; }` so we also need the `!important` here to be able to override the default hidden behavior on the sphinx rendered scikit-learn.org. See: https://github.com/scikit-learn/scikit-learn/issues/21755 */display: inline-block !important;position: relative;}#sk-container-id-26 div.sk-text-repr-fallback {display: none;}</style><div id=\"sk-container-id-26\" class=\"sk-top-container\"><div class=\"sk-text-repr-fallback\"><pre>LinearRegression()</pre><b>In a Jupyter environment, please rerun this cell to show the HTML representation or trust the notebook. <br />On GitHub, the HTML representation is unable to render, please try loading this page with nbviewer.org.</b></div><div class=\"sk-container\" hidden><div class=\"sk-item\"><div class=\"sk-estimator sk-toggleable\"><input class=\"sk-toggleable__control sk-hidden--visually\" id=\"sk-estimator-id-26\" type=\"checkbox\" checked><label for=\"sk-estimator-id-26\" class=\"sk-toggleable__label sk-toggleable__label-arrow\">LinearRegression</label><div class=\"sk-toggleable__content\"><pre>LinearRegression()</pre></div></div></div></div></div>"
      ],
      "text/plain": [
       "LinearRegression()"
      ]
     },
     "execution_count": 641,
     "metadata": {},
     "output_type": "execute_result"
    }
   ],
   "source": [
    "reg= LinearRegression()\n",
    "reg.fit(X_train,y_train)"
   ]
  },
  {
   "cell_type": "code",
   "execution_count": 642,
   "id": "fe9acc75",
   "metadata": {},
   "outputs": [
    {
     "name": "stdout",
     "output_type": "stream",
     "text": [
      "[[88.47564512]\n",
      " [85.94970277]\n",
      " [99.47092361]\n",
      " ...\n",
      " [89.0699845 ]\n",
      " [86.84121184]\n",
      " [95.90488735]]\n",
      "[[90.]\n",
      " [84.]\n",
      " [98.]\n",
      " ...\n",
      " [92.]\n",
      " [86.]\n",
      " [96.]]\n"
     ]
    }
   ],
   "source": [
    "y_predict=reg.predict(X_test)\n",
    "print(y_predict)\n",
    "print(y_test)"
   ]
  },
  {
   "cell_type": "code",
   "execution_count": 643,
   "id": "6cfff25b",
   "metadata": {},
   "outputs": [
    {
     "data": {
      "text/plain": [
       "0.68504373248925"
      ]
     },
     "execution_count": 643,
     "metadata": {},
     "output_type": "execute_result"
    }
   ],
   "source": [
    "reg.score(X_test, y_test)"
   ]
  },
  {
   "cell_type": "markdown",
   "id": "84a7600b",
   "metadata": {},
   "source": [
    "### Visualisation - Graph (MatPlotLib)"
   ]
  },
  {
   "cell_type": "markdown",
   "id": "994c3733",
   "metadata": {},
   "source": [
    "Trained data with predicted trained best fit line"
   ]
  },
  {
   "cell_type": "code",
   "execution_count": 644,
   "id": "04d3b6e1",
   "metadata": {},
   "outputs": [
    {
     "data": {
      "image/png": "[encoded data removed]",
      "text/plain": [
       "<Figure size 640x480 with 1 Axes>"
      ]
     },
     "metadata": {},
     "output_type": "display_data"
    }
   ],
   "source": [
    "plt.scatter(X_train,y_train,color='red')\n",
    "plt.plot(X_train,reg.predict(X_train),color='blue')\n",
    "plt.title(\"likedPercentage V's rating\")\n",
    "plt.xlabel(\"rating out of 5\")\n",
    "plt.ylabel(\"likedPercent out of 100\")\n",
    "plt.show()"
   ]
  },
  {
   "cell_type": "markdown",
   "id": "ab52504e",
   "metadata": {},
   "source": [
    "Test data with predicted test best fit line"
   ]
  },
  {
   "cell_type": "code",
   "execution_count": 645,
   "id": "3f972afe",
   "metadata": {},
   "outputs": [
    {
     "data": {
      "image/png": "[encoded data removed]",
      "text/plain": [
       "<Figure size 640x480 with 1 Axes>"
      ]
     },
     "metadata": {},
     "output_type": "display_data"
    }
   ],
   "source": [
    "plt.scatter(X_test,y_test,color='red')\n",
    "plt.plot(X_test,reg.predict(X_test),color='blue')\n",
    "plt.title(\"Linear Regression likedPercent V's rating\")\n",
    "plt.xlabel(\"rating out of 5\")\n",
    "plt.ylabel(\"likedPercent out of 100\")\n",
    "plt.show()"
   ]
  },
  {
   "cell_type": "markdown",
   "id": "9c33802a",
   "metadata": {},
   "source": [
    "### Predict a target variable using Decision Tree"
   ]
  },
  {
   "cell_type": "markdown",
   "id": "b052f293",
   "metadata": {},
   "source": [
    "Check data types"
   ]
  },
  {
   "cell_type": "code",
   "execution_count": 646,
   "id": "5228aca9",
   "metadata": {},
   "outputs": [
    {
     "name": "stdout",
     "output_type": "stream",
     "text": [
      "float64\n",
      "float64\n",
      "int64\n",
      "int64\n",
      "int64\n"
     ]
    }
   ],
   "source": [
    "print(df_BestBooks.likedPercent.dtypes)\n",
    "print(df_BestBooks.rating.dtypes)\n",
    "print(df_BestBooks.numRatings.dtypes)\n",
    "print(df_BestBooks.bbeScore.dtypes)\n",
    "print(df_BestBooks.bbeVotes.dtypes)"
   ]
  },
  {
   "cell_type": "markdown",
   "id": "23c19ea4",
   "metadata": {},
   "source": [
    "Define the target Variable"
   ]
  },
  {
   "cell_type": "code",
   "execution_count": 647,
   "id": "8eb1c82f",
   "metadata": {},
   "outputs": [],
   "source": [
    "Target_Variables = ['rating']\n",
    "y2 = df_BestBooks[Target_Variables]"
   ]
  },
  {
   "cell_type": "code",
   "execution_count": 648,
   "id": "3aa869c4",
   "metadata": {},
   "outputs": [
    {
     "data": {
      "text/html": [
       "<div>\n",
       "<style scoped>\n",
       "    .dataframe tbody tr th:only-of-type {\n",
       "        vertical-align: middle;\n",
       "    }\n",
       "\n",
       "    .dataframe tbody tr th {\n",
       "        vertical-align: top;\n",
       "    }\n",
       "\n",
       "    .dataframe thead th {\n",
       "        text-align: right;\n",
       "    }\n",
       "</style>\n",
       "<table border=\"1\" class=\"dataframe\">\n",
       "  <thead>\n",
       "    <tr style=\"text-align: right;\">\n",
       "      <th></th>\n",
       "      <th>rating</th>\n",
       "    </tr>\n",
       "  </thead>\n",
       "  <tbody>\n",
       "    <tr>\n",
       "      <th>0</th>\n",
       "      <td>4.33</td>\n",
       "    </tr>\n",
       "    <tr>\n",
       "      <th>1</th>\n",
       "      <td>4.50</td>\n",
       "    </tr>\n",
       "    <tr>\n",
       "      <th>4</th>\n",
       "      <td>3.60</td>\n",
       "    </tr>\n",
       "    <tr>\n",
       "      <th>5</th>\n",
       "      <td>4.37</td>\n",
       "    </tr>\n",
       "    <tr>\n",
       "      <th>6</th>\n",
       "      <td>3.95</td>\n",
       "    </tr>\n",
       "    <tr>\n",
       "      <th>...</th>\n",
       "      <td>...</td>\n",
       "    </tr>\n",
       "    <tr>\n",
       "      <th>52470</th>\n",
       "      <td>4.14</td>\n",
       "    </tr>\n",
       "    <tr>\n",
       "      <th>52472</th>\n",
       "      <td>4.16</td>\n",
       "    </tr>\n",
       "    <tr>\n",
       "      <th>52475</th>\n",
       "      <td>3.70</td>\n",
       "    </tr>\n",
       "    <tr>\n",
       "      <th>52476</th>\n",
       "      <td>3.85</td>\n",
       "    </tr>\n",
       "    <tr>\n",
       "      <th>52477</th>\n",
       "      <td>4.02</td>\n",
       "    </tr>\n",
       "  </tbody>\n",
       "</table>\n",
       "<p>37901 rows × 1 columns</p>\n",
       "</div>"
      ],
      "text/plain": [
       "       rating\n",
       "0        4.33\n",
       "1        4.50\n",
       "4        3.60\n",
       "5        4.37\n",
       "6        3.95\n",
       "...       ...\n",
       "52470    4.14\n",
       "52472    4.16\n",
       "52475    3.70\n",
       "52476    3.85\n",
       "52477    4.02\n",
       "\n",
       "[37901 rows x 1 columns]"
      ]
     },
     "execution_count": 648,
     "metadata": {},
     "output_type": "execute_result"
    }
   ],
   "source": [
    "y2"
   ]
  },
  {
   "cell_type": "markdown",
   "id": "2c12b217",
   "metadata": {},
   "source": [
    "Define the predictive Variables"
   ]
  },
  {
   "cell_type": "code",
   "execution_count": 649,
   "id": "69920878",
   "metadata": {},
   "outputs": [],
   "source": [
    "Predictive_Variables = ['likedPercent', 'numRatings', 'bbeScore', 'bbeVotes']\n",
    "X2 = df_BestBooks[Predictive_Variables]"
   ]
  },
  {
   "cell_type": "code",
   "execution_count": 650,
   "id": "825fb55f",
   "metadata": {},
   "outputs": [
    {
     "data": {
      "text/html": [
       "<div>\n",
       "<style scoped>\n",
       "    .dataframe tbody tr th:only-of-type {\n",
       "        vertical-align: middle;\n",
       "    }\n",
       "\n",
       "    .dataframe tbody tr th {\n",
       "        vertical-align: top;\n",
       "    }\n",
       "\n",
       "    .dataframe thead th {\n",
       "        text-align: right;\n",
       "    }\n",
       "</style>\n",
       "<table border=\"1\" class=\"dataframe\">\n",
       "  <thead>\n",
       "    <tr style=\"text-align: right;\">\n",
       "      <th></th>\n",
       "      <th>likedPercent</th>\n",
       "      <th>numRatings</th>\n",
       "      <th>bbeScore</th>\n",
       "      <th>bbeVotes</th>\n",
       "    </tr>\n",
       "  </thead>\n",
       "  <tbody>\n",
       "    <tr>\n",
       "      <th>0</th>\n",
       "      <td>96.0</td>\n",
       "      <td>6376780</td>\n",
       "      <td>2993816</td>\n",
       "      <td>30516</td>\n",
       "    </tr>\n",
       "    <tr>\n",
       "      <th>1</th>\n",
       "      <td>98.0</td>\n",
       "      <td>2507623</td>\n",
       "      <td>2632233</td>\n",
       "      <td>26923</td>\n",
       "    </tr>\n",
       "    <tr>\n",
       "      <th>4</th>\n",
       "      <td>78.0</td>\n",
       "      <td>4964519</td>\n",
       "      <td>1459448</td>\n",
       "      <td>14874</td>\n",
       "    </tr>\n",
       "    <tr>\n",
       "      <th>5</th>\n",
       "      <td>96.0</td>\n",
       "      <td>1834276</td>\n",
       "      <td>1372809</td>\n",
       "      <td>14168</td>\n",
       "    </tr>\n",
       "    <tr>\n",
       "      <th>6</th>\n",
       "      <td>91.0</td>\n",
       "      <td>2740713</td>\n",
       "      <td>1276599</td>\n",
       "      <td>13264</td>\n",
       "    </tr>\n",
       "    <tr>\n",
       "      <th>...</th>\n",
       "      <td>...</td>\n",
       "      <td>...</td>\n",
       "      <td>...</td>\n",
       "      <td>...</td>\n",
       "    </tr>\n",
       "    <tr>\n",
       "      <th>52470</th>\n",
       "      <td>95.0</td>\n",
       "      <td>2143</td>\n",
       "      <td>0</td>\n",
       "      <td>1</td>\n",
       "    </tr>\n",
       "    <tr>\n",
       "      <th>52472</th>\n",
       "      <td>94.0</td>\n",
       "      <td>1028</td>\n",
       "      <td>0</td>\n",
       "      <td>1</td>\n",
       "    </tr>\n",
       "    <tr>\n",
       "      <th>52475</th>\n",
       "      <td>84.0</td>\n",
       "      <td>6674</td>\n",
       "      <td>0</td>\n",
       "      <td>1</td>\n",
       "    </tr>\n",
       "    <tr>\n",
       "      <th>52476</th>\n",
       "      <td>90.0</td>\n",
       "      <td>238</td>\n",
       "      <td>0</td>\n",
       "      <td>1</td>\n",
       "    </tr>\n",
       "    <tr>\n",
       "      <th>52477</th>\n",
       "      <td>90.0</td>\n",
       "      <td>246</td>\n",
       "      <td>0</td>\n",
       "      <td>1</td>\n",
       "    </tr>\n",
       "  </tbody>\n",
       "</table>\n",
       "<p>37901 rows × 4 columns</p>\n",
       "</div>"
      ],
      "text/plain": [
       "       likedPercent  numRatings  bbeScore  bbeVotes\n",
       "0              96.0     6376780   2993816     30516\n",
       "1              98.0     2507623   2632233     26923\n",
       "4              78.0     4964519   1459448     14874\n",
       "5              96.0     1834276   1372809     14168\n",
       "6              91.0     2740713   1276599     13264\n",
       "...             ...         ...       ...       ...\n",
       "52470          95.0        2143         0         1\n",
       "52472          94.0        1028         0         1\n",
       "52475          84.0        6674         0         1\n",
       "52476          90.0         238         0         1\n",
       "52477          90.0         246         0         1\n",
       "\n",
       "[37901 rows x 4 columns]"
      ]
     },
     "execution_count": 650,
     "metadata": {},
     "output_type": "execute_result"
    }
   ],
   "source": [
    "X2"
   ]
  },
  {
   "cell_type": "markdown",
   "id": "156b43a5",
   "metadata": {},
   "source": [
    "Split the data in training and testing "
   ]
  },
  {
   "cell_type": "code",
   "execution_count": 651,
   "id": "b6ae256d",
   "metadata": {},
   "outputs": [],
   "source": [
    "X2_train, X2_test, y2_train, y2_test = train_test_split(X2,y2, test_size=0.3, random_state=0)"
   ]
  },
  {
   "cell_type": "code",
   "execution_count": 652,
   "id": "6cc0a704",
   "metadata": {},
   "outputs": [
    {
     "data": {
      "text/plain": [
       "(       likedPercent  numRatings  bbeScore  bbeVotes\n",
       " 29684          95.0        1219        95         1\n",
       " 47776          96.0       10757        54         1\n",
       " 58             89.0     1162638    438548      4912\n",
       " 32756          97.0        7514        93         1\n",
       " 9203           96.0        7719       277         3\n",
       " ...             ...         ...       ...       ...\n",
       " 28175          94.0          35        96         1\n",
       " 44812          97.0        1095        69         1\n",
       " 42484          95.0         864        76         2\n",
       " 28949          98.0        5238        96         1\n",
       " 3378           93.0      164487       983        12\n",
       " \n",
       " [26530 rows x 4 columns],\n",
       "        likedPercent  numRatings  bbeScore  bbeVotes\n",
       " 13551          90.0        2522       183         2\n",
       " 29457          84.0         452        95         1\n",
       " 842            98.0       46003      8261       111\n",
       " 8373           93.0          15       298         3\n",
       " 39525          89.0         199        83         1\n",
       " ...             ...         ...       ...       ...\n",
       " 33001          93.0        3000        92         1\n",
       " 1896           89.0       29669      2180        26\n",
       " 16193          92.0       13849       147         2\n",
       " 40227          86.0         356        82         1\n",
       " 36500          96.0        3343        88         1\n",
       " \n",
       " [11371 rows x 4 columns],\n",
       "        rating\n",
       " 29684    4.19\n",
       " 47776    4.35\n",
       " 58       3.81\n",
       " 32756    4.23\n",
       " 9203     4.18\n",
       " ...       ...\n",
       " 28175    4.23\n",
       " 44812    4.16\n",
       " 42484    4.00\n",
       " 28949    4.54\n",
       " 3378     3.88\n",
       " \n",
       " [26530 rows x 1 columns],\n",
       "        rating\n",
       " 13551    3.74\n",
       " 29457    3.57\n",
       " 842      4.48\n",
       " 8373     4.47\n",
       " 39525    3.84\n",
       " ...       ...\n",
       " 33001    3.89\n",
       " 1896     3.93\n",
       " 16193    3.78\n",
       " 40227    3.63\n",
       " 36500    4.24\n",
       " \n",
       " [11371 rows x 1 columns])"
      ]
     },
     "execution_count": 652,
     "metadata": {},
     "output_type": "execute_result"
    }
   ],
   "source": [
    "X2_train, X2_test, y2_train, y2_test"
   ]
  },
  {
   "cell_type": "markdown",
   "id": "182052d9",
   "metadata": {},
   "source": [
    "Use Decision Tree Regressor function to train and fit the model"
   ]
  },
  {
   "cell_type": "code",
   "execution_count": 653,
   "id": "98455214",
   "metadata": {},
   "outputs": [
    {
     "data": {
      "text/html": [
       "<style>#sk-container-id-27 {color: black;background-color: white;}#sk-container-id-27 pre{padding: 0;}#sk-container-id-27 div.sk-toggleable {background-color: white;}#sk-container-id-27 label.sk-toggleable__label {cursor: pointer;display: block;width: 100%;margin-bottom: 0;padding: 0.3em;box-sizing: border-box;text-align: center;}#sk-container-id-27 label.sk-toggleable__label-arrow:before {content: \"▸\";float: left;margin-right: 0.25em;color: #696969;}#sk-container-id-27 label.sk-toggleable__label-arrow:hover:before {color: black;}#sk-container-id-27 div.sk-estimator:hover label.sk-toggleable__label-arrow:before {color: black;}#sk-container-id-27 div.sk-toggleable__content {max-height: 0;max-width: 0;overflow: hidden;text-align: left;background-color: #f0f8ff;}#sk-container-id-27 div.sk-toggleable__content pre {margin: 0.2em;color: black;border-radius: 0.25em;background-color: #f0f8ff;}#sk-container-id-27 input.sk-toggleable__control:checked~div.sk-toggleable__content {max-height: 200px;max-width: 100%;overflow: auto;}#sk-container-id-27 input.sk-toggleable__control:checked~label.sk-toggleable__label-arrow:before {content: \"▾\";}#sk-container-id-27 div.sk-estimator input.sk-toggleable__control:checked~label.sk-toggleable__label {background-color: #d4ebff;}#sk-container-id-27 div.sk-label input.sk-toggleable__control:checked~label.sk-toggleable__label {background-color: #d4ebff;}#sk-container-id-27 input.sk-hidden--visually {border: 0;clip: rect(1px 1px 1px 1px);clip: rect(1px, 1px, 1px, 1px);height: 1px;margin: -1px;overflow: hidden;padding: 0;position: absolute;width: 1px;}#sk-container-id-27 div.sk-estimator {font-family: monospace;background-color: #f0f8ff;border: 1px dotted black;border-radius: 0.25em;box-sizing: border-box;margin-bottom: 0.5em;}#sk-container-id-27 div.sk-estimator:hover {background-color: #d4ebff;}#sk-container-id-27 div.sk-parallel-item::after {content: \"\";width: 100%;border-bottom: 1px solid gray;flex-grow: 1;}#sk-container-id-27 div.sk-label:hover label.sk-toggleable__label {background-color: #d4ebff;}#sk-container-id-27 div.sk-serial::before {content: \"\";position: absolute;border-left: 1px solid gray;box-sizing: border-box;top: 0;bottom: 0;left: 50%;z-index: 0;}#sk-container-id-27 div.sk-serial {display: flex;flex-direction: column;align-items: center;background-color: white;padding-right: 0.2em;padding-left: 0.2em;position: relative;}#sk-container-id-27 div.sk-item {position: relative;z-index: 1;}#sk-container-id-27 div.sk-parallel {display: flex;align-items: stretch;justify-content: center;background-color: white;position: relative;}#sk-container-id-27 div.sk-item::before, #sk-container-id-27 div.sk-parallel-item::before {content: \"\";position: absolute;border-left: 1px solid gray;box-sizing: border-box;top: 0;bottom: 0;left: 50%;z-index: -1;}#sk-container-id-27 div.sk-parallel-item {display: flex;flex-direction: column;z-index: 1;position: relative;background-color: white;}#sk-container-id-27 div.sk-parallel-item:first-child::after {align-self: flex-end;width: 50%;}#sk-container-id-27 div.sk-parallel-item:last-child::after {align-self: flex-start;width: 50%;}#sk-container-id-27 div.sk-parallel-item:only-child::after {width: 0;}#sk-container-id-27 div.sk-dashed-wrapped {border: 1px dashed gray;margin: 0 0.4em 0.5em 0.4em;box-sizing: border-box;padding-bottom: 0.4em;background-color: white;}#sk-container-id-27 div.sk-label label {font-family: monospace;font-weight: bold;display: inline-block;line-height: 1.2em;}#sk-container-id-27 div.sk-label-container {text-align: center;}#sk-container-id-27 div.sk-container {/* jupyter's `normalize.less` sets `[hidden] { display: none; }` but bootstrap.min.css set `[hidden] { display: none !important; }` so we also need the `!important` here to be able to override the default hidden behavior on the sphinx rendered scikit-learn.org. See: https://github.com/scikit-learn/scikit-learn/issues/21755 */display: inline-block !important;position: relative;}#sk-container-id-27 div.sk-text-repr-fallback {display: none;}</style><div id=\"sk-container-id-27\" class=\"sk-top-container\"><div class=\"sk-text-repr-fallback\"><pre>DecisionTreeRegressor(max_depth=3, random_state=1)</pre><b>In a Jupyter environment, please rerun this cell to show the HTML representation or trust the notebook. <br />On GitHub, the HTML representation is unable to render, please try loading this page with nbviewer.org.</b></div><div class=\"sk-container\" hidden><div class=\"sk-item\"><div class=\"sk-estimator sk-toggleable\"><input class=\"sk-toggleable__control sk-hidden--visually\" id=\"sk-estimator-id-27\" type=\"checkbox\" checked><label for=\"sk-estimator-id-27\" class=\"sk-toggleable__label sk-toggleable__label-arrow\">DecisionTreeRegressor</label><div class=\"sk-toggleable__content\"><pre>DecisionTreeRegressor(max_depth=3, random_state=1)</pre></div></div></div></div></div>"
      ],
      "text/plain": [
       "DecisionTreeRegressor(max_depth=3, random_state=1)"
      ]
     },
     "execution_count": 653,
     "metadata": {},
     "output_type": "execute_result"
    }
   ],
   "source": [
    "rating_model = DecisionTreeRegressor (random_state=1, max_depth =3)\n",
    "rating_model.fit(X2_train, y2_train)"
   ]
  },
  {
   "cell_type": "code",
   "execution_count": 654,
   "id": "9fdeb53d",
   "metadata": {},
   "outputs": [],
   "source": [
    "value_predictions = rating_model.predict(X2_test)"
   ]
  },
  {
   "cell_type": "markdown",
   "id": "b392cfb6",
   "metadata": {},
   "source": [
    "Model prediction and test data"
   ]
  },
  {
   "cell_type": "code",
   "execution_count": 655,
   "id": "bd5397f5",
   "metadata": {},
   "outputs": [
    {
     "name": "stdout",
     "output_type": "stream",
     "text": [
      "[3.89098039 3.59842128 4.303941   4.02288688 3.75159854]\n",
      "       rating\n",
      "13551    3.74\n",
      "29457    3.57\n",
      "842      4.48\n",
      "8373     4.47\n",
      "39525    3.84\n"
     ]
    }
   ],
   "source": [
    "print(value_predictions[0:5])\n",
    "print(y2_test.head())\n"
   ]
  },
  {
   "cell_type": "markdown",
   "id": "09f4ea53",
   "metadata": {},
   "source": [
    "Actual and prediction comparison"
   ]
  },
  {
   "cell_type": "code",
   "execution_count": 656,
   "id": "8f77291f",
   "metadata": {},
   "outputs": [
    {
     "data": {
      "text/html": [
       "<div>\n",
       "<style scoped>\n",
       "    .dataframe tbody tr th:only-of-type {\n",
       "        vertical-align: middle;\n",
       "    }\n",
       "\n",
       "    .dataframe tbody tr th {\n",
       "        vertical-align: top;\n",
       "    }\n",
       "\n",
       "    .dataframe thead th {\n",
       "        text-align: right;\n",
       "    }\n",
       "</style>\n",
       "<table border=\"1\" class=\"dataframe\">\n",
       "  <thead>\n",
       "    <tr style=\"text-align: right;\">\n",
       "      <th></th>\n",
       "      <th>Actual</th>\n",
       "      <th>Prediction</th>\n",
       "      <th>Error</th>\n",
       "    </tr>\n",
       "  </thead>\n",
       "  <tbody>\n",
       "    <tr>\n",
       "      <th>43978</th>\n",
       "      <td>4.18</td>\n",
       "      <td>3.892488</td>\n",
       "      <td>0.287512</td>\n",
       "    </tr>\n",
       "    <tr>\n",
       "      <th>16576</th>\n",
       "      <td>3.85</td>\n",
       "      <td>3.589558</td>\n",
       "      <td>0.260442</td>\n",
       "    </tr>\n",
       "    <tr>\n",
       "      <th>1332</th>\n",
       "      <td>3.62</td>\n",
       "      <td>4.303898</td>\n",
       "      <td>0.683898</td>\n",
       "    </tr>\n",
       "    <tr>\n",
       "      <th>852</th>\n",
       "      <td>4.03</td>\n",
       "      <td>4.022393</td>\n",
       "      <td>0.007607</td>\n",
       "    </tr>\n",
       "    <tr>\n",
       "      <th>5</th>\n",
       "      <td>4.37</td>\n",
       "      <td>3.753953</td>\n",
       "      <td>0.616047</td>\n",
       "    </tr>\n",
       "    <tr>\n",
       "      <th>33166</th>\n",
       "      <td>4.34</td>\n",
       "      <td>3.753953</td>\n",
       "      <td>0.586047</td>\n",
       "    </tr>\n",
       "    <tr>\n",
       "      <th>31983</th>\n",
       "      <td>4.17</td>\n",
       "      <td>3.753953</td>\n",
       "      <td>0.416047</td>\n",
       "    </tr>\n",
       "    <tr>\n",
       "      <th>30912</th>\n",
       "      <td>3.90</td>\n",
       "      <td>3.753953</td>\n",
       "      <td>0.146047</td>\n",
       "    </tr>\n",
       "    <tr>\n",
       "      <th>10210</th>\n",
       "      <td>3.50</td>\n",
       "      <td>4.303898</td>\n",
       "      <td>0.803898</td>\n",
       "    </tr>\n",
       "    <tr>\n",
       "      <th>44540</th>\n",
       "      <td>4.35</td>\n",
       "      <td>4.146760</td>\n",
       "      <td>0.203240</td>\n",
       "    </tr>\n",
       "    <tr>\n",
       "      <th>7450</th>\n",
       "      <td>4.03</td>\n",
       "      <td>3.753953</td>\n",
       "      <td>0.276047</td>\n",
       "    </tr>\n",
       "    <tr>\n",
       "      <th>6404</th>\n",
       "      <td>4.20</td>\n",
       "      <td>4.022393</td>\n",
       "      <td>0.177607</td>\n",
       "    </tr>\n",
       "    <tr>\n",
       "      <th>14820</th>\n",
       "      <td>4.62</td>\n",
       "      <td>4.146760</td>\n",
       "      <td>0.473240</td>\n",
       "    </tr>\n",
       "    <tr>\n",
       "      <th>18299</th>\n",
       "      <td>3.89</td>\n",
       "      <td>4.303898</td>\n",
       "      <td>0.413898</td>\n",
       "    </tr>\n",
       "    <tr>\n",
       "      <th>11034</th>\n",
       "      <td>4.10</td>\n",
       "      <td>3.589558</td>\n",
       "      <td>0.510442</td>\n",
       "    </tr>\n",
       "    <tr>\n",
       "      <th>10911</th>\n",
       "      <td>4.13</td>\n",
       "      <td>4.146760</td>\n",
       "      <td>0.016760</td>\n",
       "    </tr>\n",
       "    <tr>\n",
       "      <th>6715</th>\n",
       "      <td>3.72</td>\n",
       "      <td>4.303898</td>\n",
       "      <td>0.583898</td>\n",
       "    </tr>\n",
       "    <tr>\n",
       "      <th>1752</th>\n",
       "      <td>3.95</td>\n",
       "      <td>4.303898</td>\n",
       "      <td>0.353898</td>\n",
       "    </tr>\n",
       "    <tr>\n",
       "      <th>2037</th>\n",
       "      <td>4.23</td>\n",
       "      <td>4.146760</td>\n",
       "      <td>0.083240</td>\n",
       "    </tr>\n",
       "    <tr>\n",
       "      <th>5214</th>\n",
       "      <td>3.94</td>\n",
       "      <td>4.146760</td>\n",
       "      <td>0.206760</td>\n",
       "    </tr>\n",
       "  </tbody>\n",
       "</table>\n",
       "</div>"
      ],
      "text/plain": [
       "       Actual  Prediction     Error\n",
       "43978    4.18    3.892488  0.287512\n",
       "16576    3.85    3.589558  0.260442\n",
       "1332     3.62    4.303898  0.683898\n",
       "852      4.03    4.022393  0.007607\n",
       "5        4.37    3.753953  0.616047\n",
       "33166    4.34    3.753953  0.586047\n",
       "31983    4.17    3.753953  0.416047\n",
       "30912    3.90    3.753953  0.146047\n",
       "10210    3.50    4.303898  0.803898\n",
       "44540    4.35    4.146760  0.203240\n",
       "7450     4.03    3.753953  0.276047\n",
       "6404     4.20    4.022393  0.177607\n",
       "14820    4.62    4.146760  0.473240\n",
       "18299    3.89    4.303898  0.413898\n",
       "11034    4.10    3.589558  0.510442\n",
       "10911    4.13    4.146760  0.016760\n",
       "6715     3.72    4.303898  0.583898\n",
       "1752     3.95    4.303898  0.353898\n",
       "2037     4.23    4.146760  0.083240\n",
       "5214     3.94    4.146760  0.206760"
      ]
     },
     "execution_count": 656,
     "metadata": {},
     "output_type": "execute_result"
    }
   ],
   "source": [
    "comparison_dict = {\"Actual\":y2_test.head(20), \"Prediction\":value_predictions[0:20]}\n",
    "comparison_df"
   ]
  },
  {
   "cell_type": "markdown",
   "id": "f3270a4b",
   "metadata": {},
   "source": [
    "Mean Absolute Error"
   ]
  },
  {
   "cell_type": "code",
   "execution_count": 657,
   "id": "459ca4c2",
   "metadata": {},
   "outputs": [
    {
     "data": {
      "text/plain": [
       "0.12071051278459352"
      ]
     },
     "execution_count": 657,
     "metadata": {},
     "output_type": "execute_result"
    }
   ],
   "source": [
    "mean_absolute_error(value_predictions, y2_test)"
   ]
  },
  {
   "cell_type": "markdown",
   "id": "a4067ce7",
   "metadata": {},
   "source": [
    "### Hyperparameter Tuning"
   ]
  },
  {
   "cell_type": "markdown",
   "id": "9dcbfa0b",
   "metadata": {},
   "source": [
    "Locating where the mean absolute error is at its lowest"
   ]
  },
  {
   "cell_type": "code",
   "execution_count": 658,
   "id": "ba4028da",
   "metadata": {},
   "outputs": [],
   "source": [
    "def  mae (max_depth):\n",
    "    rating_model_tuned = DecisionTreeRegressor(max_depth = depths, random_state=1)\n",
    "    rating_model_tuned.fit(X2_train,y2_train)\n",
    "    val_predictions_1 = rating_model_tuned.predict(X2_test)\n",
    "    mae_1 = mean_absolute_error(val_predictions_1, y2_test)\n",
    "    return (mae_1)"
   ]
  },
  {
   "cell_type": "code",
   "execution_count": 659,
   "id": "f9208463",
   "metadata": {},
   "outputs": [
    {
     "name": "stdout",
     "output_type": "stream",
     "text": [
      "1 0.16886880291196446\n",
      "2 0.13544080703609584\n",
      "3 0.12071051278459352\n",
      "4 0.11570309649166463\n",
      "5 0.11288578135830793\n",
      "6 0.1113158699005688\n",
      "7 0.11031733248933288\n",
      "8 0.10982399658564436\n",
      "9 0.11049467194391169\n",
      "10 0.11190072260253371\n",
      "11 0.11353112104741815\n",
      "12 0.11590367527076155\n",
      "13 0.11823707071535593\n",
      "14 0.12036378789818603\n",
      "15 0.12353550245330297\n",
      "16 0.12643641180530094\n",
      "17 0.1289948303642854\n",
      "18 0.13110656251011124\n",
      "19 0.13407649940391506\n"
     ]
    }
   ],
   "source": [
    "lst=[]\n",
    "depth = range(1,20,1)\n",
    "for depths in depth:\n",
    "    maes = mae(depths)\n",
    "    lst.append(maes)\n",
    "    print(depths, maes)"
   ]
  },
  {
   "cell_type": "markdown",
   "id": "c09f1a28",
   "metadata": {},
   "source": [
    "Use max depth of 8 to tune the model predictions."
   ]
  },
  {
   "cell_type": "code",
   "execution_count": 660,
   "id": "201f34f6",
   "metadata": {},
   "outputs": [],
   "source": [
    "rating_model_tuned = DecisionTreeRegressor(max_depth = 8, random_state=1)\n",
    "rating_model_tuned.fit(X2_train,y2_train)\n",
    "value_predictions_2 = rating_model_tuned.predict(X2_test)\n",
    "mae_2 = mean_absolute_error(value_predictions_2, y2_test)\n"
   ]
  },
  {
   "cell_type": "markdown",
   "id": "888ec42a",
   "metadata": {},
   "source": [
    "Comparison of actual and prediction."
   ]
  },
  {
   "cell_type": "code",
   "execution_count": 661,
   "id": "1067fa0a",
   "metadata": {},
   "outputs": [
    {
     "data": {
      "text/html": [
       "<div>\n",
       "<style scoped>\n",
       "    .dataframe tbody tr th:only-of-type {\n",
       "        vertical-align: middle;\n",
       "    }\n",
       "\n",
       "    .dataframe tbody tr th {\n",
       "        vertical-align: top;\n",
       "    }\n",
       "\n",
       "    .dataframe thead th {\n",
       "        text-align: right;\n",
       "    }\n",
       "</style>\n",
       "<table border=\"1\" class=\"dataframe\">\n",
       "  <thead>\n",
       "    <tr style=\"text-align: right;\">\n",
       "      <th></th>\n",
       "      <th>Actual</th>\n",
       "      <th>Prediction</th>\n",
       "      <th>Difference</th>\n",
       "    </tr>\n",
       "  </thead>\n",
       "  <tbody>\n",
       "    <tr>\n",
       "      <th>43978</th>\n",
       "      <td>4.18</td>\n",
       "      <td>4.166165</td>\n",
       "      <td>0.013835</td>\n",
       "    </tr>\n",
       "    <tr>\n",
       "      <th>16576</th>\n",
       "      <td>3.85</td>\n",
       "      <td>3.997720</td>\n",
       "      <td>-0.147720</td>\n",
       "    </tr>\n",
       "    <tr>\n",
       "      <th>1332</th>\n",
       "      <td>3.62</td>\n",
       "      <td>3.607143</td>\n",
       "      <td>0.012857</td>\n",
       "    </tr>\n",
       "    <tr>\n",
       "      <th>852</th>\n",
       "      <td>4.03</td>\n",
       "      <td>3.997720</td>\n",
       "      <td>0.032280</td>\n",
       "    </tr>\n",
       "    <tr>\n",
       "      <th>5</th>\n",
       "      <td>4.37</td>\n",
       "      <td>4.304118</td>\n",
       "      <td>0.065882</td>\n",
       "    </tr>\n",
       "  </tbody>\n",
       "</table>\n",
       "</div>"
      ],
      "text/plain": [
       "       Actual  Prediction  Difference\n",
       "43978    4.18    4.166165    0.013835\n",
       "16576    3.85    3.997720   -0.147720\n",
       "1332     3.62    3.607143    0.012857\n",
       "852      4.03    3.997720    0.032280\n",
       "5        4.37    4.304118    0.065882"
      ]
     },
     "execution_count": 661,
     "metadata": {},
     "output_type": "execute_result"
    }
   ],
   "source": [
    "comparison_dict_2 = {\"Actual\":(y2_test.head()), \"Prediction\":value_predictions_2[0:5]}\n",
    "comparison_df_2[\"Prediction\"] = (comparison_df_2[\"Prediction\"])\n",
    "comparison_df_2[\"Difference\"] = ((comparison_df_2[\"Actual\"] - comparison_df_2[\"Prediction\"]))\n",
    "comparison_df_2"
   ]
  },
  {
   "cell_type": "markdown",
   "id": "1904f013",
   "metadata": {},
   "source": [
    "Mean Absolute Error"
   ]
  },
  {
   "cell_type": "code",
   "execution_count": 662,
   "id": "f9de3658",
   "metadata": {},
   "outputs": [
    {
     "data": {
      "text/plain": [
       "0.10982399658564436"
      ]
     },
     "execution_count": 662,
     "metadata": {},
     "output_type": "execute_result"
    }
   ],
   "source": [
    "mean_absolute_error(value_predictions_2, y2_test)"
   ]
  }
 ],
 "metadata": {
  "kernelspec": {
   "display_name": "Python 3 (ipykernel)",
   "language": "python",
   "name": "python3"
  },
  "language_info": {
   "codemirror_mode": {
    "name": "ipython",
    "version": 3
   },
   "file_extension": ".py",
   "mimetype": "text/x-python",
   "name": "python",
   "nbconvert_exporter": "python",
   "pygments_lexer": "ipython3",
   "version": "3.10.7"
  }
 },
 "nbformat": 4,
 "nbformat_minor": 5
}
