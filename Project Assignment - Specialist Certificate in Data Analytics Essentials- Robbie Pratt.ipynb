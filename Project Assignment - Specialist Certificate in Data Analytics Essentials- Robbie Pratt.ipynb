{
 "cells": [
  {
   "cell_type": "markdown",
   "id": "2d683741",
   "metadata": {},
   "source": [
    "##  Project Assignment - Specialist Certificate in Data Analytics Essentials- Robbie Pratt \n"
   ]
  },
  {
   "cell_type": "markdown",
   "id": "a1080fac",
   "metadata": {},
   "source": [
    "#### Import Python Packages"
   ]
  },
  {
   "cell_type": "code",
   "execution_count": 155,
   "id": "b156da03",
   "metadata": {},
   "outputs": [],
   "source": [
    "import pandas as pd\n",
    "import re\n",
    "import numpy as np\n",
    "import matplotlib.pylab as plt\n",
    "import matplotlib\n",
    "from sklearn.model_selection import train_test_split\n",
    "from sklearn.linear_model import LinearRegression\n",
    "from sklearn.metrics import r2_score\n",
    "import seaborn as sns"
   ]
  },
  {
   "cell_type": "markdown",
   "id": "879d9e47",
   "metadata": {},
   "source": [
    "#### Import a CSV file into a Pandas DataFrame"
   ]
  },
  {
   "cell_type": "code",
   "execution_count": 156,
   "id": "eca94cd6",
   "metadata": {},
   "outputs": [
    {
     "data": {
      "text/html": [
       "<div>\n",
       "<style scoped>\n",
       "    .dataframe tbody tr th:only-of-type {\n",
       "        vertical-align: middle;\n",
       "    }\n",
       "\n",
       "    .dataframe tbody tr th {\n",
       "        vertical-align: top;\n",
       "    }\n",
       "\n",
       "    .dataframe thead th {\n",
       "        text-align: right;\n",
       "    }\n",
       "</style>\n",
       "<table border=\"1\" class=\"dataframe\">\n",
       "  <thead>\n",
       "    <tr style=\"text-align: right;\">\n",
       "      <th></th>\n",
       "      <th>bookId</th>\n",
       "      <th>title</th>\n",
       "      <th>series</th>\n",
       "      <th>author</th>\n",
       "      <th>rating</th>\n",
       "      <th>description</th>\n",
       "      <th>language</th>\n",
       "      <th>isbn</th>\n",
       "      <th>genres</th>\n",
       "      <th>characters</th>\n",
       "      <th>...</th>\n",
       "      <th>firstPublishDate</th>\n",
       "      <th>awards</th>\n",
       "      <th>numRatings</th>\n",
       "      <th>ratingsByStars</th>\n",
       "      <th>likedPercent</th>\n",
       "      <th>setting</th>\n",
       "      <th>coverImg</th>\n",
       "      <th>bbeScore</th>\n",
       "      <th>bbeVotes</th>\n",
       "      <th>price</th>\n",
       "    </tr>\n",
       "  </thead>\n",
       "  <tbody>\n",
       "    <tr>\n",
       "      <th>0</th>\n",
       "      <td>2767052-the-hunger-games</td>\n",
       "      <td>The Hunger Games</td>\n",
       "      <td>The Hunger Games #1</td>\n",
       "      <td>Suzanne Collins</td>\n",
       "      <td>4.33</td>\n",
       "      <td>WINNING MEANS FAME AND FORTUNE.LOSING MEANS CE...</td>\n",
       "      <td>English</td>\n",
       "      <td>9780439023481</td>\n",
       "      <td>['Young Adult', 'Fiction', 'Dystopia', 'Fantas...</td>\n",
       "      <td>['Katniss Everdeen', 'Peeta Mellark', 'Cato (H...</td>\n",
       "      <td>...</td>\n",
       "      <td>NaN</td>\n",
       "      <td>['Locus Award Nominee for Best Young Adult Boo...</td>\n",
       "      <td>6376780</td>\n",
       "      <td>['3444695', '1921313', '745221', '171994', '93...</td>\n",
       "      <td>96.0</td>\n",
       "      <td>['District 12, Panem', 'Capitol, Panem', 'Pane...</td>\n",
       "      <td>https://i.gr-assets.com/images/S/compressed.ph...</td>\n",
       "      <td>2993816</td>\n",
       "      <td>30516</td>\n",
       "      <td>5.09</td>\n",
       "    </tr>\n",
       "    <tr>\n",
       "      <th>1</th>\n",
       "      <td>2.Harry_Potter_and_the_Order_of_the_Phoenix</td>\n",
       "      <td>Harry Potter and the Order of the Phoenix</td>\n",
       "      <td>Harry Potter #5</td>\n",
       "      <td>J.K. Rowling, Mary GrandPré (Illustrator)</td>\n",
       "      <td>4.50</td>\n",
       "      <td>There is a door at the end of a silent corrido...</td>\n",
       "      <td>English</td>\n",
       "      <td>9780439358071</td>\n",
       "      <td>['Fantasy', 'Young Adult', 'Fiction', 'Magic',...</td>\n",
       "      <td>['Sirius Black', 'Draco Malfoy', 'Ron Weasley'...</td>\n",
       "      <td>...</td>\n",
       "      <td>06/21/03</td>\n",
       "      <td>['Bram Stoker Award for Works for Young Reader...</td>\n",
       "      <td>2507623</td>\n",
       "      <td>['1593642', '637516', '222366', '39573', '14526']</td>\n",
       "      <td>98.0</td>\n",
       "      <td>['Hogwarts School of Witchcraft and Wizardry (...</td>\n",
       "      <td>https://i.gr-assets.com/images/S/compressed.ph...</td>\n",
       "      <td>2632233</td>\n",
       "      <td>26923</td>\n",
       "      <td>7.38</td>\n",
       "    </tr>\n",
       "    <tr>\n",
       "      <th>2</th>\n",
       "      <td>2657.To_Kill_a_Mockingbird</td>\n",
       "      <td>To Kill a Mockingbird</td>\n",
       "      <td>To Kill a Mockingbird</td>\n",
       "      <td>Harper Lee</td>\n",
       "      <td>4.28</td>\n",
       "      <td>The unforgettable novel of a childhood in a sl...</td>\n",
       "      <td>English</td>\n",
       "      <td>9999999999999</td>\n",
       "      <td>['Classics', 'Fiction', 'Historical Fiction', ...</td>\n",
       "      <td>['Scout Finch', 'Atticus Finch', 'Jem Finch', ...</td>\n",
       "      <td>...</td>\n",
       "      <td>07/11/60</td>\n",
       "      <td>['Pulitzer Prize for Fiction (1961)', 'Audie A...</td>\n",
       "      <td>4501075</td>\n",
       "      <td>['2363896', '1333153', '573280', '149952', '80...</td>\n",
       "      <td>95.0</td>\n",
       "      <td>['Maycomb, Alabama (United States)']</td>\n",
       "      <td>https://i.gr-assets.com/images/S/compressed.ph...</td>\n",
       "      <td>2269402</td>\n",
       "      <td>23328</td>\n",
       "      <td>NaN</td>\n",
       "    </tr>\n",
       "  </tbody>\n",
       "</table>\n",
       "<p>3 rows × 25 columns</p>\n",
       "</div>"
      ],
      "text/plain": [
       "                                        bookId  \\\n",
       "0                     2767052-the-hunger-games   \n",
       "1  2.Harry_Potter_and_the_Order_of_the_Phoenix   \n",
       "2                   2657.To_Kill_a_Mockingbird   \n",
       "\n",
       "                                       title                 series  \\\n",
       "0                           The Hunger Games    The Hunger Games #1   \n",
       "1  Harry Potter and the Order of the Phoenix        Harry Potter #5   \n",
       "2                      To Kill a Mockingbird  To Kill a Mockingbird   \n",
       "\n",
       "                                      author  rating  \\\n",
       "0                            Suzanne Collins    4.33   \n",
       "1  J.K. Rowling, Mary GrandPré (Illustrator)    4.50   \n",
       "2                                 Harper Lee    4.28   \n",
       "\n",
       "                                         description language           isbn  \\\n",
       "0  WINNING MEANS FAME AND FORTUNE.LOSING MEANS CE...  English  9780439023481   \n",
       "1  There is a door at the end of a silent corrido...  English  9780439358071   \n",
       "2  The unforgettable novel of a childhood in a sl...  English  9999999999999   \n",
       "\n",
       "                                              genres  \\\n",
       "0  ['Young Adult', 'Fiction', 'Dystopia', 'Fantas...   \n",
       "1  ['Fantasy', 'Young Adult', 'Fiction', 'Magic',...   \n",
       "2  ['Classics', 'Fiction', 'Historical Fiction', ...   \n",
       "\n",
       "                                          characters  ... firstPublishDate  \\\n",
       "0  ['Katniss Everdeen', 'Peeta Mellark', 'Cato (H...  ...              NaN   \n",
       "1  ['Sirius Black', 'Draco Malfoy', 'Ron Weasley'...  ...         06/21/03   \n",
       "2  ['Scout Finch', 'Atticus Finch', 'Jem Finch', ...  ...         07/11/60   \n",
       "\n",
       "                                              awards numRatings  \\\n",
       "0  ['Locus Award Nominee for Best Young Adult Boo...    6376780   \n",
       "1  ['Bram Stoker Award for Works for Young Reader...    2507623   \n",
       "2  ['Pulitzer Prize for Fiction (1961)', 'Audie A...    4501075   \n",
       "\n",
       "                                      ratingsByStars likedPercent  \\\n",
       "0  ['3444695', '1921313', '745221', '171994', '93...         96.0   \n",
       "1  ['1593642', '637516', '222366', '39573', '14526']         98.0   \n",
       "2  ['2363896', '1333153', '573280', '149952', '80...         95.0   \n",
       "\n",
       "                                             setting  \\\n",
       "0  ['District 12, Panem', 'Capitol, Panem', 'Pane...   \n",
       "1  ['Hogwarts School of Witchcraft and Wizardry (...   \n",
       "2               ['Maycomb, Alabama (United States)']   \n",
       "\n",
       "                                            coverImg  bbeScore bbeVotes  price  \n",
       "0  https://i.gr-assets.com/images/S/compressed.ph...   2993816    30516   5.09  \n",
       "1  https://i.gr-assets.com/images/S/compressed.ph...   2632233    26923   7.38  \n",
       "2  https://i.gr-assets.com/images/S/compressed.ph...   2269402    23328    NaN  \n",
       "\n",
       "[3 rows x 25 columns]"
      ]
     },
     "execution_count": 156,
     "metadata": {},
     "output_type": "execute_result"
    }
   ],
   "source": [
    "df_BestBooks=pd.read_csv('BestBooks.csv')\n",
    "df_BestBooks.head(3)"
   ]
  },
  {
   "cell_type": "markdown",
   "id": "ea357cf8",
   "metadata": {},
   "source": [
    "#### Web Scraping - Is in the complimentary notebook"
   ]
  },
  {
   "cell_type": "markdown",
   "id": "75eaf514",
   "metadata": {},
   "source": [
    "#### View Data"
   ]
  },
  {
   "cell_type": "code",
   "execution_count": 157,
   "id": "42198d5e",
   "metadata": {},
   "outputs": [
    {
     "name": "stdout",
     "output_type": "stream",
     "text": [
      "(52478, 25)\n"
     ]
    }
   ],
   "source": [
    "print(df_BestBooks.shape)"
   ]
  },
  {
   "cell_type": "markdown",
   "id": "363b7994",
   "metadata": {},
   "source": [
    "#### Find Missing values in the dataset"
   ]
  },
  {
   "cell_type": "code",
   "execution_count": 158,
   "id": "28fedc3e",
   "metadata": {},
   "outputs": [
    {
     "name": "stdout",
     "output_type": "stream",
     "text": [
      "Number of null values in the dataset are null:  bookId                  0\n",
      "title                   0\n",
      "series              29008\n",
      "author                  0\n",
      "rating                  0\n",
      "description          1338\n",
      "language             3806\n",
      "isbn                    0\n",
      "genres                  0\n",
      "characters              0\n",
      "bookFormat           1473\n",
      "edition             47523\n",
      "pages                2347\n",
      "publisher            3696\n",
      "publishDate           880\n",
      "firstPublishDate    21326\n",
      "awards                  0\n",
      "numRatings              0\n",
      "ratingsByStars          0\n",
      "likedPercent          622\n",
      "setting                 0\n",
      "coverImg              605\n",
      "bbeScore                0\n",
      "bbeVotes                0\n",
      "price               14365\n",
      "dtype: int64\n"
     ]
    }
   ],
   "source": [
    "null = df_BestBooks.isna().sum()\n",
    "print(\"Number of null values in the dataset are null: \", null)"
   ]
  },
  {
   "cell_type": "markdown",
   "id": "9b55c573",
   "metadata": {},
   "source": [
    "### Dropping unwanted columns"
   ]
  },
  {
   "cell_type": "code",
   "execution_count": 159,
   "id": "72f8ef9c",
   "metadata": {},
   "outputs": [],
   "source": [
    "df_BestBooks = df_BestBooks.drop(columns = ['series', 'description', 'language', 'bookFormat', 'edition', 'pages', 'publisher', 'publishDate', 'firstPublishDate', 'coverImg'])"
   ]
  },
  {
   "cell_type": "code",
   "execution_count": 160,
   "id": "b55eed66",
   "metadata": {},
   "outputs": [
    {
     "name": "stdout",
     "output_type": "stream",
     "text": [
      "Number of null values in the dataset are null:  bookId                0\n",
      "title                 0\n",
      "author                0\n",
      "rating                0\n",
      "isbn                  0\n",
      "genres                0\n",
      "characters            0\n",
      "awards                0\n",
      "numRatings            0\n",
      "ratingsByStars        0\n",
      "likedPercent        622\n",
      "setting               0\n",
      "bbeScore              0\n",
      "bbeVotes              0\n",
      "price             14365\n",
      "dtype: int64\n"
     ]
    }
   ],
   "source": [
    "null = df_BestBooks.isnull().sum()\n",
    "print(\"Number of null values in the dataset are null: \", null)"
   ]
  },
  {
   "cell_type": "code",
   "execution_count": 161,
   "id": "f9a14014",
   "metadata": {},
   "outputs": [
    {
     "data": {
      "text/html": [
       "<div>\n",
       "<style scoped>\n",
       "    .dataframe tbody tr th:only-of-type {\n",
       "        vertical-align: middle;\n",
       "    }\n",
       "\n",
       "    .dataframe tbody tr th {\n",
       "        vertical-align: top;\n",
       "    }\n",
       "\n",
       "    .dataframe thead th {\n",
       "        text-align: right;\n",
       "    }\n",
       "</style>\n",
       "<table border=\"1\" class=\"dataframe\">\n",
       "  <thead>\n",
       "    <tr style=\"text-align: right;\">\n",
       "      <th></th>\n",
       "      <th>bookId</th>\n",
       "      <th>title</th>\n",
       "      <th>author</th>\n",
       "      <th>rating</th>\n",
       "      <th>isbn</th>\n",
       "      <th>genres</th>\n",
       "      <th>characters</th>\n",
       "      <th>awards</th>\n",
       "      <th>numRatings</th>\n",
       "      <th>ratingsByStars</th>\n",
       "      <th>likedPercent</th>\n",
       "      <th>setting</th>\n",
       "      <th>bbeScore</th>\n",
       "      <th>bbeVotes</th>\n",
       "      <th>price</th>\n",
       "    </tr>\n",
       "  </thead>\n",
       "  <tbody>\n",
       "    <tr>\n",
       "      <th>0</th>\n",
       "      <td>2767052-the-hunger-games</td>\n",
       "      <td>The Hunger Games</td>\n",
       "      <td>Suzanne Collins</td>\n",
       "      <td>4.33</td>\n",
       "      <td>9780439023481</td>\n",
       "      <td>['Young Adult', 'Fiction', 'Dystopia', 'Fantas...</td>\n",
       "      <td>['Katniss Everdeen', 'Peeta Mellark', 'Cato (H...</td>\n",
       "      <td>['Locus Award Nominee for Best Young Adult Boo...</td>\n",
       "      <td>6376780</td>\n",
       "      <td>['3444695', '1921313', '745221', '171994', '93...</td>\n",
       "      <td>96.0</td>\n",
       "      <td>['District 12, Panem', 'Capitol, Panem', 'Pane...</td>\n",
       "      <td>2993816</td>\n",
       "      <td>30516</td>\n",
       "      <td>5.09</td>\n",
       "    </tr>\n",
       "    <tr>\n",
       "      <th>1</th>\n",
       "      <td>2.Harry_Potter_and_the_Order_of_the_Phoenix</td>\n",
       "      <td>Harry Potter and the Order of the Phoenix</td>\n",
       "      <td>J.K. Rowling, Mary GrandPré (Illustrator)</td>\n",
       "      <td>4.50</td>\n",
       "      <td>9780439358071</td>\n",
       "      <td>['Fantasy', 'Young Adult', 'Fiction', 'Magic',...</td>\n",
       "      <td>['Sirius Black', 'Draco Malfoy', 'Ron Weasley'...</td>\n",
       "      <td>['Bram Stoker Award for Works for Young Reader...</td>\n",
       "      <td>2507623</td>\n",
       "      <td>['1593642', '637516', '222366', '39573', '14526']</td>\n",
       "      <td>98.0</td>\n",
       "      <td>['Hogwarts School of Witchcraft and Wizardry (...</td>\n",
       "      <td>2632233</td>\n",
       "      <td>26923</td>\n",
       "      <td>7.38</td>\n",
       "    </tr>\n",
       "    <tr>\n",
       "      <th>2</th>\n",
       "      <td>2657.To_Kill_a_Mockingbird</td>\n",
       "      <td>To Kill a Mockingbird</td>\n",
       "      <td>Harper Lee</td>\n",
       "      <td>4.28</td>\n",
       "      <td>9999999999999</td>\n",
       "      <td>['Classics', 'Fiction', 'Historical Fiction', ...</td>\n",
       "      <td>['Scout Finch', 'Atticus Finch', 'Jem Finch', ...</td>\n",
       "      <td>['Pulitzer Prize for Fiction (1961)', 'Audie A...</td>\n",
       "      <td>4501075</td>\n",
       "      <td>['2363896', '1333153', '573280', '149952', '80...</td>\n",
       "      <td>95.0</td>\n",
       "      <td>['Maycomb, Alabama (United States)']</td>\n",
       "      <td>2269402</td>\n",
       "      <td>23328</td>\n",
       "      <td>NaN</td>\n",
       "    </tr>\n",
       "  </tbody>\n",
       "</table>\n",
       "</div>"
      ],
      "text/plain": [
       "                                        bookId  \\\n",
       "0                     2767052-the-hunger-games   \n",
       "1  2.Harry_Potter_and_the_Order_of_the_Phoenix   \n",
       "2                   2657.To_Kill_a_Mockingbird   \n",
       "\n",
       "                                       title  \\\n",
       "0                           The Hunger Games   \n",
       "1  Harry Potter and the Order of the Phoenix   \n",
       "2                      To Kill a Mockingbird   \n",
       "\n",
       "                                      author  rating           isbn  \\\n",
       "0                            Suzanne Collins    4.33  9780439023481   \n",
       "1  J.K. Rowling, Mary GrandPré (Illustrator)    4.50  9780439358071   \n",
       "2                                 Harper Lee    4.28  9999999999999   \n",
       "\n",
       "                                              genres  \\\n",
       "0  ['Young Adult', 'Fiction', 'Dystopia', 'Fantas...   \n",
       "1  ['Fantasy', 'Young Adult', 'Fiction', 'Magic',...   \n",
       "2  ['Classics', 'Fiction', 'Historical Fiction', ...   \n",
       "\n",
       "                                          characters  \\\n",
       "0  ['Katniss Everdeen', 'Peeta Mellark', 'Cato (H...   \n",
       "1  ['Sirius Black', 'Draco Malfoy', 'Ron Weasley'...   \n",
       "2  ['Scout Finch', 'Atticus Finch', 'Jem Finch', ...   \n",
       "\n",
       "                                              awards  numRatings  \\\n",
       "0  ['Locus Award Nominee for Best Young Adult Boo...     6376780   \n",
       "1  ['Bram Stoker Award for Works for Young Reader...     2507623   \n",
       "2  ['Pulitzer Prize for Fiction (1961)', 'Audie A...     4501075   \n",
       "\n",
       "                                      ratingsByStars  likedPercent  \\\n",
       "0  ['3444695', '1921313', '745221', '171994', '93...          96.0   \n",
       "1  ['1593642', '637516', '222366', '39573', '14526']          98.0   \n",
       "2  ['2363896', '1333153', '573280', '149952', '80...          95.0   \n",
       "\n",
       "                                             setting  bbeScore  bbeVotes price  \n",
       "0  ['District 12, Panem', 'Capitol, Panem', 'Pane...   2993816     30516  5.09  \n",
       "1  ['Hogwarts School of Witchcraft and Wizardry (...   2632233     26923  7.38  \n",
       "2               ['Maycomb, Alabama (United States)']   2269402     23328   NaN  "
      ]
     },
     "execution_count": 161,
     "metadata": {},
     "output_type": "execute_result"
    }
   ],
   "source": [
    "df_BestBooks.head(3)"
   ]
  },
  {
   "cell_type": "markdown",
   "id": "e7eb052d",
   "metadata": {},
   "source": [
    "### Drop rows with missing \"price\" and \"likedPercent\" "
   ]
  },
  {
   "cell_type": "code",
   "execution_count": 162,
   "id": "ca2b7e79",
   "metadata": {},
   "outputs": [],
   "source": [
    "df_BestBooks.dropna(axis=0, inplace=True)"
   ]
  },
  {
   "cell_type": "code",
   "execution_count": 163,
   "id": "d98667c8",
   "metadata": {},
   "outputs": [
    {
     "name": "stdout",
     "output_type": "stream",
     "text": [
      "Number of null values in the dataset are null:  bookId            0\n",
      "title             0\n",
      "author            0\n",
      "rating            0\n",
      "isbn              0\n",
      "genres            0\n",
      "characters        0\n",
      "awards            0\n",
      "numRatings        0\n",
      "ratingsByStars    0\n",
      "likedPercent      0\n",
      "setting           0\n",
      "bbeScore          0\n",
      "bbeVotes          0\n",
      "price             0\n",
      "dtype: int64\n"
     ]
    }
   ],
   "source": [
    "null = df_BestBooks.isna().sum()\n",
    "print(\"Number of null values in the dataset are null: \", null)"
   ]
  },
  {
   "cell_type": "code",
   "execution_count": 164,
   "id": "63e618ea",
   "metadata": {},
   "outputs": [
    {
     "name": "stdout",
     "output_type": "stream",
     "text": [
      "(37901, 15)\n"
     ]
    }
   ],
   "source": [
    "print(df_BestBooks.shape)"
   ]
  },
  {
   "cell_type": "code",
   "execution_count": 165,
   "id": "d84236a4",
   "metadata": {
    "scrolled": true
   },
   "outputs": [
    {
     "data": {
      "text/html": [
       "<div>\n",
       "<style scoped>\n",
       "    .dataframe tbody tr th:only-of-type {\n",
       "        vertical-align: middle;\n",
       "    }\n",
       "\n",
       "    .dataframe tbody tr th {\n",
       "        vertical-align: top;\n",
       "    }\n",
       "\n",
       "    .dataframe thead th {\n",
       "        text-align: right;\n",
       "    }\n",
       "</style>\n",
       "<table border=\"1\" class=\"dataframe\">\n",
       "  <thead>\n",
       "    <tr style=\"text-align: right;\">\n",
       "      <th></th>\n",
       "      <th>bookId</th>\n",
       "      <th>title</th>\n",
       "      <th>author</th>\n",
       "      <th>rating</th>\n",
       "      <th>isbn</th>\n",
       "      <th>genres</th>\n",
       "      <th>characters</th>\n",
       "      <th>awards</th>\n",
       "      <th>numRatings</th>\n",
       "      <th>ratingsByStars</th>\n",
       "      <th>likedPercent</th>\n",
       "      <th>setting</th>\n",
       "      <th>bbeScore</th>\n",
       "      <th>bbeVotes</th>\n",
       "      <th>price</th>\n",
       "    </tr>\n",
       "  </thead>\n",
       "  <tbody>\n",
       "    <tr>\n",
       "      <th>0</th>\n",
       "      <td>2767052-the-hunger-games</td>\n",
       "      <td>The Hunger Games</td>\n",
       "      <td>Suzanne Collins</td>\n",
       "      <td>4.33</td>\n",
       "      <td>9780439023481</td>\n",
       "      <td>['Young Adult', 'Fiction', 'Dystopia', 'Fantas...</td>\n",
       "      <td>['Katniss Everdeen', 'Peeta Mellark', 'Cato (H...</td>\n",
       "      <td>['Locus Award Nominee for Best Young Adult Boo...</td>\n",
       "      <td>6376780</td>\n",
       "      <td>['3444695', '1921313', '745221', '171994', '93...</td>\n",
       "      <td>96.0</td>\n",
       "      <td>['District 12, Panem', 'Capitol, Panem', 'Pane...</td>\n",
       "      <td>2993816</td>\n",
       "      <td>30516</td>\n",
       "      <td>5.09</td>\n",
       "    </tr>\n",
       "    <tr>\n",
       "      <th>1</th>\n",
       "      <td>2.Harry_Potter_and_the_Order_of_the_Phoenix</td>\n",
       "      <td>Harry Potter and the Order of the Phoenix</td>\n",
       "      <td>J.K. Rowling, Mary GrandPré (Illustrator)</td>\n",
       "      <td>4.50</td>\n",
       "      <td>9780439358071</td>\n",
       "      <td>['Fantasy', 'Young Adult', 'Fiction', 'Magic',...</td>\n",
       "      <td>['Sirius Black', 'Draco Malfoy', 'Ron Weasley'...</td>\n",
       "      <td>['Bram Stoker Award for Works for Young Reader...</td>\n",
       "      <td>2507623</td>\n",
       "      <td>['1593642', '637516', '222366', '39573', '14526']</td>\n",
       "      <td>98.0</td>\n",
       "      <td>['Hogwarts School of Witchcraft and Wizardry (...</td>\n",
       "      <td>2632233</td>\n",
       "      <td>26923</td>\n",
       "      <td>7.38</td>\n",
       "    </tr>\n",
       "    <tr>\n",
       "      <th>4</th>\n",
       "      <td>41865.Twilight</td>\n",
       "      <td>Twilight</td>\n",
       "      <td>Stephenie Meyer</td>\n",
       "      <td>3.60</td>\n",
       "      <td>9780316015844</td>\n",
       "      <td>['Young Adult', 'Fantasy', 'Romance', 'Vampire...</td>\n",
       "      <td>['Edward Cullen', 'Jacob Black', 'Laurent', 'R...</td>\n",
       "      <td>['Georgia Peach Book Award (2007)', 'Buxtehude...</td>\n",
       "      <td>4964519</td>\n",
       "      <td>['1751460', '1113682', '1008686', '542017', '5...</td>\n",
       "      <td>78.0</td>\n",
       "      <td>['Forks, Washington (United States)', 'Phoenix...</td>\n",
       "      <td>1459448</td>\n",
       "      <td>14874</td>\n",
       "      <td>2.1</td>\n",
       "    </tr>\n",
       "  </tbody>\n",
       "</table>\n",
       "</div>"
      ],
      "text/plain": [
       "                                        bookId  \\\n",
       "0                     2767052-the-hunger-games   \n",
       "1  2.Harry_Potter_and_the_Order_of_the_Phoenix   \n",
       "4                               41865.Twilight   \n",
       "\n",
       "                                       title  \\\n",
       "0                           The Hunger Games   \n",
       "1  Harry Potter and the Order of the Phoenix   \n",
       "4                                   Twilight   \n",
       "\n",
       "                                      author  rating           isbn  \\\n",
       "0                            Suzanne Collins    4.33  9780439023481   \n",
       "1  J.K. Rowling, Mary GrandPré (Illustrator)    4.50  9780439358071   \n",
       "4                            Stephenie Meyer    3.60  9780316015844   \n",
       "\n",
       "                                              genres  \\\n",
       "0  ['Young Adult', 'Fiction', 'Dystopia', 'Fantas...   \n",
       "1  ['Fantasy', 'Young Adult', 'Fiction', 'Magic',...   \n",
       "4  ['Young Adult', 'Fantasy', 'Romance', 'Vampire...   \n",
       "\n",
       "                                          characters  \\\n",
       "0  ['Katniss Everdeen', 'Peeta Mellark', 'Cato (H...   \n",
       "1  ['Sirius Black', 'Draco Malfoy', 'Ron Weasley'...   \n",
       "4  ['Edward Cullen', 'Jacob Black', 'Laurent', 'R...   \n",
       "\n",
       "                                              awards  numRatings  \\\n",
       "0  ['Locus Award Nominee for Best Young Adult Boo...     6376780   \n",
       "1  ['Bram Stoker Award for Works for Young Reader...     2507623   \n",
       "4  ['Georgia Peach Book Award (2007)', 'Buxtehude...     4964519   \n",
       "\n",
       "                                      ratingsByStars  likedPercent  \\\n",
       "0  ['3444695', '1921313', '745221', '171994', '93...          96.0   \n",
       "1  ['1593642', '637516', '222366', '39573', '14526']          98.0   \n",
       "4  ['1751460', '1113682', '1008686', '542017', '5...          78.0   \n",
       "\n",
       "                                             setting  bbeScore  bbeVotes price  \n",
       "0  ['District 12, Panem', 'Capitol, Panem', 'Pane...   2993816     30516  5.09  \n",
       "1  ['Hogwarts School of Witchcraft and Wizardry (...   2632233     26923  7.38  \n",
       "4  ['Forks, Washington (United States)', 'Phoenix...   1459448     14874   2.1  "
      ]
     },
     "execution_count": 165,
     "metadata": {},
     "output_type": "execute_result"
    }
   ],
   "source": [
    "df_BestBooks.head(3)"
   ]
  },
  {
   "cell_type": "markdown",
   "id": "49bac966",
   "metadata": {},
   "source": [
    "#### Merging - Is in the complimentary notebook"
   ]
  },
  {
   "cell_type": "markdown",
   "id": "a661dffb",
   "metadata": {},
   "source": [
    "### Iterators - In complimentary notebook for Web-scraping"
   ]
  },
  {
   "cell_type": "markdown",
   "id": "7c145a5f",
   "metadata": {},
   "source": [
    "### Dictionary or Lists / RegEx"
   ]
  },
  {
   "cell_type": "markdown",
   "id": "95e01ff3",
   "metadata": {},
   "source": [
    "### Awards is in a list, convert to string and count awards"
   ]
  },
  {
   "cell_type": "markdown",
   "id": "e6ba91d2",
   "metadata": {},
   "source": [
    "df_BestBooks ['awards'] = df_BestBooks['awards'].str.replace(r'\\W',\"\")"
   ]
  },
  {
   "cell_type": "code",
   "execution_count": 166,
   "id": "2de9db76",
   "metadata": {},
   "outputs": [
    {
     "data": {
      "text/html": [
       "<div>\n",
       "<style scoped>\n",
       "    .dataframe tbody tr th:only-of-type {\n",
       "        vertical-align: middle;\n",
       "    }\n",
       "\n",
       "    .dataframe tbody tr th {\n",
       "        vertical-align: top;\n",
       "    }\n",
       "\n",
       "    .dataframe thead th {\n",
       "        text-align: right;\n",
       "    }\n",
       "</style>\n",
       "<table border=\"1\" class=\"dataframe\">\n",
       "  <thead>\n",
       "    <tr style=\"text-align: right;\">\n",
       "      <th></th>\n",
       "      <th>bookId</th>\n",
       "      <th>title</th>\n",
       "      <th>author</th>\n",
       "      <th>rating</th>\n",
       "      <th>isbn</th>\n",
       "      <th>genres</th>\n",
       "      <th>characters</th>\n",
       "      <th>awards</th>\n",
       "      <th>numRatings</th>\n",
       "      <th>ratingsByStars</th>\n",
       "      <th>likedPercent</th>\n",
       "      <th>setting</th>\n",
       "      <th>bbeScore</th>\n",
       "      <th>bbeVotes</th>\n",
       "      <th>price</th>\n",
       "    </tr>\n",
       "  </thead>\n",
       "  <tbody>\n",
       "    <tr>\n",
       "      <th>0</th>\n",
       "      <td>2767052-the-hunger-games</td>\n",
       "      <td>The Hunger Games</td>\n",
       "      <td>Suzanne Collins</td>\n",
       "      <td>4.33</td>\n",
       "      <td>9780439023481</td>\n",
       "      <td>['Young Adult', 'Fiction', 'Dystopia', 'Fantas...</td>\n",
       "      <td>['Katniss Everdeen', 'Peeta Mellark', 'Cato (H...</td>\n",
       "      <td>['Locus Award Nominee for Best Young Adult Boo...</td>\n",
       "      <td>6376780</td>\n",
       "      <td>['3444695', '1921313', '745221', '171994', '93...</td>\n",
       "      <td>96.0</td>\n",
       "      <td>['District 12, Panem', 'Capitol, Panem', 'Pane...</td>\n",
       "      <td>2993816</td>\n",
       "      <td>30516</td>\n",
       "      <td>5.09</td>\n",
       "    </tr>\n",
       "    <tr>\n",
       "      <th>1</th>\n",
       "      <td>2.Harry_Potter_and_the_Order_of_the_Phoenix</td>\n",
       "      <td>Harry Potter and the Order of the Phoenix</td>\n",
       "      <td>J.K. Rowling, Mary GrandPré (Illustrator)</td>\n",
       "      <td>4.50</td>\n",
       "      <td>9780439358071</td>\n",
       "      <td>['Fantasy', 'Young Adult', 'Fiction', 'Magic',...</td>\n",
       "      <td>['Sirius Black', 'Draco Malfoy', 'Ron Weasley'...</td>\n",
       "      <td>['Bram Stoker Award for Works for Young Reader...</td>\n",
       "      <td>2507623</td>\n",
       "      <td>['1593642', '637516', '222366', '39573', '14526']</td>\n",
       "      <td>98.0</td>\n",
       "      <td>['Hogwarts School of Witchcraft and Wizardry (...</td>\n",
       "      <td>2632233</td>\n",
       "      <td>26923</td>\n",
       "      <td>7.38</td>\n",
       "    </tr>\n",
       "    <tr>\n",
       "      <th>4</th>\n",
       "      <td>41865.Twilight</td>\n",
       "      <td>Twilight</td>\n",
       "      <td>Stephenie Meyer</td>\n",
       "      <td>3.60</td>\n",
       "      <td>9780316015844</td>\n",
       "      <td>['Young Adult', 'Fantasy', 'Romance', 'Vampire...</td>\n",
       "      <td>['Edward Cullen', 'Jacob Black', 'Laurent', 'R...</td>\n",
       "      <td>['Georgia Peach Book Award (2007)', 'Buxtehude...</td>\n",
       "      <td>4964519</td>\n",
       "      <td>['1751460', '1113682', '1008686', '542017', '5...</td>\n",
       "      <td>78.0</td>\n",
       "      <td>['Forks, Washington (United States)', 'Phoenix...</td>\n",
       "      <td>1459448</td>\n",
       "      <td>14874</td>\n",
       "      <td>2.1</td>\n",
       "    </tr>\n",
       "  </tbody>\n",
       "</table>\n",
       "</div>"
      ],
      "text/plain": [
       "                                        bookId  \\\n",
       "0                     2767052-the-hunger-games   \n",
       "1  2.Harry_Potter_and_the_Order_of_the_Phoenix   \n",
       "4                               41865.Twilight   \n",
       "\n",
       "                                       title  \\\n",
       "0                           The Hunger Games   \n",
       "1  Harry Potter and the Order of the Phoenix   \n",
       "4                                   Twilight   \n",
       "\n",
       "                                      author  rating           isbn  \\\n",
       "0                            Suzanne Collins    4.33  9780439023481   \n",
       "1  J.K. Rowling, Mary GrandPré (Illustrator)    4.50  9780439358071   \n",
       "4                            Stephenie Meyer    3.60  9780316015844   \n",
       "\n",
       "                                              genres  \\\n",
       "0  ['Young Adult', 'Fiction', 'Dystopia', 'Fantas...   \n",
       "1  ['Fantasy', 'Young Adult', 'Fiction', 'Magic',...   \n",
       "4  ['Young Adult', 'Fantasy', 'Romance', 'Vampire...   \n",
       "\n",
       "                                          characters  \\\n",
       "0  ['Katniss Everdeen', 'Peeta Mellark', 'Cato (H...   \n",
       "1  ['Sirius Black', 'Draco Malfoy', 'Ron Weasley'...   \n",
       "4  ['Edward Cullen', 'Jacob Black', 'Laurent', 'R...   \n",
       "\n",
       "                                              awards  numRatings  \\\n",
       "0  ['Locus Award Nominee for Best Young Adult Boo...     6376780   \n",
       "1  ['Bram Stoker Award for Works for Young Reader...     2507623   \n",
       "4  ['Georgia Peach Book Award (2007)', 'Buxtehude...     4964519   \n",
       "\n",
       "                                      ratingsByStars  likedPercent  \\\n",
       "0  ['3444695', '1921313', '745221', '171994', '93...          96.0   \n",
       "1  ['1593642', '637516', '222366', '39573', '14526']          98.0   \n",
       "4  ['1751460', '1113682', '1008686', '542017', '5...          78.0   \n",
       "\n",
       "                                             setting  bbeScore  bbeVotes price  \n",
       "0  ['District 12, Panem', 'Capitol, Panem', 'Pane...   2993816     30516  5.09  \n",
       "1  ['Hogwarts School of Witchcraft and Wizardry (...   2632233     26923  7.38  \n",
       "4  ['Forks, Washington (United States)', 'Phoenix...   1459448     14874   2.1  "
      ]
     },
     "execution_count": 166,
     "metadata": {},
     "output_type": "execute_result"
    }
   ],
   "source": [
    "df_BestBooks.head(3)"
   ]
  },
  {
   "cell_type": "code",
   "execution_count": 167,
   "id": "43c500ab",
   "metadata": {},
   "outputs": [
    {
     "data": {
      "text/plain": [
       "0        ['Locus Award Nominee for Best Young Adult Boo...\n",
       "1        ['Bram Stoker Award for Works for Young Reader...\n",
       "4        ['Georgia Peach Book Award (2007)', 'Buxtehude...\n",
       "5        ['National Jewish Book Award for Children’s an...\n",
       "6        ['Prometheus Hall of Fame Award (2011)', 'Retr...\n",
       "                               ...                        \n",
       "52470    ['HOLT Medallion by Virginia Romance Writers N...\n",
       "52472                                                   []\n",
       "52475              [\"Readers' Favorite Book Award (2011)\"]\n",
       "52476                                                   []\n",
       "52477                                                   []\n",
       "Name: awards, Length: 37901, dtype: object"
      ]
     },
     "execution_count": 167,
     "metadata": {},
     "output_type": "execute_result"
    }
   ],
   "source": [
    "df_BestBooks['awards']"
   ]
  },
  {
   "cell_type": "code",
   "execution_count": 168,
   "id": "538f3f3d",
   "metadata": {},
   "outputs": [],
   "source": [
    "df_BestBooks['Award_Count'] = df_BestBooks['awards'].apply(lambda n: len(n.split(',')))"
   ]
  },
  {
   "cell_type": "code",
   "execution_count": 82,
   "id": "c0978b30",
   "metadata": {},
   "outputs": [
    {
     "data": {
      "text/plain": [
       "0        41\n",
       "1         9\n",
       "4        25\n",
       "5        20\n",
       "6         2\n",
       "         ..\n",
       "52470     1\n",
       "52472     1\n",
       "52475     1\n",
       "52476     1\n",
       "52477     1\n",
       "Name: Award_Count, Length: 37901, dtype: int64"
      ]
     },
     "execution_count": 82,
     "metadata": {},
     "output_type": "execute_result"
    }
   ],
   "source": [
    "df_BestBooks['Award_Count']"
   ]
  },
  {
   "cell_type": "code",
   "execution_count": 169,
   "id": "6710a373",
   "metadata": {},
   "outputs": [
    {
     "data": {
      "text/html": [
       "<div>\n",
       "<style scoped>\n",
       "    .dataframe tbody tr th:only-of-type {\n",
       "        vertical-align: middle;\n",
       "    }\n",
       "\n",
       "    .dataframe tbody tr th {\n",
       "        vertical-align: top;\n",
       "    }\n",
       "\n",
       "    .dataframe thead th {\n",
       "        text-align: right;\n",
       "    }\n",
       "</style>\n",
       "<table border=\"1\" class=\"dataframe\">\n",
       "  <thead>\n",
       "    <tr style=\"text-align: right;\">\n",
       "      <th></th>\n",
       "      <th>bookId</th>\n",
       "      <th>title</th>\n",
       "      <th>author</th>\n",
       "      <th>rating</th>\n",
       "      <th>isbn</th>\n",
       "      <th>genres</th>\n",
       "      <th>characters</th>\n",
       "      <th>awards</th>\n",
       "      <th>numRatings</th>\n",
       "      <th>ratingsByStars</th>\n",
       "      <th>likedPercent</th>\n",
       "      <th>setting</th>\n",
       "      <th>bbeScore</th>\n",
       "      <th>bbeVotes</th>\n",
       "      <th>price</th>\n",
       "      <th>Award_Count</th>\n",
       "    </tr>\n",
       "  </thead>\n",
       "  <tbody>\n",
       "    <tr>\n",
       "      <th>0</th>\n",
       "      <td>2767052-the-hunger-games</td>\n",
       "      <td>The Hunger Games</td>\n",
       "      <td>Suzanne Collins</td>\n",
       "      <td>4.33</td>\n",
       "      <td>9780439023481</td>\n",
       "      <td>['Young Adult', 'Fiction', 'Dystopia', 'Fantas...</td>\n",
       "      <td>['Katniss Everdeen', 'Peeta Mellark', 'Cato (H...</td>\n",
       "      <td>['Locus Award Nominee for Best Young Adult Boo...</td>\n",
       "      <td>6376780</td>\n",
       "      <td>['3444695', '1921313', '745221', '171994', '93...</td>\n",
       "      <td>96.0</td>\n",
       "      <td>['District 12, Panem', 'Capitol, Panem', 'Pane...</td>\n",
       "      <td>2993816</td>\n",
       "      <td>30516</td>\n",
       "      <td>5.09</td>\n",
       "      <td>41</td>\n",
       "    </tr>\n",
       "    <tr>\n",
       "      <th>1</th>\n",
       "      <td>2.Harry_Potter_and_the_Order_of_the_Phoenix</td>\n",
       "      <td>Harry Potter and the Order of the Phoenix</td>\n",
       "      <td>J.K. Rowling, Mary GrandPré (Illustrator)</td>\n",
       "      <td>4.50</td>\n",
       "      <td>9780439358071</td>\n",
       "      <td>['Fantasy', 'Young Adult', 'Fiction', 'Magic',...</td>\n",
       "      <td>['Sirius Black', 'Draco Malfoy', 'Ron Weasley'...</td>\n",
       "      <td>['Bram Stoker Award for Works for Young Reader...</td>\n",
       "      <td>2507623</td>\n",
       "      <td>['1593642', '637516', '222366', '39573', '14526']</td>\n",
       "      <td>98.0</td>\n",
       "      <td>['Hogwarts School of Witchcraft and Wizardry (...</td>\n",
       "      <td>2632233</td>\n",
       "      <td>26923</td>\n",
       "      <td>7.38</td>\n",
       "      <td>9</td>\n",
       "    </tr>\n",
       "    <tr>\n",
       "      <th>4</th>\n",
       "      <td>41865.Twilight</td>\n",
       "      <td>Twilight</td>\n",
       "      <td>Stephenie Meyer</td>\n",
       "      <td>3.60</td>\n",
       "      <td>9780316015844</td>\n",
       "      <td>['Young Adult', 'Fantasy', 'Romance', 'Vampire...</td>\n",
       "      <td>['Edward Cullen', 'Jacob Black', 'Laurent', 'R...</td>\n",
       "      <td>['Georgia Peach Book Award (2007)', 'Buxtehude...</td>\n",
       "      <td>4964519</td>\n",
       "      <td>['1751460', '1113682', '1008686', '542017', '5...</td>\n",
       "      <td>78.0</td>\n",
       "      <td>['Forks, Washington (United States)', 'Phoenix...</td>\n",
       "      <td>1459448</td>\n",
       "      <td>14874</td>\n",
       "      <td>2.1</td>\n",
       "      <td>25</td>\n",
       "    </tr>\n",
       "  </tbody>\n",
       "</table>\n",
       "</div>"
      ],
      "text/plain": [
       "                                        bookId  \\\n",
       "0                     2767052-the-hunger-games   \n",
       "1  2.Harry_Potter_and_the_Order_of_the_Phoenix   \n",
       "4                               41865.Twilight   \n",
       "\n",
       "                                       title  \\\n",
       "0                           The Hunger Games   \n",
       "1  Harry Potter and the Order of the Phoenix   \n",
       "4                                   Twilight   \n",
       "\n",
       "                                      author  rating           isbn  \\\n",
       "0                            Suzanne Collins    4.33  9780439023481   \n",
       "1  J.K. Rowling, Mary GrandPré (Illustrator)    4.50  9780439358071   \n",
       "4                            Stephenie Meyer    3.60  9780316015844   \n",
       "\n",
       "                                              genres  \\\n",
       "0  ['Young Adult', 'Fiction', 'Dystopia', 'Fantas...   \n",
       "1  ['Fantasy', 'Young Adult', 'Fiction', 'Magic',...   \n",
       "4  ['Young Adult', 'Fantasy', 'Romance', 'Vampire...   \n",
       "\n",
       "                                          characters  \\\n",
       "0  ['Katniss Everdeen', 'Peeta Mellark', 'Cato (H...   \n",
       "1  ['Sirius Black', 'Draco Malfoy', 'Ron Weasley'...   \n",
       "4  ['Edward Cullen', 'Jacob Black', 'Laurent', 'R...   \n",
       "\n",
       "                                              awards  numRatings  \\\n",
       "0  ['Locus Award Nominee for Best Young Adult Boo...     6376780   \n",
       "1  ['Bram Stoker Award for Works for Young Reader...     2507623   \n",
       "4  ['Georgia Peach Book Award (2007)', 'Buxtehude...     4964519   \n",
       "\n",
       "                                      ratingsByStars  likedPercent  \\\n",
       "0  ['3444695', '1921313', '745221', '171994', '93...          96.0   \n",
       "1  ['1593642', '637516', '222366', '39573', '14526']          98.0   \n",
       "4  ['1751460', '1113682', '1008686', '542017', '5...          78.0   \n",
       "\n",
       "                                             setting  bbeScore  bbeVotes  \\\n",
       "0  ['District 12, Panem', 'Capitol, Panem', 'Pane...   2993816     30516   \n",
       "1  ['Hogwarts School of Witchcraft and Wizardry (...   2632233     26923   \n",
       "4  ['Forks, Washington (United States)', 'Phoenix...   1459448     14874   \n",
       "\n",
       "  price  Award_Count  \n",
       "0  5.09           41  \n",
       "1  7.38            9  \n",
       "4   2.1           25  "
      ]
     },
     "execution_count": 169,
     "metadata": {},
     "output_type": "execute_result"
    }
   ],
   "source": [
    "df_BestBooks.head(3)"
   ]
  },
  {
   "cell_type": "markdown",
   "id": "41aa0c8b",
   "metadata": {},
   "source": [
    "### Further RegEx in complimentary notebook"
   ]
  },
  {
   "cell_type": "markdown",
   "id": "0e6d3ecc",
   "metadata": {},
   "source": [
    "### Split Genre column (list) into string. "
   ]
  },
  {
   "cell_type": "code",
   "execution_count": 84,
   "id": "cf672027",
   "metadata": {},
   "outputs": [
    {
     "data": {
      "text/html": [
       "<div>\n",
       "<style scoped>\n",
       "    .dataframe tbody tr th:only-of-type {\n",
       "        vertical-align: middle;\n",
       "    }\n",
       "\n",
       "    .dataframe tbody tr th {\n",
       "        vertical-align: top;\n",
       "    }\n",
       "\n",
       "    .dataframe thead th {\n",
       "        text-align: right;\n",
       "    }\n",
       "</style>\n",
       "<table border=\"1\" class=\"dataframe\">\n",
       "  <thead>\n",
       "    <tr style=\"text-align: right;\">\n",
       "      <th></th>\n",
       "      <th>new_genre</th>\n",
       "      <th>restof_genre</th>\n",
       "    </tr>\n",
       "  </thead>\n",
       "  <tbody>\n",
       "    <tr>\n",
       "      <th>0</th>\n",
       "      <td>['Young Adult'</td>\n",
       "      <td>'Fiction', 'Dystopia', 'Fantasy', 'Science Fi...</td>\n",
       "    </tr>\n",
       "    <tr>\n",
       "      <th>1</th>\n",
       "      <td>['Fantasy'</td>\n",
       "      <td>'Young Adult', 'Fiction', 'Magic', 'Childrens...</td>\n",
       "    </tr>\n",
       "    <tr>\n",
       "      <th>4</th>\n",
       "      <td>['Young Adult'</td>\n",
       "      <td>'Fantasy', 'Romance', 'Vampires', 'Fiction', ...</td>\n",
       "    </tr>\n",
       "    <tr>\n",
       "      <th>5</th>\n",
       "      <td>['Historical Fiction'</td>\n",
       "      <td>'Fiction', 'Young Adult', 'Historical', 'Clas...</td>\n",
       "    </tr>\n",
       "    <tr>\n",
       "      <th>6</th>\n",
       "      <td>['Classics'</td>\n",
       "      <td>'Fiction', 'Dystopia', 'Fantasy', 'Literature...</td>\n",
       "    </tr>\n",
       "    <tr>\n",
       "      <th>...</th>\n",
       "      <td>...</td>\n",
       "      <td>...</td>\n",
       "    </tr>\n",
       "    <tr>\n",
       "      <th>52470</th>\n",
       "      <td>['Christian Fiction'</td>\n",
       "      <td>'Christian', 'Suspense', 'Romance', 'Mystery'...</td>\n",
       "    </tr>\n",
       "    <tr>\n",
       "      <th>52472</th>\n",
       "      <td>['Romance'</td>\n",
       "      <td>'Young Adult', 'Contemporary', 'Contemporary ...</td>\n",
       "    </tr>\n",
       "    <tr>\n",
       "      <th>52475</th>\n",
       "      <td>['Fantasy'</td>\n",
       "      <td>'Young Adult', 'Paranormal', 'Angels', 'Roman...</td>\n",
       "    </tr>\n",
       "    <tr>\n",
       "      <th>52476</th>\n",
       "      <td>['Fiction'</td>\n",
       "      <td>'Mystery', 'Historical Fiction', 'Adventure',...</td>\n",
       "    </tr>\n",
       "    <tr>\n",
       "      <th>52477</th>\n",
       "      <td>['Lds Fiction'</td>\n",
       "      <td>'Historical Fiction', 'Young Adult', 'Fiction...</td>\n",
       "    </tr>\n",
       "  </tbody>\n",
       "</table>\n",
       "<p>37901 rows × 2 columns</p>\n",
       "</div>"
      ],
      "text/plain": [
       "                   new_genre  \\\n",
       "0             ['Young Adult'   \n",
       "1                 ['Fantasy'   \n",
       "4             ['Young Adult'   \n",
       "5      ['Historical Fiction'   \n",
       "6                ['Classics'   \n",
       "...                      ...   \n",
       "52470   ['Christian Fiction'   \n",
       "52472             ['Romance'   \n",
       "52475             ['Fantasy'   \n",
       "52476             ['Fiction'   \n",
       "52477         ['Lds Fiction'   \n",
       "\n",
       "                                            restof_genre  \n",
       "0       'Fiction', 'Dystopia', 'Fantasy', 'Science Fi...  \n",
       "1       'Young Adult', 'Fiction', 'Magic', 'Childrens...  \n",
       "4       'Fantasy', 'Romance', 'Vampires', 'Fiction', ...  \n",
       "5       'Fiction', 'Young Adult', 'Historical', 'Clas...  \n",
       "6       'Fiction', 'Dystopia', 'Fantasy', 'Literature...  \n",
       "...                                                  ...  \n",
       "52470   'Christian', 'Suspense', 'Romance', 'Mystery'...  \n",
       "52472   'Young Adult', 'Contemporary', 'Contemporary ...  \n",
       "52475   'Young Adult', 'Paranormal', 'Angels', 'Roman...  \n",
       "52476   'Mystery', 'Historical Fiction', 'Adventure',...  \n",
       "52477   'Historical Fiction', 'Young Adult', 'Fiction...  \n",
       "\n",
       "[37901 rows x 2 columns]"
      ]
     },
     "execution_count": 84,
     "metadata": {},
     "output_type": "execute_result"
    }
   ],
   "source": [
    "split_genre = df_BestBooks['genres'].str.split(',',n=1,expand=True)\n",
    "split_genre.rename(columns={0:'new_genre',1:'restof_genre'})"
   ]
  },
  {
   "cell_type": "code",
   "execution_count": 85,
   "id": "866fd078",
   "metadata": {},
   "outputs": [],
   "source": [
    "df_BestBooks[['new_genre','restof_genre']]= df_BestBooks['genres'].str.split(',',n=1,expand=True)"
   ]
  },
  {
   "cell_type": "code",
   "execution_count": 86,
   "id": "90118be2",
   "metadata": {
    "scrolled": true
   },
   "outputs": [
    {
     "data": {
      "text/html": [
       "<div>\n",
       "<style scoped>\n",
       "    .dataframe tbody tr th:only-of-type {\n",
       "        vertical-align: middle;\n",
       "    }\n",
       "\n",
       "    .dataframe tbody tr th {\n",
       "        vertical-align: top;\n",
       "    }\n",
       "\n",
       "    .dataframe thead th {\n",
       "        text-align: right;\n",
       "    }\n",
       "</style>\n",
       "<table border=\"1\" class=\"dataframe\">\n",
       "  <thead>\n",
       "    <tr style=\"text-align: right;\">\n",
       "      <th></th>\n",
       "      <th>bookId</th>\n",
       "      <th>title</th>\n",
       "      <th>author</th>\n",
       "      <th>rating</th>\n",
       "      <th>isbn</th>\n",
       "      <th>genres</th>\n",
       "      <th>characters</th>\n",
       "      <th>awards</th>\n",
       "      <th>numRatings</th>\n",
       "      <th>ratingsByStars</th>\n",
       "      <th>likedPercent</th>\n",
       "      <th>setting</th>\n",
       "      <th>bbeScore</th>\n",
       "      <th>bbeVotes</th>\n",
       "      <th>price</th>\n",
       "      <th>Award_Count</th>\n",
       "      <th>new_genre</th>\n",
       "      <th>restof_genre</th>\n",
       "    </tr>\n",
       "  </thead>\n",
       "  <tbody>\n",
       "    <tr>\n",
       "      <th>0</th>\n",
       "      <td>2767052-the-hunger-games</td>\n",
       "      <td>The Hunger Games</td>\n",
       "      <td>Suzanne Collins</td>\n",
       "      <td>4.33</td>\n",
       "      <td>9780439023481</td>\n",
       "      <td>['Young Adult', 'Fiction', 'Dystopia', 'Fantas...</td>\n",
       "      <td>['Katniss Everdeen', 'Peeta Mellark', 'Cato (H...</td>\n",
       "      <td>['Locus Award Nominee for Best Young Adult Boo...</td>\n",
       "      <td>6376780</td>\n",
       "      <td>['3444695', '1921313', '745221', '171994', '93...</td>\n",
       "      <td>96.0</td>\n",
       "      <td>['District 12, Panem', 'Capitol, Panem', 'Pane...</td>\n",
       "      <td>2993816</td>\n",
       "      <td>30516</td>\n",
       "      <td>5.09</td>\n",
       "      <td>41</td>\n",
       "      <td>['Young Adult'</td>\n",
       "      <td>'Fiction', 'Dystopia', 'Fantasy', 'Science Fi...</td>\n",
       "    </tr>\n",
       "    <tr>\n",
       "      <th>1</th>\n",
       "      <td>2.Harry_Potter_and_the_Order_of_the_Phoenix</td>\n",
       "      <td>Harry Potter and the Order of the Phoenix</td>\n",
       "      <td>J.K. Rowling, Mary GrandPré (Illustrator)</td>\n",
       "      <td>4.50</td>\n",
       "      <td>9780439358071</td>\n",
       "      <td>['Fantasy', 'Young Adult', 'Fiction', 'Magic',...</td>\n",
       "      <td>['Sirius Black', 'Draco Malfoy', 'Ron Weasley'...</td>\n",
       "      <td>['Bram Stoker Award for Works for Young Reader...</td>\n",
       "      <td>2507623</td>\n",
       "      <td>['1593642', '637516', '222366', '39573', '14526']</td>\n",
       "      <td>98.0</td>\n",
       "      <td>['Hogwarts School of Witchcraft and Wizardry (...</td>\n",
       "      <td>2632233</td>\n",
       "      <td>26923</td>\n",
       "      <td>7.38</td>\n",
       "      <td>9</td>\n",
       "      <td>['Fantasy'</td>\n",
       "      <td>'Young Adult', 'Fiction', 'Magic', 'Childrens...</td>\n",
       "    </tr>\n",
       "    <tr>\n",
       "      <th>4</th>\n",
       "      <td>41865.Twilight</td>\n",
       "      <td>Twilight</td>\n",
       "      <td>Stephenie Meyer</td>\n",
       "      <td>3.60</td>\n",
       "      <td>9780316015844</td>\n",
       "      <td>['Young Adult', 'Fantasy', 'Romance', 'Vampire...</td>\n",
       "      <td>['Edward Cullen', 'Jacob Black', 'Laurent', 'R...</td>\n",
       "      <td>['Georgia Peach Book Award (2007)', 'Buxtehude...</td>\n",
       "      <td>4964519</td>\n",
       "      <td>['1751460', '1113682', '1008686', '542017', '5...</td>\n",
       "      <td>78.0</td>\n",
       "      <td>['Forks, Washington (United States)', 'Phoenix...</td>\n",
       "      <td>1459448</td>\n",
       "      <td>14874</td>\n",
       "      <td>2.1</td>\n",
       "      <td>25</td>\n",
       "      <td>['Young Adult'</td>\n",
       "      <td>'Fantasy', 'Romance', 'Vampires', 'Fiction', ...</td>\n",
       "    </tr>\n",
       "    <tr>\n",
       "      <th>5</th>\n",
       "      <td>19063.The_Book_Thief</td>\n",
       "      <td>The Book Thief</td>\n",
       "      <td>Markus Zusak (Goodreads Author)</td>\n",
       "      <td>4.37</td>\n",
       "      <td>9780375831003</td>\n",
       "      <td>['Historical Fiction', 'Fiction', 'Young Adult...</td>\n",
       "      <td>['Liesel Meminger', 'Hans Hubermann', 'Rudy St...</td>\n",
       "      <td>['National Jewish Book Award for Children’s an...</td>\n",
       "      <td>1834276</td>\n",
       "      <td>['1048230', '524674', '186297', '48864', '26211']</td>\n",
       "      <td>96.0</td>\n",
       "      <td>['Molching (Germany)', 'Germany']</td>\n",
       "      <td>1372809</td>\n",
       "      <td>14168</td>\n",
       "      <td>3.8</td>\n",
       "      <td>20</td>\n",
       "      <td>['Historical Fiction'</td>\n",
       "      <td>'Fiction', 'Young Adult', 'Historical', 'Clas...</td>\n",
       "    </tr>\n",
       "    <tr>\n",
       "      <th>6</th>\n",
       "      <td>170448.Animal_Farm</td>\n",
       "      <td>Animal Farm</td>\n",
       "      <td>George Orwell, Russell Baker (Preface), C.M. W...</td>\n",
       "      <td>3.95</td>\n",
       "      <td>9780451526342</td>\n",
       "      <td>['Classics', 'Fiction', 'Dystopia', 'Fantasy',...</td>\n",
       "      <td>['Snowball', 'Napoleon', 'Clover', 'Boxer', 'O...</td>\n",
       "      <td>['Prometheus Hall of Fame Award (2011)', 'Retr...</td>\n",
       "      <td>2740713</td>\n",
       "      <td>['986764', '958699', '545475', '165093', '84682']</td>\n",
       "      <td>91.0</td>\n",
       "      <td>['England', 'United Kingdom']</td>\n",
       "      <td>1276599</td>\n",
       "      <td>13264</td>\n",
       "      <td>4.42</td>\n",
       "      <td>2</td>\n",
       "      <td>['Classics'</td>\n",
       "      <td>'Fiction', 'Dystopia', 'Fantasy', 'Literature...</td>\n",
       "    </tr>\n",
       "    <tr>\n",
       "      <th>...</th>\n",
       "      <td>...</td>\n",
       "      <td>...</td>\n",
       "      <td>...</td>\n",
       "      <td>...</td>\n",
       "      <td>...</td>\n",
       "      <td>...</td>\n",
       "      <td>...</td>\n",
       "      <td>...</td>\n",
       "      <td>...</td>\n",
       "      <td>...</td>\n",
       "      <td>...</td>\n",
       "      <td>...</td>\n",
       "      <td>...</td>\n",
       "      <td>...</td>\n",
       "      <td>...</td>\n",
       "      <td>...</td>\n",
       "      <td>...</td>\n",
       "      <td>...</td>\n",
       "    </tr>\n",
       "    <tr>\n",
       "      <th>52470</th>\n",
       "      <td>11115191-attracted-to-fire</td>\n",
       "      <td>Attracted to Fire</td>\n",
       "      <td>DiAnn Mills (Goodreads Author)</td>\n",
       "      <td>4.14</td>\n",
       "      <td>9781414348643</td>\n",
       "      <td>['Christian Fiction', 'Christian', 'Suspense',...</td>\n",
       "      <td>[]</td>\n",
       "      <td>['HOLT Medallion by Virginia Romance Writers N...</td>\n",
       "      <td>2143</td>\n",
       "      <td>['945', '716', '365', '78', '39']</td>\n",
       "      <td>95.0</td>\n",
       "      <td>['West Texas (United States)']</td>\n",
       "      <td>0</td>\n",
       "      <td>1</td>\n",
       "      <td>5.55</td>\n",
       "      <td>1</td>\n",
       "      <td>['Christian Fiction'</td>\n",
       "      <td>'Christian', 'Suspense', 'Romance', 'Mystery'...</td>\n",
       "    </tr>\n",
       "    <tr>\n",
       "      <th>52472</th>\n",
       "      <td>12395883-unbelievable</td>\n",
       "      <td>Unbelievable</td>\n",
       "      <td>Sherry Gammon (Goodreads Author)</td>\n",
       "      <td>4.16</td>\n",
       "      <td>9781477594247</td>\n",
       "      <td>['Romance', 'Young Adult', 'Contemporary', 'Co...</td>\n",
       "      <td>[]</td>\n",
       "      <td>[]</td>\n",
       "      <td>1028</td>\n",
       "      <td>['442', '384', '142', '48', '12']</td>\n",
       "      <td>94.0</td>\n",
       "      <td>['Port Fare, New York (United States)']</td>\n",
       "      <td>0</td>\n",
       "      <td>1</td>\n",
       "      <td>19.18</td>\n",
       "      <td>1</td>\n",
       "      <td>['Romance'</td>\n",
       "      <td>'Young Adult', 'Contemporary', 'Contemporary ...</td>\n",
       "    </tr>\n",
       "    <tr>\n",
       "      <th>52475</th>\n",
       "      <td>10815662-marked</td>\n",
       "      <td>Marked</td>\n",
       "      <td>Kim Richardson (Goodreads Author)</td>\n",
       "      <td>3.70</td>\n",
       "      <td>9781461017097</td>\n",
       "      <td>['Fantasy', 'Young Adult', 'Paranormal', 'Ange...</td>\n",
       "      <td>[]</td>\n",
       "      <td>[\"Readers' Favorite Book Award (2011)\"]</td>\n",
       "      <td>6674</td>\n",
       "      <td>['2109', '1868', '1660', '647', '390']</td>\n",
       "      <td>84.0</td>\n",
       "      <td>[]</td>\n",
       "      <td>0</td>\n",
       "      <td>1</td>\n",
       "      <td>7.37</td>\n",
       "      <td>1</td>\n",
       "      <td>['Fantasy'</td>\n",
       "      <td>'Young Adult', 'Paranormal', 'Angels', 'Roman...</td>\n",
       "    </tr>\n",
       "    <tr>\n",
       "      <th>52476</th>\n",
       "      <td>11330278-wayward-son</td>\n",
       "      <td>Wayward Son</td>\n",
       "      <td>Tom Pollack (Goodreads Author), John Loftus (G...</td>\n",
       "      <td>3.85</td>\n",
       "      <td>9781450755634</td>\n",
       "      <td>['Fiction', 'Mystery', 'Historical Fiction', '...</td>\n",
       "      <td>[]</td>\n",
       "      <td>[]</td>\n",
       "      <td>238</td>\n",
       "      <td>['77', '78', '59', '19', '5']</td>\n",
       "      <td>90.0</td>\n",
       "      <td>[]</td>\n",
       "      <td>0</td>\n",
       "      <td>1</td>\n",
       "      <td>2.86</td>\n",
       "      <td>1</td>\n",
       "      <td>['Fiction'</td>\n",
       "      <td>'Mystery', 'Historical Fiction', 'Adventure',...</td>\n",
       "    </tr>\n",
       "    <tr>\n",
       "      <th>52477</th>\n",
       "      <td>10991547-daughter-of-helaman</td>\n",
       "      <td>Daughter of Helaman</td>\n",
       "      <td>Misty Moncur (Goodreads Author)</td>\n",
       "      <td>4.02</td>\n",
       "      <td>9781599554976</td>\n",
       "      <td>['Lds Fiction', 'Historical Fiction', 'Young A...</td>\n",
       "      <td>[]</td>\n",
       "      <td>[]</td>\n",
       "      <td>246</td>\n",
       "      <td>['106', '73', '42', '17', '8']</td>\n",
       "      <td>90.0</td>\n",
       "      <td>[]</td>\n",
       "      <td>0</td>\n",
       "      <td>1</td>\n",
       "      <td>5.20</td>\n",
       "      <td>1</td>\n",
       "      <td>['Lds Fiction'</td>\n",
       "      <td>'Historical Fiction', 'Young Adult', 'Fiction...</td>\n",
       "    </tr>\n",
       "  </tbody>\n",
       "</table>\n",
       "<p>37901 rows × 18 columns</p>\n",
       "</div>"
      ],
      "text/plain": [
       "                                            bookId  \\\n",
       "0                         2767052-the-hunger-games   \n",
       "1      2.Harry_Potter_and_the_Order_of_the_Phoenix   \n",
       "4                                   41865.Twilight   \n",
       "5                             19063.The_Book_Thief   \n",
       "6                               170448.Animal_Farm   \n",
       "...                                            ...   \n",
       "52470                   11115191-attracted-to-fire   \n",
       "52472                        12395883-unbelievable   \n",
       "52475                              10815662-marked   \n",
       "52476                         11330278-wayward-son   \n",
       "52477                 10991547-daughter-of-helaman   \n",
       "\n",
       "                                           title  \\\n",
       "0                               The Hunger Games   \n",
       "1      Harry Potter and the Order of the Phoenix   \n",
       "4                                       Twilight   \n",
       "5                                 The Book Thief   \n",
       "6                                    Animal Farm   \n",
       "...                                          ...   \n",
       "52470                          Attracted to Fire   \n",
       "52472                               Unbelievable   \n",
       "52475                                     Marked   \n",
       "52476                                Wayward Son   \n",
       "52477                        Daughter of Helaman   \n",
       "\n",
       "                                                  author  rating  \\\n",
       "0                                        Suzanne Collins    4.33   \n",
       "1              J.K. Rowling, Mary GrandPré (Illustrator)    4.50   \n",
       "4                                        Stephenie Meyer    3.60   \n",
       "5                        Markus Zusak (Goodreads Author)    4.37   \n",
       "6      George Orwell, Russell Baker (Preface), C.M. W...    3.95   \n",
       "...                                                  ...     ...   \n",
       "52470                     DiAnn Mills (Goodreads Author)    4.14   \n",
       "52472                   Sherry Gammon (Goodreads Author)    4.16   \n",
       "52475                  Kim Richardson (Goodreads Author)    3.70   \n",
       "52476  Tom Pollack (Goodreads Author), John Loftus (G...    3.85   \n",
       "52477                    Misty Moncur (Goodreads Author)    4.02   \n",
       "\n",
       "                isbn                                             genres  \\\n",
       "0      9780439023481  ['Young Adult', 'Fiction', 'Dystopia', 'Fantas...   \n",
       "1      9780439358071  ['Fantasy', 'Young Adult', 'Fiction', 'Magic',...   \n",
       "4      9780316015844  ['Young Adult', 'Fantasy', 'Romance', 'Vampire...   \n",
       "5      9780375831003  ['Historical Fiction', 'Fiction', 'Young Adult...   \n",
       "6      9780451526342  ['Classics', 'Fiction', 'Dystopia', 'Fantasy',...   \n",
       "...              ...                                                ...   \n",
       "52470  9781414348643  ['Christian Fiction', 'Christian', 'Suspense',...   \n",
       "52472  9781477594247  ['Romance', 'Young Adult', 'Contemporary', 'Co...   \n",
       "52475  9781461017097  ['Fantasy', 'Young Adult', 'Paranormal', 'Ange...   \n",
       "52476  9781450755634  ['Fiction', 'Mystery', 'Historical Fiction', '...   \n",
       "52477  9781599554976  ['Lds Fiction', 'Historical Fiction', 'Young A...   \n",
       "\n",
       "                                              characters  \\\n",
       "0      ['Katniss Everdeen', 'Peeta Mellark', 'Cato (H...   \n",
       "1      ['Sirius Black', 'Draco Malfoy', 'Ron Weasley'...   \n",
       "4      ['Edward Cullen', 'Jacob Black', 'Laurent', 'R...   \n",
       "5      ['Liesel Meminger', 'Hans Hubermann', 'Rudy St...   \n",
       "6      ['Snowball', 'Napoleon', 'Clover', 'Boxer', 'O...   \n",
       "...                                                  ...   \n",
       "52470                                                 []   \n",
       "52472                                                 []   \n",
       "52475                                                 []   \n",
       "52476                                                 []   \n",
       "52477                                                 []   \n",
       "\n",
       "                                                  awards  numRatings  \\\n",
       "0      ['Locus Award Nominee for Best Young Adult Boo...     6376780   \n",
       "1      ['Bram Stoker Award for Works for Young Reader...     2507623   \n",
       "4      ['Georgia Peach Book Award (2007)', 'Buxtehude...     4964519   \n",
       "5      ['National Jewish Book Award for Children’s an...     1834276   \n",
       "6      ['Prometheus Hall of Fame Award (2011)', 'Retr...     2740713   \n",
       "...                                                  ...         ...   \n",
       "52470  ['HOLT Medallion by Virginia Romance Writers N...        2143   \n",
       "52472                                                 []        1028   \n",
       "52475            [\"Readers' Favorite Book Award (2011)\"]        6674   \n",
       "52476                                                 []         238   \n",
       "52477                                                 []         246   \n",
       "\n",
       "                                          ratingsByStars  likedPercent  \\\n",
       "0      ['3444695', '1921313', '745221', '171994', '93...          96.0   \n",
       "1      ['1593642', '637516', '222366', '39573', '14526']          98.0   \n",
       "4      ['1751460', '1113682', '1008686', '542017', '5...          78.0   \n",
       "5      ['1048230', '524674', '186297', '48864', '26211']          96.0   \n",
       "6      ['986764', '958699', '545475', '165093', '84682']          91.0   \n",
       "...                                                  ...           ...   \n",
       "52470                  ['945', '716', '365', '78', '39']          95.0   \n",
       "52472                  ['442', '384', '142', '48', '12']          94.0   \n",
       "52475             ['2109', '1868', '1660', '647', '390']          84.0   \n",
       "52476                      ['77', '78', '59', '19', '5']          90.0   \n",
       "52477                     ['106', '73', '42', '17', '8']          90.0   \n",
       "\n",
       "                                                 setting  bbeScore  bbeVotes  \\\n",
       "0      ['District 12, Panem', 'Capitol, Panem', 'Pane...   2993816     30516   \n",
       "1      ['Hogwarts School of Witchcraft and Wizardry (...   2632233     26923   \n",
       "4      ['Forks, Washington (United States)', 'Phoenix...   1459448     14874   \n",
       "5                      ['Molching (Germany)', 'Germany']   1372809     14168   \n",
       "6                          ['England', 'United Kingdom']   1276599     13264   \n",
       "...                                                  ...       ...       ...   \n",
       "52470                     ['West Texas (United States)']         0         1   \n",
       "52472            ['Port Fare, New York (United States)']         0         1   \n",
       "52475                                                 []         0         1   \n",
       "52476                                                 []         0         1   \n",
       "52477                                                 []         0         1   \n",
       "\n",
       "       price  Award_Count              new_genre  \\\n",
       "0       5.09           41         ['Young Adult'   \n",
       "1       7.38            9             ['Fantasy'   \n",
       "4        2.1           25         ['Young Adult'   \n",
       "5        3.8           20  ['Historical Fiction'   \n",
       "6       4.42            2            ['Classics'   \n",
       "...      ...          ...                    ...   \n",
       "52470   5.55            1   ['Christian Fiction'   \n",
       "52472  19.18            1             ['Romance'   \n",
       "52475   7.37            1             ['Fantasy'   \n",
       "52476   2.86            1             ['Fiction'   \n",
       "52477   5.20            1         ['Lds Fiction'   \n",
       "\n",
       "                                            restof_genre  \n",
       "0       'Fiction', 'Dystopia', 'Fantasy', 'Science Fi...  \n",
       "1       'Young Adult', 'Fiction', 'Magic', 'Childrens...  \n",
       "4       'Fantasy', 'Romance', 'Vampires', 'Fiction', ...  \n",
       "5       'Fiction', 'Young Adult', 'Historical', 'Clas...  \n",
       "6       'Fiction', 'Dystopia', 'Fantasy', 'Literature...  \n",
       "...                                                  ...  \n",
       "52470   'Christian', 'Suspense', 'Romance', 'Mystery'...  \n",
       "52472   'Young Adult', 'Contemporary', 'Contemporary ...  \n",
       "52475   'Young Adult', 'Paranormal', 'Angels', 'Roman...  \n",
       "52476   'Mystery', 'Historical Fiction', 'Adventure',...  \n",
       "52477   'Historical Fiction', 'Young Adult', 'Fiction...  \n",
       "\n",
       "[37901 rows x 18 columns]"
      ]
     },
     "execution_count": 86,
     "metadata": {},
     "output_type": "execute_result"
    }
   ],
   "source": [
    "df_BestBooks"
   ]
  },
  {
   "cell_type": "markdown",
   "id": "e413b238",
   "metadata": {},
   "source": [
    "Remove special characters"
   ]
  },
  {
   "cell_type": "code",
   "execution_count": 87,
   "id": "d944f965",
   "metadata": {
    "scrolled": true
   },
   "outputs": [
    {
     "name": "stderr",
     "output_type": "stream",
     "text": [
      "C:\\Users\\robbi\\AppData\\Local\\Temp\\ipykernel_7904\\3804853204.py:1: FutureWarning: The default value of regex will change from True to False in a future version.\n",
      "  df_BestBooks ['new_genre'] = df_BestBooks['new_genre'].str.replace(r'\\W',\"\")\n"
     ]
    }
   ],
   "source": [
    "df_BestBooks ['new_genre'] = df_BestBooks['new_genre'].str.replace(r'\\W',\"\")"
   ]
  },
  {
   "cell_type": "code",
   "execution_count": 88,
   "id": "83ddecad",
   "metadata": {},
   "outputs": [
    {
     "data": {
      "text/html": [
       "<div>\n",
       "<style scoped>\n",
       "    .dataframe tbody tr th:only-of-type {\n",
       "        vertical-align: middle;\n",
       "    }\n",
       "\n",
       "    .dataframe tbody tr th {\n",
       "        vertical-align: top;\n",
       "    }\n",
       "\n",
       "    .dataframe thead th {\n",
       "        text-align: right;\n",
       "    }\n",
       "</style>\n",
       "<table border=\"1\" class=\"dataframe\">\n",
       "  <thead>\n",
       "    <tr style=\"text-align: right;\">\n",
       "      <th></th>\n",
       "      <th>bookId</th>\n",
       "      <th>title</th>\n",
       "      <th>author</th>\n",
       "      <th>rating</th>\n",
       "      <th>isbn</th>\n",
       "      <th>genres</th>\n",
       "      <th>characters</th>\n",
       "      <th>awards</th>\n",
       "      <th>numRatings</th>\n",
       "      <th>ratingsByStars</th>\n",
       "      <th>likedPercent</th>\n",
       "      <th>setting</th>\n",
       "      <th>bbeScore</th>\n",
       "      <th>bbeVotes</th>\n",
       "      <th>price</th>\n",
       "      <th>Award_Count</th>\n",
       "      <th>new_genre</th>\n",
       "      <th>restof_genre</th>\n",
       "    </tr>\n",
       "  </thead>\n",
       "  <tbody>\n",
       "    <tr>\n",
       "      <th>0</th>\n",
       "      <td>2767052-the-hunger-games</td>\n",
       "      <td>The Hunger Games</td>\n",
       "      <td>Suzanne Collins</td>\n",
       "      <td>4.33</td>\n",
       "      <td>9780439023481</td>\n",
       "      <td>['Young Adult', 'Fiction', 'Dystopia', 'Fantas...</td>\n",
       "      <td>['Katniss Everdeen', 'Peeta Mellark', 'Cato (H...</td>\n",
       "      <td>['Locus Award Nominee for Best Young Adult Boo...</td>\n",
       "      <td>6376780</td>\n",
       "      <td>['3444695', '1921313', '745221', '171994', '93...</td>\n",
       "      <td>96.0</td>\n",
       "      <td>['District 12, Panem', 'Capitol, Panem', 'Pane...</td>\n",
       "      <td>2993816</td>\n",
       "      <td>30516</td>\n",
       "      <td>5.09</td>\n",
       "      <td>41</td>\n",
       "      <td>YoungAdult</td>\n",
       "      <td>'Fiction', 'Dystopia', 'Fantasy', 'Science Fi...</td>\n",
       "    </tr>\n",
       "    <tr>\n",
       "      <th>1</th>\n",
       "      <td>2.Harry_Potter_and_the_Order_of_the_Phoenix</td>\n",
       "      <td>Harry Potter and the Order of the Phoenix</td>\n",
       "      <td>J.K. Rowling, Mary GrandPré (Illustrator)</td>\n",
       "      <td>4.50</td>\n",
       "      <td>9780439358071</td>\n",
       "      <td>['Fantasy', 'Young Adult', 'Fiction', 'Magic',...</td>\n",
       "      <td>['Sirius Black', 'Draco Malfoy', 'Ron Weasley'...</td>\n",
       "      <td>['Bram Stoker Award for Works for Young Reader...</td>\n",
       "      <td>2507623</td>\n",
       "      <td>['1593642', '637516', '222366', '39573', '14526']</td>\n",
       "      <td>98.0</td>\n",
       "      <td>['Hogwarts School of Witchcraft and Wizardry (...</td>\n",
       "      <td>2632233</td>\n",
       "      <td>26923</td>\n",
       "      <td>7.38</td>\n",
       "      <td>9</td>\n",
       "      <td>Fantasy</td>\n",
       "      <td>'Young Adult', 'Fiction', 'Magic', 'Childrens...</td>\n",
       "    </tr>\n",
       "    <tr>\n",
       "      <th>4</th>\n",
       "      <td>41865.Twilight</td>\n",
       "      <td>Twilight</td>\n",
       "      <td>Stephenie Meyer</td>\n",
       "      <td>3.60</td>\n",
       "      <td>9780316015844</td>\n",
       "      <td>['Young Adult', 'Fantasy', 'Romance', 'Vampire...</td>\n",
       "      <td>['Edward Cullen', 'Jacob Black', 'Laurent', 'R...</td>\n",
       "      <td>['Georgia Peach Book Award (2007)', 'Buxtehude...</td>\n",
       "      <td>4964519</td>\n",
       "      <td>['1751460', '1113682', '1008686', '542017', '5...</td>\n",
       "      <td>78.0</td>\n",
       "      <td>['Forks, Washington (United States)', 'Phoenix...</td>\n",
       "      <td>1459448</td>\n",
       "      <td>14874</td>\n",
       "      <td>2.1</td>\n",
       "      <td>25</td>\n",
       "      <td>YoungAdult</td>\n",
       "      <td>'Fantasy', 'Romance', 'Vampires', 'Fiction', ...</td>\n",
       "    </tr>\n",
       "  </tbody>\n",
       "</table>\n",
       "</div>"
      ],
      "text/plain": [
       "                                        bookId  \\\n",
       "0                     2767052-the-hunger-games   \n",
       "1  2.Harry_Potter_and_the_Order_of_the_Phoenix   \n",
       "4                               41865.Twilight   \n",
       "\n",
       "                                       title  \\\n",
       "0                           The Hunger Games   \n",
       "1  Harry Potter and the Order of the Phoenix   \n",
       "4                                   Twilight   \n",
       "\n",
       "                                      author  rating           isbn  \\\n",
       "0                            Suzanne Collins    4.33  9780439023481   \n",
       "1  J.K. Rowling, Mary GrandPré (Illustrator)    4.50  9780439358071   \n",
       "4                            Stephenie Meyer    3.60  9780316015844   \n",
       "\n",
       "                                              genres  \\\n",
       "0  ['Young Adult', 'Fiction', 'Dystopia', 'Fantas...   \n",
       "1  ['Fantasy', 'Young Adult', 'Fiction', 'Magic',...   \n",
       "4  ['Young Adult', 'Fantasy', 'Romance', 'Vampire...   \n",
       "\n",
       "                                          characters  \\\n",
       "0  ['Katniss Everdeen', 'Peeta Mellark', 'Cato (H...   \n",
       "1  ['Sirius Black', 'Draco Malfoy', 'Ron Weasley'...   \n",
       "4  ['Edward Cullen', 'Jacob Black', 'Laurent', 'R...   \n",
       "\n",
       "                                              awards  numRatings  \\\n",
       "0  ['Locus Award Nominee for Best Young Adult Boo...     6376780   \n",
       "1  ['Bram Stoker Award for Works for Young Reader...     2507623   \n",
       "4  ['Georgia Peach Book Award (2007)', 'Buxtehude...     4964519   \n",
       "\n",
       "                                      ratingsByStars  likedPercent  \\\n",
       "0  ['3444695', '1921313', '745221', '171994', '93...          96.0   \n",
       "1  ['1593642', '637516', '222366', '39573', '14526']          98.0   \n",
       "4  ['1751460', '1113682', '1008686', '542017', '5...          78.0   \n",
       "\n",
       "                                             setting  bbeScore  bbeVotes  \\\n",
       "0  ['District 12, Panem', 'Capitol, Panem', 'Pane...   2993816     30516   \n",
       "1  ['Hogwarts School of Witchcraft and Wizardry (...   2632233     26923   \n",
       "4  ['Forks, Washington (United States)', 'Phoenix...   1459448     14874   \n",
       "\n",
       "  price  Award_Count   new_genre  \\\n",
       "0  5.09           41  YoungAdult   \n",
       "1  7.38            9     Fantasy   \n",
       "4   2.1           25  YoungAdult   \n",
       "\n",
       "                                        restof_genre  \n",
       "0   'Fiction', 'Dystopia', 'Fantasy', 'Science Fi...  \n",
       "1   'Young Adult', 'Fiction', 'Magic', 'Childrens...  \n",
       "4   'Fantasy', 'Romance', 'Vampires', 'Fiction', ...  "
      ]
     },
     "execution_count": 88,
     "metadata": {},
     "output_type": "execute_result"
    }
   ],
   "source": [
    "df_BestBooks.head(3)"
   ]
  },
  {
   "cell_type": "code",
   "execution_count": 89,
   "id": "acee9845",
   "metadata": {},
   "outputs": [],
   "source": [
    "df_BestBooks = df_BestBooks.drop(columns = ['restof_genre'])"
   ]
  },
  {
   "cell_type": "code",
   "execution_count": 90,
   "id": "a1eefa86",
   "metadata": {},
   "outputs": [
    {
     "data": {
      "text/html": [
       "<div>\n",
       "<style scoped>\n",
       "    .dataframe tbody tr th:only-of-type {\n",
       "        vertical-align: middle;\n",
       "    }\n",
       "\n",
       "    .dataframe tbody tr th {\n",
       "        vertical-align: top;\n",
       "    }\n",
       "\n",
       "    .dataframe thead th {\n",
       "        text-align: right;\n",
       "    }\n",
       "</style>\n",
       "<table border=\"1\" class=\"dataframe\">\n",
       "  <thead>\n",
       "    <tr style=\"text-align: right;\">\n",
       "      <th></th>\n",
       "      <th>bookId</th>\n",
       "      <th>title</th>\n",
       "      <th>author</th>\n",
       "      <th>rating</th>\n",
       "      <th>isbn</th>\n",
       "      <th>genres</th>\n",
       "      <th>characters</th>\n",
       "      <th>awards</th>\n",
       "      <th>numRatings</th>\n",
       "      <th>ratingsByStars</th>\n",
       "      <th>likedPercent</th>\n",
       "      <th>setting</th>\n",
       "      <th>bbeScore</th>\n",
       "      <th>bbeVotes</th>\n",
       "      <th>price</th>\n",
       "      <th>Award_Count</th>\n",
       "      <th>new_genre</th>\n",
       "    </tr>\n",
       "  </thead>\n",
       "  <tbody>\n",
       "    <tr>\n",
       "      <th>0</th>\n",
       "      <td>2767052-the-hunger-games</td>\n",
       "      <td>The Hunger Games</td>\n",
       "      <td>Suzanne Collins</td>\n",
       "      <td>4.33</td>\n",
       "      <td>9780439023481</td>\n",
       "      <td>['Young Adult', 'Fiction', 'Dystopia', 'Fantas...</td>\n",
       "      <td>['Katniss Everdeen', 'Peeta Mellark', 'Cato (H...</td>\n",
       "      <td>['Locus Award Nominee for Best Young Adult Boo...</td>\n",
       "      <td>6376780</td>\n",
       "      <td>['3444695', '1921313', '745221', '171994', '93...</td>\n",
       "      <td>96.0</td>\n",
       "      <td>['District 12, Panem', 'Capitol, Panem', 'Pane...</td>\n",
       "      <td>2993816</td>\n",
       "      <td>30516</td>\n",
       "      <td>5.09</td>\n",
       "      <td>41</td>\n",
       "      <td>YoungAdult</td>\n",
       "    </tr>\n",
       "    <tr>\n",
       "      <th>1</th>\n",
       "      <td>2.Harry_Potter_and_the_Order_of_the_Phoenix</td>\n",
       "      <td>Harry Potter and the Order of the Phoenix</td>\n",
       "      <td>J.K. Rowling, Mary GrandPré (Illustrator)</td>\n",
       "      <td>4.50</td>\n",
       "      <td>9780439358071</td>\n",
       "      <td>['Fantasy', 'Young Adult', 'Fiction', 'Magic',...</td>\n",
       "      <td>['Sirius Black', 'Draco Malfoy', 'Ron Weasley'...</td>\n",
       "      <td>['Bram Stoker Award for Works for Young Reader...</td>\n",
       "      <td>2507623</td>\n",
       "      <td>['1593642', '637516', '222366', '39573', '14526']</td>\n",
       "      <td>98.0</td>\n",
       "      <td>['Hogwarts School of Witchcraft and Wizardry (...</td>\n",
       "      <td>2632233</td>\n",
       "      <td>26923</td>\n",
       "      <td>7.38</td>\n",
       "      <td>9</td>\n",
       "      <td>Fantasy</td>\n",
       "    </tr>\n",
       "    <tr>\n",
       "      <th>4</th>\n",
       "      <td>41865.Twilight</td>\n",
       "      <td>Twilight</td>\n",
       "      <td>Stephenie Meyer</td>\n",
       "      <td>3.60</td>\n",
       "      <td>9780316015844</td>\n",
       "      <td>['Young Adult', 'Fantasy', 'Romance', 'Vampire...</td>\n",
       "      <td>['Edward Cullen', 'Jacob Black', 'Laurent', 'R...</td>\n",
       "      <td>['Georgia Peach Book Award (2007)', 'Buxtehude...</td>\n",
       "      <td>4964519</td>\n",
       "      <td>['1751460', '1113682', '1008686', '542017', '5...</td>\n",
       "      <td>78.0</td>\n",
       "      <td>['Forks, Washington (United States)', 'Phoenix...</td>\n",
       "      <td>1459448</td>\n",
       "      <td>14874</td>\n",
       "      <td>2.1</td>\n",
       "      <td>25</td>\n",
       "      <td>YoungAdult</td>\n",
       "    </tr>\n",
       "  </tbody>\n",
       "</table>\n",
       "</div>"
      ],
      "text/plain": [
       "                                        bookId  \\\n",
       "0                     2767052-the-hunger-games   \n",
       "1  2.Harry_Potter_and_the_Order_of_the_Phoenix   \n",
       "4                               41865.Twilight   \n",
       "\n",
       "                                       title  \\\n",
       "0                           The Hunger Games   \n",
       "1  Harry Potter and the Order of the Phoenix   \n",
       "4                                   Twilight   \n",
       "\n",
       "                                      author  rating           isbn  \\\n",
       "0                            Suzanne Collins    4.33  9780439023481   \n",
       "1  J.K. Rowling, Mary GrandPré (Illustrator)    4.50  9780439358071   \n",
       "4                            Stephenie Meyer    3.60  9780316015844   \n",
       "\n",
       "                                              genres  \\\n",
       "0  ['Young Adult', 'Fiction', 'Dystopia', 'Fantas...   \n",
       "1  ['Fantasy', 'Young Adult', 'Fiction', 'Magic',...   \n",
       "4  ['Young Adult', 'Fantasy', 'Romance', 'Vampire...   \n",
       "\n",
       "                                          characters  \\\n",
       "0  ['Katniss Everdeen', 'Peeta Mellark', 'Cato (H...   \n",
       "1  ['Sirius Black', 'Draco Malfoy', 'Ron Weasley'...   \n",
       "4  ['Edward Cullen', 'Jacob Black', 'Laurent', 'R...   \n",
       "\n",
       "                                              awards  numRatings  \\\n",
       "0  ['Locus Award Nominee for Best Young Adult Boo...     6376780   \n",
       "1  ['Bram Stoker Award for Works for Young Reader...     2507623   \n",
       "4  ['Georgia Peach Book Award (2007)', 'Buxtehude...     4964519   \n",
       "\n",
       "                                      ratingsByStars  likedPercent  \\\n",
       "0  ['3444695', '1921313', '745221', '171994', '93...          96.0   \n",
       "1  ['1593642', '637516', '222366', '39573', '14526']          98.0   \n",
       "4  ['1751460', '1113682', '1008686', '542017', '5...          78.0   \n",
       "\n",
       "                                             setting  bbeScore  bbeVotes  \\\n",
       "0  ['District 12, Panem', 'Capitol, Panem', 'Pane...   2993816     30516   \n",
       "1  ['Hogwarts School of Witchcraft and Wizardry (...   2632233     26923   \n",
       "4  ['Forks, Washington (United States)', 'Phoenix...   1459448     14874   \n",
       "\n",
       "  price  Award_Count   new_genre  \n",
       "0  5.09           41  YoungAdult  \n",
       "1  7.38            9     Fantasy  \n",
       "4   2.1           25  YoungAdult  "
      ]
     },
     "execution_count": 90,
     "metadata": {},
     "output_type": "execute_result"
    }
   ],
   "source": [
    "df_BestBooks.head(3)"
   ]
  },
  {
   "cell_type": "markdown",
   "id": "3c450a51",
   "metadata": {},
   "source": [
    "### Define a customer function to create reusable code"
   ]
  },
  {
   "cell_type": "code",
   "execution_count": 170,
   "id": "c00877c1",
   "metadata": {},
   "outputs": [
    {
     "data": {
      "text/html": [
       "<div>\n",
       "<style scoped>\n",
       "    .dataframe tbody tr th:only-of-type {\n",
       "        vertical-align: middle;\n",
       "    }\n",
       "\n",
       "    .dataframe tbody tr th {\n",
       "        vertical-align: top;\n",
       "    }\n",
       "\n",
       "    .dataframe thead th {\n",
       "        text-align: right;\n",
       "    }\n",
       "</style>\n",
       "<table border=\"1\" class=\"dataframe\">\n",
       "  <thead>\n",
       "    <tr style=\"text-align: right;\">\n",
       "      <th></th>\n",
       "      <th>bookId</th>\n",
       "      <th>title</th>\n",
       "      <th>author</th>\n",
       "      <th>rating</th>\n",
       "      <th>isbn</th>\n",
       "      <th>genres</th>\n",
       "      <th>characters</th>\n",
       "      <th>awards</th>\n",
       "      <th>numRatings</th>\n",
       "      <th>ratingsByStars</th>\n",
       "      <th>likedPercent</th>\n",
       "      <th>setting</th>\n",
       "      <th>bbeScore</th>\n",
       "      <th>bbeVotes</th>\n",
       "      <th>price</th>\n",
       "      <th>Award_Count</th>\n",
       "      <th>Error_rating</th>\n",
       "    </tr>\n",
       "  </thead>\n",
       "  <tbody>\n",
       "    <tr>\n",
       "      <th>0</th>\n",
       "      <td>2767052-the-hunger-games</td>\n",
       "      <td>The Hunger Games</td>\n",
       "      <td>Suzanne Collins</td>\n",
       "      <td>4.33</td>\n",
       "      <td>9780439023481</td>\n",
       "      <td>['Young Adult', 'Fiction', 'Dystopia', 'Fantas...</td>\n",
       "      <td>['Katniss Everdeen', 'Peeta Mellark', 'Cato (H...</td>\n",
       "      <td>['Locus Award Nominee for Best Young Adult Boo...</td>\n",
       "      <td>6376780</td>\n",
       "      <td>['3444695', '1921313', '745221', '171994', '93...</td>\n",
       "      <td>96.0</td>\n",
       "      <td>['District 12, Panem', 'Capitol, Panem', 'Pane...</td>\n",
       "      <td>2993816</td>\n",
       "      <td>30516</td>\n",
       "      <td>5.09</td>\n",
       "      <td>41</td>\n",
       "      <td>No_Error</td>\n",
       "    </tr>\n",
       "    <tr>\n",
       "      <th>1</th>\n",
       "      <td>2.Harry_Potter_and_the_Order_of_the_Phoenix</td>\n",
       "      <td>Harry Potter and the Order of the Phoenix</td>\n",
       "      <td>J.K. Rowling, Mary GrandPré (Illustrator)</td>\n",
       "      <td>4.50</td>\n",
       "      <td>9780439358071</td>\n",
       "      <td>['Fantasy', 'Young Adult', 'Fiction', 'Magic',...</td>\n",
       "      <td>['Sirius Black', 'Draco Malfoy', 'Ron Weasley'...</td>\n",
       "      <td>['Bram Stoker Award for Works for Young Reader...</td>\n",
       "      <td>2507623</td>\n",
       "      <td>['1593642', '637516', '222366', '39573', '14526']</td>\n",
       "      <td>98.0</td>\n",
       "      <td>['Hogwarts School of Witchcraft and Wizardry (...</td>\n",
       "      <td>2632233</td>\n",
       "      <td>26923</td>\n",
       "      <td>7.38</td>\n",
       "      <td>9</td>\n",
       "      <td>No_Error</td>\n",
       "    </tr>\n",
       "    <tr>\n",
       "      <th>4</th>\n",
       "      <td>41865.Twilight</td>\n",
       "      <td>Twilight</td>\n",
       "      <td>Stephenie Meyer</td>\n",
       "      <td>3.60</td>\n",
       "      <td>9780316015844</td>\n",
       "      <td>['Young Adult', 'Fantasy', 'Romance', 'Vampire...</td>\n",
       "      <td>['Edward Cullen', 'Jacob Black', 'Laurent', 'R...</td>\n",
       "      <td>['Georgia Peach Book Award (2007)', 'Buxtehude...</td>\n",
       "      <td>4964519</td>\n",
       "      <td>['1751460', '1113682', '1008686', '542017', '5...</td>\n",
       "      <td>78.0</td>\n",
       "      <td>['Forks, Washington (United States)', 'Phoenix...</td>\n",
       "      <td>1459448</td>\n",
       "      <td>14874</td>\n",
       "      <td>2.1</td>\n",
       "      <td>25</td>\n",
       "      <td>No_Error</td>\n",
       "    </tr>\n",
       "  </tbody>\n",
       "</table>\n",
       "</div>"
      ],
      "text/plain": [
       "                                        bookId  \\\n",
       "0                     2767052-the-hunger-games   \n",
       "1  2.Harry_Potter_and_the_Order_of_the_Phoenix   \n",
       "4                               41865.Twilight   \n",
       "\n",
       "                                       title  \\\n",
       "0                           The Hunger Games   \n",
       "1  Harry Potter and the Order of the Phoenix   \n",
       "4                                   Twilight   \n",
       "\n",
       "                                      author  rating           isbn  \\\n",
       "0                            Suzanne Collins    4.33  9780439023481   \n",
       "1  J.K. Rowling, Mary GrandPré (Illustrator)    4.50  9780439358071   \n",
       "4                            Stephenie Meyer    3.60  9780316015844   \n",
       "\n",
       "                                              genres  \\\n",
       "0  ['Young Adult', 'Fiction', 'Dystopia', 'Fantas...   \n",
       "1  ['Fantasy', 'Young Adult', 'Fiction', 'Magic',...   \n",
       "4  ['Young Adult', 'Fantasy', 'Romance', 'Vampire...   \n",
       "\n",
       "                                          characters  \\\n",
       "0  ['Katniss Everdeen', 'Peeta Mellark', 'Cato (H...   \n",
       "1  ['Sirius Black', 'Draco Malfoy', 'Ron Weasley'...   \n",
       "4  ['Edward Cullen', 'Jacob Black', 'Laurent', 'R...   \n",
       "\n",
       "                                              awards  numRatings  \\\n",
       "0  ['Locus Award Nominee for Best Young Adult Boo...     6376780   \n",
       "1  ['Bram Stoker Award for Works for Young Reader...     2507623   \n",
       "4  ['Georgia Peach Book Award (2007)', 'Buxtehude...     4964519   \n",
       "\n",
       "                                      ratingsByStars  likedPercent  \\\n",
       "0  ['3444695', '1921313', '745221', '171994', '93...          96.0   \n",
       "1  ['1593642', '637516', '222366', '39573', '14526']          98.0   \n",
       "4  ['1751460', '1113682', '1008686', '542017', '5...          78.0   \n",
       "\n",
       "                                             setting  bbeScore  bbeVotes  \\\n",
       "0  ['District 12, Panem', 'Capitol, Panem', 'Pane...   2993816     30516   \n",
       "1  ['Hogwarts School of Witchcraft and Wizardry (...   2632233     26923   \n",
       "4  ['Forks, Washington (United States)', 'Phoenix...   1459448     14874   \n",
       "\n",
       "  price  Award_Count Error_rating  \n",
       "0  5.09           41     No_Error  \n",
       "1  7.38            9     No_Error  \n",
       "4   2.1           25     No_Error  "
      ]
     },
     "execution_count": 170,
     "metadata": {},
     "output_type": "execute_result"
    }
   ],
   "source": [
    "df_BestBooks.loc[df_BestBooks[\"rating\"]<= 5, \"Error_rating\"] = \"No_Error\"\n",
    "df_BestBooks.loc[df_BestBooks[\"rating\"]> 5, \"Error_rating\"] = \"Error\"\n",
    "df_BestBooks.loc[df_BestBooks[\"rating\"]< 0, \"Error_rating\"] = \"Error\"\n",
    "df_BestBooks.head(3)"
   ]
  },
  {
   "cell_type": "code",
   "execution_count": 171,
   "id": "9690cd37",
   "metadata": {},
   "outputs": [
    {
     "name": "stdout",
     "output_type": "stream",
     "text": [
      "\n",
      "This value does not exist in the Dataframe\n",
      "37901\n"
     ]
    }
   ],
   "source": [
    "if 'Error' in df_BestBooks.Error_rating :\n",
    "    print(\"\\nThis value exists in the Dataframe\")\n",
    " \n",
    "else :\n",
    "    print(\"\\nThis value does not exist in the Dataframe\")\n",
    "\n",
    "print(df_BestBooks['Error_rating'].value_counts()['No_Error'])"
   ]
  },
  {
   "cell_type": "code",
   "execution_count": 172,
   "id": "cb453cf3",
   "metadata": {},
   "outputs": [
    {
     "name": "stdout",
     "output_type": "stream",
     "text": [
      "\n",
      "This value does not exist in the Dataframe\n",
      "37901\n"
     ]
    }
   ],
   "source": [
    "df_BestBooks.loc[df_BestBooks[\"likedPercent\"]<= 100, \"Error_percentage\"] = \"No_Error\"\n",
    "df_BestBooks.loc[df_BestBooks[\"likedPercent\"]> 100, \"Error_percentage\"] = \"Error\"\n",
    "df_BestBooks.loc[df_BestBooks[\"likedPercent\"]< 0, \"Error_percentage\"] = \"Error\"\n",
    "\n",
    "if 'Error' in df_BestBooks.Error_percentage :\n",
    "    print(\"\\nThis value exists in the Dataframe\")\n",
    " \n",
    "else :\n",
    "    print(\"\\nThis value does not exist in the Dataframe\")\n",
    "\n",
    "print(df_BestBooks['Error_percentage'].value_counts()['No_Error'])"
   ]
  },
  {
   "cell_type": "code",
   "execution_count": 173,
   "id": "ed01f7d5",
   "metadata": {},
   "outputs": [
    {
     "data": {
      "text/html": [
       "<div>\n",
       "<style scoped>\n",
       "    .dataframe tbody tr th:only-of-type {\n",
       "        vertical-align: middle;\n",
       "    }\n",
       "\n",
       "    .dataframe tbody tr th {\n",
       "        vertical-align: top;\n",
       "    }\n",
       "\n",
       "    .dataframe thead th {\n",
       "        text-align: right;\n",
       "    }\n",
       "</style>\n",
       "<table border=\"1\" class=\"dataframe\">\n",
       "  <thead>\n",
       "    <tr style=\"text-align: right;\">\n",
       "      <th></th>\n",
       "      <th>bookId</th>\n",
       "      <th>title</th>\n",
       "      <th>author</th>\n",
       "      <th>rating</th>\n",
       "      <th>isbn</th>\n",
       "      <th>genres</th>\n",
       "      <th>characters</th>\n",
       "      <th>awards</th>\n",
       "      <th>numRatings</th>\n",
       "      <th>ratingsByStars</th>\n",
       "      <th>likedPercent</th>\n",
       "      <th>setting</th>\n",
       "      <th>bbeScore</th>\n",
       "      <th>bbeVotes</th>\n",
       "      <th>price</th>\n",
       "      <th>Award_Count</th>\n",
       "      <th>Error_rating</th>\n",
       "      <th>Error_percentage</th>\n",
       "    </tr>\n",
       "  </thead>\n",
       "  <tbody>\n",
       "    <tr>\n",
       "      <th>0</th>\n",
       "      <td>2767052-the-hunger-games</td>\n",
       "      <td>The Hunger Games</td>\n",
       "      <td>Suzanne Collins</td>\n",
       "      <td>4.33</td>\n",
       "      <td>9780439023481</td>\n",
       "      <td>['Young Adult', 'Fiction', 'Dystopia', 'Fantas...</td>\n",
       "      <td>['Katniss Everdeen', 'Peeta Mellark', 'Cato (H...</td>\n",
       "      <td>['Locus Award Nominee for Best Young Adult Boo...</td>\n",
       "      <td>6376780</td>\n",
       "      <td>['3444695', '1921313', '745221', '171994', '93...</td>\n",
       "      <td>96.0</td>\n",
       "      <td>['District 12, Panem', 'Capitol, Panem', 'Pane...</td>\n",
       "      <td>2993816</td>\n",
       "      <td>30516</td>\n",
       "      <td>5.09</td>\n",
       "      <td>41</td>\n",
       "      <td>No_Error</td>\n",
       "      <td>No_Error</td>\n",
       "    </tr>\n",
       "    <tr>\n",
       "      <th>1</th>\n",
       "      <td>2.Harry_Potter_and_the_Order_of_the_Phoenix</td>\n",
       "      <td>Harry Potter and the Order of the Phoenix</td>\n",
       "      <td>J.K. Rowling, Mary GrandPré (Illustrator)</td>\n",
       "      <td>4.50</td>\n",
       "      <td>9780439358071</td>\n",
       "      <td>['Fantasy', 'Young Adult', 'Fiction', 'Magic',...</td>\n",
       "      <td>['Sirius Black', 'Draco Malfoy', 'Ron Weasley'...</td>\n",
       "      <td>['Bram Stoker Award for Works for Young Reader...</td>\n",
       "      <td>2507623</td>\n",
       "      <td>['1593642', '637516', '222366', '39573', '14526']</td>\n",
       "      <td>98.0</td>\n",
       "      <td>['Hogwarts School of Witchcraft and Wizardry (...</td>\n",
       "      <td>2632233</td>\n",
       "      <td>26923</td>\n",
       "      <td>7.38</td>\n",
       "      <td>9</td>\n",
       "      <td>No_Error</td>\n",
       "      <td>No_Error</td>\n",
       "    </tr>\n",
       "    <tr>\n",
       "      <th>4</th>\n",
       "      <td>41865.Twilight</td>\n",
       "      <td>Twilight</td>\n",
       "      <td>Stephenie Meyer</td>\n",
       "      <td>3.60</td>\n",
       "      <td>9780316015844</td>\n",
       "      <td>['Young Adult', 'Fantasy', 'Romance', 'Vampire...</td>\n",
       "      <td>['Edward Cullen', 'Jacob Black', 'Laurent', 'R...</td>\n",
       "      <td>['Georgia Peach Book Award (2007)', 'Buxtehude...</td>\n",
       "      <td>4964519</td>\n",
       "      <td>['1751460', '1113682', '1008686', '542017', '5...</td>\n",
       "      <td>78.0</td>\n",
       "      <td>['Forks, Washington (United States)', 'Phoenix...</td>\n",
       "      <td>1459448</td>\n",
       "      <td>14874</td>\n",
       "      <td>2.1</td>\n",
       "      <td>25</td>\n",
       "      <td>No_Error</td>\n",
       "      <td>No_Error</td>\n",
       "    </tr>\n",
       "  </tbody>\n",
       "</table>\n",
       "</div>"
      ],
      "text/plain": [
       "                                        bookId  \\\n",
       "0                     2767052-the-hunger-games   \n",
       "1  2.Harry_Potter_and_the_Order_of_the_Phoenix   \n",
       "4                               41865.Twilight   \n",
       "\n",
       "                                       title  \\\n",
       "0                           The Hunger Games   \n",
       "1  Harry Potter and the Order of the Phoenix   \n",
       "4                                   Twilight   \n",
       "\n",
       "                                      author  rating           isbn  \\\n",
       "0                            Suzanne Collins    4.33  9780439023481   \n",
       "1  J.K. Rowling, Mary GrandPré (Illustrator)    4.50  9780439358071   \n",
       "4                            Stephenie Meyer    3.60  9780316015844   \n",
       "\n",
       "                                              genres  \\\n",
       "0  ['Young Adult', 'Fiction', 'Dystopia', 'Fantas...   \n",
       "1  ['Fantasy', 'Young Adult', 'Fiction', 'Magic',...   \n",
       "4  ['Young Adult', 'Fantasy', 'Romance', 'Vampire...   \n",
       "\n",
       "                                          characters  \\\n",
       "0  ['Katniss Everdeen', 'Peeta Mellark', 'Cato (H...   \n",
       "1  ['Sirius Black', 'Draco Malfoy', 'Ron Weasley'...   \n",
       "4  ['Edward Cullen', 'Jacob Black', 'Laurent', 'R...   \n",
       "\n",
       "                                              awards  numRatings  \\\n",
       "0  ['Locus Award Nominee for Best Young Adult Boo...     6376780   \n",
       "1  ['Bram Stoker Award for Works for Young Reader...     2507623   \n",
       "4  ['Georgia Peach Book Award (2007)', 'Buxtehude...     4964519   \n",
       "\n",
       "                                      ratingsByStars  likedPercent  \\\n",
       "0  ['3444695', '1921313', '745221', '171994', '93...          96.0   \n",
       "1  ['1593642', '637516', '222366', '39573', '14526']          98.0   \n",
       "4  ['1751460', '1113682', '1008686', '542017', '5...          78.0   \n",
       "\n",
       "                                             setting  bbeScore  bbeVotes  \\\n",
       "0  ['District 12, Panem', 'Capitol, Panem', 'Pane...   2993816     30516   \n",
       "1  ['Hogwarts School of Witchcraft and Wizardry (...   2632233     26923   \n",
       "4  ['Forks, Washington (United States)', 'Phoenix...   1459448     14874   \n",
       "\n",
       "  price  Award_Count Error_rating Error_percentage  \n",
       "0  5.09           41     No_Error         No_Error  \n",
       "1  7.38            9     No_Error         No_Error  \n",
       "4   2.1           25     No_Error         No_Error  "
      ]
     },
     "execution_count": 173,
     "metadata": {},
     "output_type": "execute_result"
    }
   ],
   "source": [
    "df_BestBooks.head(3)"
   ]
  },
  {
   "cell_type": "markdown",
   "id": "b6bf8fa5",
   "metadata": {},
   "source": [
    "### NumPy"
   ]
  },
  {
   "cell_type": "code",
   "execution_count": 174,
   "id": "efbb9f88",
   "metadata": {},
   "outputs": [
    {
     "data": {
      "text/html": [
       "<div>\n",
       "<style scoped>\n",
       "    .dataframe tbody tr th:only-of-type {\n",
       "        vertical-align: middle;\n",
       "    }\n",
       "\n",
       "    .dataframe tbody tr th {\n",
       "        vertical-align: top;\n",
       "    }\n",
       "\n",
       "    .dataframe thead th {\n",
       "        text-align: right;\n",
       "    }\n",
       "</style>\n",
       "<table border=\"1\" class=\"dataframe\">\n",
       "  <thead>\n",
       "    <tr style=\"text-align: right;\">\n",
       "      <th></th>\n",
       "      <th>rating</th>\n",
       "      <th>numRatings</th>\n",
       "      <th>likedPercent</th>\n",
       "      <th>bbeScore</th>\n",
       "      <th>bbeVotes</th>\n",
       "      <th>Award_Count</th>\n",
       "    </tr>\n",
       "  </thead>\n",
       "  <tbody>\n",
       "    <tr>\n",
       "      <th>count</th>\n",
       "      <td>37901.000000</td>\n",
       "      <td>3.790100e+04</td>\n",
       "      <td>37901.000000</td>\n",
       "      <td>3.790100e+04</td>\n",
       "      <td>37901.000000</td>\n",
       "      <td>37901.000000</td>\n",
       "    </tr>\n",
       "    <tr>\n",
       "      <th>mean</th>\n",
       "      <td>3.998219</td>\n",
       "      <td>1.944083e+04</td>\n",
       "      <td>92.299755</td>\n",
       "      <td>1.950290e+03</td>\n",
       "      <td>22.388591</td>\n",
       "      <td>1.283898</td>\n",
       "    </tr>\n",
       "    <tr>\n",
       "      <th>std</th>\n",
       "      <td>0.301866</td>\n",
       "      <td>9.496797e+04</td>\n",
       "      <td>5.437769</td>\n",
       "      <td>3.375958e+04</td>\n",
       "      <td>354.417035</td>\n",
       "      <td>1.143679</td>\n",
       "    </tr>\n",
       "    <tr>\n",
       "      <th>min</th>\n",
       "      <td>1.000000</td>\n",
       "      <td>1.000000e+00</td>\n",
       "      <td>0.000000</td>\n",
       "      <td>0.000000e+00</td>\n",
       "      <td>-4.000000</td>\n",
       "      <td>1.000000</td>\n",
       "    </tr>\n",
       "    <tr>\n",
       "      <th>25%</th>\n",
       "      <td>3.810000</td>\n",
       "      <td>6.720000e+02</td>\n",
       "      <td>90.000000</td>\n",
       "      <td>8.300000e+01</td>\n",
       "      <td>1.000000</td>\n",
       "      <td>1.000000</td>\n",
       "    </tr>\n",
       "    <tr>\n",
       "      <th>50%</th>\n",
       "      <td>4.010000</td>\n",
       "      <td>3.259000e+03</td>\n",
       "      <td>94.000000</td>\n",
       "      <td>9.800000e+01</td>\n",
       "      <td>1.000000</td>\n",
       "      <td>1.000000</td>\n",
       "    </tr>\n",
       "    <tr>\n",
       "      <th>75%</th>\n",
       "      <td>4.190000</td>\n",
       "      <td>1.172500e+04</td>\n",
       "      <td>96.000000</td>\n",
       "      <td>1.960000e+02</td>\n",
       "      <td>3.000000</td>\n",
       "      <td>1.000000</td>\n",
       "    </tr>\n",
       "    <tr>\n",
       "      <th>max</th>\n",
       "      <td>5.000000</td>\n",
       "      <td>6.376780e+06</td>\n",
       "      <td>100.000000</td>\n",
       "      <td>2.993816e+06</td>\n",
       "      <td>30516.000000</td>\n",
       "      <td>41.000000</td>\n",
       "    </tr>\n",
       "  </tbody>\n",
       "</table>\n",
       "</div>"
      ],
      "text/plain": [
       "             rating    numRatings  likedPercent      bbeScore      bbeVotes  \\\n",
       "count  37901.000000  3.790100e+04  37901.000000  3.790100e+04  37901.000000   \n",
       "mean       3.998219  1.944083e+04     92.299755  1.950290e+03     22.388591   \n",
       "std        0.301866  9.496797e+04      5.437769  3.375958e+04    354.417035   \n",
       "min        1.000000  1.000000e+00      0.000000  0.000000e+00     -4.000000   \n",
       "25%        3.810000  6.720000e+02     90.000000  8.300000e+01      1.000000   \n",
       "50%        4.010000  3.259000e+03     94.000000  9.800000e+01      1.000000   \n",
       "75%        4.190000  1.172500e+04     96.000000  1.960000e+02      3.000000   \n",
       "max        5.000000  6.376780e+06    100.000000  2.993816e+06  30516.000000   \n",
       "\n",
       "        Award_Count  \n",
       "count  37901.000000  \n",
       "mean       1.283898  \n",
       "std        1.143679  \n",
       "min        1.000000  \n",
       "25%        1.000000  \n",
       "50%        1.000000  \n",
       "75%        1.000000  \n",
       "max       41.000000  "
      ]
     },
     "execution_count": 174,
     "metadata": {},
     "output_type": "execute_result"
    }
   ],
   "source": [
    "df_BestBooks.describe(include=(np.number))"
   ]
  },
  {
   "cell_type": "markdown",
   "id": "06328fca",
   "metadata": {},
   "source": [
    "### Correlation Heat Map"
   ]
  },
  {
   "cell_type": "code",
   "execution_count": 176,
   "id": "16597c10",
   "metadata": {},
   "outputs": [
    {
     "name": "stderr",
     "output_type": "stream",
     "text": [
      "C:\\Users\\robbi\\AppData\\Local\\Temp\\ipykernel_7904\\4161878995.py:2: FutureWarning: The default value of numeric_only in DataFrame.corr is deprecated. In a future version, it will default to False. Select only valid columns or specify the value of numeric_only to silence this warning.\n",
      "  sns.heatmap(df_BestBooks.corr(), annot=True)\n"
     ]
    },
    {
     "data": {
      "text/plain": [
       "<function matplotlib.pyplot.show(close=None, block=None)>"
      ]
     },
     "execution_count": 176,
     "metadata": {},
     "output_type": "execute_result"
    },
    {
     "data": {
      "image/png": "[encoded data removed]",
      "text/plain": [
       "<Figure size 1000x700 with 2 Axes>"
      ]
     },
     "metadata": {},
     "output_type": "display_data"
    }
   ],
   "source": [
    "plt.figure(figsize=(10,7))\n",
    "sns.heatmap(df_BestBooks.corr(), annot=True)\n",
    "plt.title ('Correlation between the columns')\n",
    "plt.show"
   ]
  },
  {
   "cell_type": "markdown",
   "id": "19e49363",
   "metadata": {},
   "source": [
    "Look at relationship further between different variables using Seaborn"
   ]
  },
  {
   "cell_type": "code",
   "execution_count": 177,
   "id": "51b9626d",
   "metadata": {},
   "outputs": [
    {
     "data": {
      "image/png": "[encoded data removed]",
      "text/plain": [
       "<Figure size 500x500 with 6 Axes>"
      ]
     },
     "metadata": {},
     "output_type": "display_data"
    }
   ],
   "source": [
    "Z = sns.pairplot(df_BestBooks, vars=[\"likedPercent\", \"rating\"])"
   ]
  },
  {
   "cell_type": "markdown",
   "id": "53b3b3dd",
   "metadata": {},
   "source": [
    "Data types"
   ]
  },
  {
   "cell_type": "code",
   "execution_count": 178,
   "id": "f8cf2b83",
   "metadata": {},
   "outputs": [
    {
     "name": "stdout",
     "output_type": "stream",
     "text": [
      "float64\n",
      "float64\n"
     ]
    }
   ],
   "source": [
    "print(df_BestBooks.likedPercent.dtypes)   \n",
    "print(df_BestBooks.rating.dtypes)  "
   ]
  },
  {
   "cell_type": "markdown",
   "id": "a2869f79",
   "metadata": {},
   "source": [
    "Convert price to int - previous.."
   ]
  },
  {
   "cell_type": "code",
   "execution_count": 179,
   "id": "7e3fd2c6",
   "metadata": {},
   "outputs": [
    {
     "name": "stdout",
     "output_type": "stream",
     "text": [
      "float64\n"
     ]
    }
   ],
   "source": [
    "df_BestBooks['price'] = pd.to_numeric(df_BestBooks['price'], errors='coerce')\n",
    "print(df_BestBooks.price.dtypes)  "
   ]
  },
  {
   "cell_type": "markdown",
   "id": "d394379d",
   "metadata": {},
   "source": [
    "Define x and y"
   ]
  },
  {
   "cell_type": "code",
   "execution_count": 180,
   "id": "44e8b634",
   "metadata": {},
   "outputs": [],
   "source": [
    "X = df_BestBooks['rating'].values\n",
    "y = df_BestBooks['likedPercent'].values"
   ]
  },
  {
   "cell_type": "code",
   "execution_count": 181,
   "id": "e5bfa9dc",
   "metadata": {},
   "outputs": [
    {
     "data": {
      "text/plain": [
       "array([4.33, 4.5 , 3.6 , ..., 3.7 , 3.85, 4.02])"
      ]
     },
     "execution_count": 181,
     "metadata": {},
     "output_type": "execute_result"
    }
   ],
   "source": [
    "X\n"
   ]
  },
  {
   "cell_type": "markdown",
   "id": "1af10d09",
   "metadata": {},
   "source": [
    "Need to reshape "
   ]
  },
  {
   "cell_type": "code",
   "execution_count": 182,
   "id": "498ebc04",
   "metadata": {},
   "outputs": [],
   "source": [
    "X = X.reshape(-1,1)\n",
    "y = y.reshape (-1,1)"
   ]
  },
  {
   "cell_type": "code",
   "execution_count": 183,
   "id": "ba30d824",
   "metadata": {},
   "outputs": [
    {
     "data": {
      "text/plain": [
       "array([[4.33],\n",
       "       [4.5 ],\n",
       "       [3.6 ],\n",
       "       ...,\n",
       "       [3.7 ],\n",
       "       [3.85],\n",
       "       [4.02]])"
      ]
     },
     "execution_count": 183,
     "metadata": {},
     "output_type": "execute_result"
    }
   ],
   "source": [
    "X"
   ]
  },
  {
   "cell_type": "code",
   "execution_count": 184,
   "id": "2bec4f4c",
   "metadata": {},
   "outputs": [
    {
     "data": {
      "text/plain": [
       "array([[96.],\n",
       "       [98.],\n",
       "       [78.],\n",
       "       ...,\n",
       "       [84.],\n",
       "       [90.],\n",
       "       [90.]])"
      ]
     },
     "execution_count": 184,
     "metadata": {},
     "output_type": "execute_result"
    }
   ],
   "source": [
    "y"
   ]
  },
  {
   "cell_type": "markdown",
   "id": "f289204b",
   "metadata": {},
   "source": [
    "Split the dataset into training data and testing data - 70/30"
   ]
  },
  {
   "cell_type": "code",
   "execution_count": 185,
   "id": "6e413b37",
   "metadata": {},
   "outputs": [],
   "source": [
    "X_train,X_test,y_train,y_test= train_test_split(X,y, test_size=0.3, random_state=0)"
   ]
  },
  {
   "cell_type": "code",
   "execution_count": 186,
   "id": "c7b0db0a",
   "metadata": {},
   "outputs": [
    {
     "data": {
      "text/plain": [
       "(array([[4.19],\n",
       "        [4.35],\n",
       "        [3.81],\n",
       "        ...,\n",
       "        [4.  ],\n",
       "        [4.54],\n",
       "        [3.88]]),\n",
       " array([[3.74],\n",
       "        [3.57],\n",
       "        [4.48],\n",
       "        ...,\n",
       "        [3.78],\n",
       "        [3.63],\n",
       "        [4.24]]),\n",
       " array([[95.],\n",
       "        [96.],\n",
       "        [89.],\n",
       "        ...,\n",
       "        [95.],\n",
       "        [98.],\n",
       "        [93.]]),\n",
       " array([[90.],\n",
       "        [84.],\n",
       "        [98.],\n",
       "        ...,\n",
       "        [92.],\n",
       "        [86.],\n",
       "        [96.]]))"
      ]
     },
     "execution_count": 186,
     "metadata": {},
     "output_type": "execute_result"
    }
   ],
   "source": [
    "X_train,X_test,y_train,y_test"
   ]
  },
  {
   "cell_type": "markdown",
   "id": "33739dff",
   "metadata": {},
   "source": [
    "Make a function for regression as reg and fit the model with our split dataset"
   ]
  },
  {
   "cell_type": "code",
   "execution_count": 187,
   "id": "0cbe5295",
   "metadata": {},
   "outputs": [
    {
     "data": {
      "text/html": [
       "<style>#sk-container-id-7 {color: black;background-color: white;}#sk-container-id-7 pre{padding: 0;}#sk-container-id-7 div.sk-toggleable {background-color: white;}#sk-container-id-7 label.sk-toggleable__label {cursor: pointer;display: block;width: 100%;margin-bottom: 0;padding: 0.3em;box-sizing: border-box;text-align: center;}#sk-container-id-7 label.sk-toggleable__label-arrow:before {content: \"▸\";float: left;margin-right: 0.25em;color: #696969;}#sk-container-id-7 label.sk-toggleable__label-arrow:hover:before {color: black;}#sk-container-id-7 div.sk-estimator:hover label.sk-toggleable__label-arrow:before {color: black;}#sk-container-id-7 div.sk-toggleable__content {max-height: 0;max-width: 0;overflow: hidden;text-align: left;background-color: #f0f8ff;}#sk-container-id-7 div.sk-toggleable__content pre {margin: 0.2em;color: black;border-radius: 0.25em;background-color: #f0f8ff;}#sk-container-id-7 input.sk-toggleable__control:checked~div.sk-toggleable__content {max-height: 200px;max-width: 100%;overflow: auto;}#sk-container-id-7 input.sk-toggleable__control:checked~label.sk-toggleable__label-arrow:before {content: \"▾\";}#sk-container-id-7 div.sk-estimator input.sk-toggleable__control:checked~label.sk-toggleable__label {background-color: #d4ebff;}#sk-container-id-7 div.sk-label input.sk-toggleable__control:checked~label.sk-toggleable__label {background-color: #d4ebff;}#sk-container-id-7 input.sk-hidden--visually {border: 0;clip: rect(1px 1px 1px 1px);clip: rect(1px, 1px, 1px, 1px);height: 1px;margin: -1px;overflow: hidden;padding: 0;position: absolute;width: 1px;}#sk-container-id-7 div.sk-estimator {font-family: monospace;background-color: #f0f8ff;border: 1px dotted black;border-radius: 0.25em;box-sizing: border-box;margin-bottom: 0.5em;}#sk-container-id-7 div.sk-estimator:hover {background-color: #d4ebff;}#sk-container-id-7 div.sk-parallel-item::after {content: \"\";width: 100%;border-bottom: 1px solid gray;flex-grow: 1;}#sk-container-id-7 div.sk-label:hover label.sk-toggleable__label {background-color: #d4ebff;}#sk-container-id-7 div.sk-serial::before {content: \"\";position: absolute;border-left: 1px solid gray;box-sizing: border-box;top: 0;bottom: 0;left: 50%;z-index: 0;}#sk-container-id-7 div.sk-serial {display: flex;flex-direction: column;align-items: center;background-color: white;padding-right: 0.2em;padding-left: 0.2em;position: relative;}#sk-container-id-7 div.sk-item {position: relative;z-index: 1;}#sk-container-id-7 div.sk-parallel {display: flex;align-items: stretch;justify-content: center;background-color: white;position: relative;}#sk-container-id-7 div.sk-item::before, #sk-container-id-7 div.sk-parallel-item::before {content: \"\";position: absolute;border-left: 1px solid gray;box-sizing: border-box;top: 0;bottom: 0;left: 50%;z-index: -1;}#sk-container-id-7 div.sk-parallel-item {display: flex;flex-direction: column;z-index: 1;position: relative;background-color: white;}#sk-container-id-7 div.sk-parallel-item:first-child::after {align-self: flex-end;width: 50%;}#sk-container-id-7 div.sk-parallel-item:last-child::after {align-self: flex-start;width: 50%;}#sk-container-id-7 div.sk-parallel-item:only-child::after {width: 0;}#sk-container-id-7 div.sk-dashed-wrapped {border: 1px dashed gray;margin: 0 0.4em 0.5em 0.4em;box-sizing: border-box;padding-bottom: 0.4em;background-color: white;}#sk-container-id-7 div.sk-label label {font-family: monospace;font-weight: bold;display: inline-block;line-height: 1.2em;}#sk-container-id-7 div.sk-label-container {text-align: center;}#sk-container-id-7 div.sk-container {/* jupyter's `normalize.less` sets `[hidden] { display: none; }` but bootstrap.min.css set `[hidden] { display: none !important; }` so we also need the `!important` here to be able to override the default hidden behavior on the sphinx rendered scikit-learn.org. See: https://github.com/scikit-learn/scikit-learn/issues/21755 */display: inline-block !important;position: relative;}#sk-container-id-7 div.sk-text-repr-fallback {display: none;}</style><div id=\"sk-container-id-7\" class=\"sk-top-container\"><div class=\"sk-text-repr-fallback\"><pre>LinearRegression()</pre><b>In a Jupyter environment, please rerun this cell to show the HTML representation or trust the notebook. <br />On GitHub, the HTML representation is unable to render, please try loading this page with nbviewer.org.</b></div><div class=\"sk-container\" hidden><div class=\"sk-item\"><div class=\"sk-estimator sk-toggleable\"><input class=\"sk-toggleable__control sk-hidden--visually\" id=\"sk-estimator-id-7\" type=\"checkbox\" checked><label for=\"sk-estimator-id-7\" class=\"sk-toggleable__label sk-toggleable__label-arrow\">LinearRegression</label><div class=\"sk-toggleable__content\"><pre>LinearRegression()</pre></div></div></div></div></div>"
      ],
      "text/plain": [
       "LinearRegression()"
      ]
     },
     "execution_count": 187,
     "metadata": {},
     "output_type": "execute_result"
    }
   ],
   "source": [
    "reg= LinearRegression()\n",
    "reg.fit(X_train,y_train)"
   ]
  },
  {
   "cell_type": "markdown",
   "id": "2f3eb8c0",
   "metadata": {},
   "source": [
    "Test (predict) the output for the test data using the fitted model"
   ]
  },
  {
   "cell_type": "code",
   "execution_count": 188,
   "id": "de54e99f",
   "metadata": {},
   "outputs": [
    {
     "name": "stdout",
     "output_type": "stream",
     "text": [
      "[[88.47564512]\n",
      " [85.94970277]\n",
      " [99.47092361]\n",
      " ...\n",
      " [89.0699845 ]\n",
      " [86.84121184]\n",
      " [95.90488735]]\n",
      "[[90.]\n",
      " [84.]\n",
      " [98.]\n",
      " ...\n",
      " [92.]\n",
      " [86.]\n",
      " [96.]]\n"
     ]
    }
   ],
   "source": [
    "y_predict=reg.predict(X_test)\n",
    "print(y_predict)\n",
    "print(y_test)"
   ]
  },
  {
   "cell_type": "markdown",
   "id": "8090dd92",
   "metadata": {},
   "source": [
    "Determine the performance of the model using coefficent of determination"
   ]
  },
  {
   "cell_type": "code",
   "execution_count": 189,
   "id": "3f4b91cb",
   "metadata": {},
   "outputs": [
    {
     "name": "stdout",
     "output_type": "stream",
     "text": [
      "Coefficent of determination: 0.685\n"
     ]
    }
   ],
   "source": [
    "print('Coefficent of determination: %.3f' % r2_score(y_test,y_predict))"
   ]
  },
  {
   "cell_type": "markdown",
   "id": "9521e3e3",
   "metadata": {},
   "source": [
    "Hyperparameter tuning"
   ]
  },
  {
   "cell_type": "code",
   "execution_count": 190,
   "id": "ba1b1ab0",
   "metadata": {},
   "outputs": [],
   "source": [
    "X_train,X_test,y_train,y_test= train_test_split(X,y, test_size=0.2, random_state=0)"
   ]
  },
  {
   "cell_type": "code",
   "execution_count": 191,
   "id": "df7506e7",
   "metadata": {},
   "outputs": [
    {
     "data": {
      "text/plain": [
       "(array([[4.13],\n",
       "        [3.95],\n",
       "        [4.2 ],\n",
       "        ...,\n",
       "        [4.  ],\n",
       "        [4.54],\n",
       "        [3.88]]),\n",
       " array([[3.74],\n",
       "        [3.57],\n",
       "        [4.48],\n",
       "        ...,\n",
       "        [3.86],\n",
       "        [4.35],\n",
       "        [4.22]]),\n",
       " array([[96.],\n",
       "        [93.],\n",
       "        [95.],\n",
       "        ...,\n",
       "        [95.],\n",
       "        [98.],\n",
       "        [93.]]),\n",
       " array([[90.],\n",
       "        [84.],\n",
       "        [98.],\n",
       "        ...,\n",
       "        [91.],\n",
       "        [95.],\n",
       "        [95.]]))"
      ]
     },
     "execution_count": 191,
     "metadata": {},
     "output_type": "execute_result"
    }
   ],
   "source": [
    "X_train,X_test,y_train,y_test"
   ]
  },
  {
   "cell_type": "code",
   "execution_count": 192,
   "id": "f38a405f",
   "metadata": {},
   "outputs": [
    {
     "data": {
      "text/html": [
       "<style>#sk-container-id-8 {color: black;background-color: white;}#sk-container-id-8 pre{padding: 0;}#sk-container-id-8 div.sk-toggleable {background-color: white;}#sk-container-id-8 label.sk-toggleable__label {cursor: pointer;display: block;width: 100%;margin-bottom: 0;padding: 0.3em;box-sizing: border-box;text-align: center;}#sk-container-id-8 label.sk-toggleable__label-arrow:before {content: \"▸\";float: left;margin-right: 0.25em;color: #696969;}#sk-container-id-8 label.sk-toggleable__label-arrow:hover:before {color: black;}#sk-container-id-8 div.sk-estimator:hover label.sk-toggleable__label-arrow:before {color: black;}#sk-container-id-8 div.sk-toggleable__content {max-height: 0;max-width: 0;overflow: hidden;text-align: left;background-color: #f0f8ff;}#sk-container-id-8 div.sk-toggleable__content pre {margin: 0.2em;color: black;border-radius: 0.25em;background-color: #f0f8ff;}#sk-container-id-8 input.sk-toggleable__control:checked~div.sk-toggleable__content {max-height: 200px;max-width: 100%;overflow: auto;}#sk-container-id-8 input.sk-toggleable__control:checked~label.sk-toggleable__label-arrow:before {content: \"▾\";}#sk-container-id-8 div.sk-estimator input.sk-toggleable__control:checked~label.sk-toggleable__label {background-color: #d4ebff;}#sk-container-id-8 div.sk-label input.sk-toggleable__control:checked~label.sk-toggleable__label {background-color: #d4ebff;}#sk-container-id-8 input.sk-hidden--visually {border: 0;clip: rect(1px 1px 1px 1px);clip: rect(1px, 1px, 1px, 1px);height: 1px;margin: -1px;overflow: hidden;padding: 0;position: absolute;width: 1px;}#sk-container-id-8 div.sk-estimator {font-family: monospace;background-color: #f0f8ff;border: 1px dotted black;border-radius: 0.25em;box-sizing: border-box;margin-bottom: 0.5em;}#sk-container-id-8 div.sk-estimator:hover {background-color: #d4ebff;}#sk-container-id-8 div.sk-parallel-item::after {content: \"\";width: 100%;border-bottom: 1px solid gray;flex-grow: 1;}#sk-container-id-8 div.sk-label:hover label.sk-toggleable__label {background-color: #d4ebff;}#sk-container-id-8 div.sk-serial::before {content: \"\";position: absolute;border-left: 1px solid gray;box-sizing: border-box;top: 0;bottom: 0;left: 50%;z-index: 0;}#sk-container-id-8 div.sk-serial {display: flex;flex-direction: column;align-items: center;background-color: white;padding-right: 0.2em;padding-left: 0.2em;position: relative;}#sk-container-id-8 div.sk-item {position: relative;z-index: 1;}#sk-container-id-8 div.sk-parallel {display: flex;align-items: stretch;justify-content: center;background-color: white;position: relative;}#sk-container-id-8 div.sk-item::before, #sk-container-id-8 div.sk-parallel-item::before {content: \"\";position: absolute;border-left: 1px solid gray;box-sizing: border-box;top: 0;bottom: 0;left: 50%;z-index: -1;}#sk-container-id-8 div.sk-parallel-item {display: flex;flex-direction: column;z-index: 1;position: relative;background-color: white;}#sk-container-id-8 div.sk-parallel-item:first-child::after {align-self: flex-end;width: 50%;}#sk-container-id-8 div.sk-parallel-item:last-child::after {align-self: flex-start;width: 50%;}#sk-container-id-8 div.sk-parallel-item:only-child::after {width: 0;}#sk-container-id-8 div.sk-dashed-wrapped {border: 1px dashed gray;margin: 0 0.4em 0.5em 0.4em;box-sizing: border-box;padding-bottom: 0.4em;background-color: white;}#sk-container-id-8 div.sk-label label {font-family: monospace;font-weight: bold;display: inline-block;line-height: 1.2em;}#sk-container-id-8 div.sk-label-container {text-align: center;}#sk-container-id-8 div.sk-container {/* jupyter's `normalize.less` sets `[hidden] { display: none; }` but bootstrap.min.css set `[hidden] { display: none !important; }` so we also need the `!important` here to be able to override the default hidden behavior on the sphinx rendered scikit-learn.org. See: https://github.com/scikit-learn/scikit-learn/issues/21755 */display: inline-block !important;position: relative;}#sk-container-id-8 div.sk-text-repr-fallback {display: none;}</style><div id=\"sk-container-id-8\" class=\"sk-top-container\"><div class=\"sk-text-repr-fallback\"><pre>LinearRegression()</pre><b>In a Jupyter environment, please rerun this cell to show the HTML representation or trust the notebook. <br />On GitHub, the HTML representation is unable to render, please try loading this page with nbviewer.org.</b></div><div class=\"sk-container\" hidden><div class=\"sk-item\"><div class=\"sk-estimator sk-toggleable\"><input class=\"sk-toggleable__control sk-hidden--visually\" id=\"sk-estimator-id-8\" type=\"checkbox\" checked><label for=\"sk-estimator-id-8\" class=\"sk-toggleable__label sk-toggleable__label-arrow\">LinearRegression</label><div class=\"sk-toggleable__content\"><pre>LinearRegression()</pre></div></div></div></div></div>"
      ],
      "text/plain": [
       "LinearRegression()"
      ]
     },
     "execution_count": 192,
     "metadata": {},
     "output_type": "execute_result"
    }
   ],
   "source": [
    "reg2= LinearRegression()\n",
    "reg2.fit(X_train,y_train)"
   ]
  },
  {
   "cell_type": "code",
   "execution_count": 193,
   "id": "3a42860b",
   "metadata": {},
   "outputs": [
    {
     "name": "stdout",
     "output_type": "stream",
     "text": [
      "[[88.4543769 ]\n",
      " [85.9191496 ]\n",
      " [99.4900722 ]\n",
      " ...\n",
      " [90.24394911]\n",
      " [97.55136897]\n",
      " [95.61266574]]\n",
      "[[90.]\n",
      " [84.]\n",
      " [98.]\n",
      " ...\n",
      " [91.]\n",
      " [95.]\n",
      " [95.]]\n"
     ]
    }
   ],
   "source": [
    "y_predict=reg2.predict(X_test)\n",
    "print(y_predict)\n",
    "print(y_test)"
   ]
  },
  {
   "cell_type": "code",
   "execution_count": 194,
   "id": "38602d89",
   "metadata": {},
   "outputs": [
    {
     "name": "stdout",
     "output_type": "stream",
     "text": [
      "Coefficent of determination: 0.680\n"
     ]
    }
   ],
   "source": [
    "print('Coefficent of determination: %.3f' % r2_score(y_test,y_predict))"
   ]
  },
  {
   "cell_type": "code",
   "execution_count": null,
   "id": "df7f9ddb",
   "metadata": {},
   "outputs": [],
   "source": []
  },
  {
   "cell_type": "markdown",
   "id": "d4a2182c",
   "metadata": {},
   "source": [
    "Visualisation - Graph (MatPlotLib)"
   ]
  },
  {
   "cell_type": "code",
   "execution_count": 195,
   "id": "cbbace07",
   "metadata": {},
   "outputs": [
    {
     "data": {
      "image/png": "[encoded data removed]",
      "text/plain": [
       "<Figure size 640x480 with 1 Axes>"
      ]
     },
     "metadata": {},
     "output_type": "display_data"
    }
   ],
   "source": [
    "plt.scatter(X_train,y_train,color='red')\n",
    "plt.plot(X_train,reg.predict(X_train),color='blue')\n",
    "plt.title(\"Liked Percentage V's Rating\")\n",
    "plt.xlabel(\"Liked Percent out of 100\")\n",
    "plt.ylabel(\"Rating out of 5\")\n",
    "plt.show()"
   ]
  },
  {
   "cell_type": "markdown",
   "id": "edc89de2",
   "metadata": {},
   "source": [
    "predict for test"
   ]
  },
  {
   "cell_type": "code",
   "execution_count": 150,
   "id": "1bc7f531",
   "metadata": {},
   "outputs": [
    {
     "data": {
      "image/png": "[encoded data removed]",
      "text/plain": [
       "<Figure size 640x480 with 1 Axes>"
      ]
     },
     "metadata": {},
     "output_type": "display_data"
    }
   ],
   "source": [
    "plt.scatter(X_test,y_test,color='red')\n",
    "plt.plot(X_test,reg.predict(X_test),color='blue')\n",
    "plt.title(\"Linear Regression liked % V's Rating\")\n",
    "plt.xlabel(\"Price\")\n",
    "plt.ylabel(\"Rating out of 5\")\n",
    "plt.show()"
   ]
  },
  {
   "cell_type": "markdown",
   "id": "0043c822",
   "metadata": {},
   "source": [
    "https://www.kaggle.com/datasets/shashwatwork/best-book-ever-data-for-2021\n",
    "    "
   ]
  },
  {
   "cell_type": "markdown",
   "id": "fa126d2b",
   "metadata": {},
   "source": [
    "A book’s total score is based on multiple factors, including the number of people who have voted for it and how highly those voters ranked the book."
   ]
  },
  {
   "cell_type": "markdown",
   "id": "4cd9f5b5",
   "metadata": {},
   "source": [
    "https://www.youtube.com/watch?v=Ge0z9_sywho\n",
    "\n",
    "https://www.youtube.com/results?search_query=machine+learning+data+science+linear+regression+jupyter+notebook\n",
    "\n",
    "https://github.com/scostap/goodreads_bbe_dataset"
   ]
  },
  {
   "cell_type": "markdown",
   "id": "2c425cac",
   "metadata": {},
   "source": [
    "Heat map - correlation between different columns"
   ]
  },
  {
   "cell_type": "code",
   "execution_count": null,
   "id": "581e6490",
   "metadata": {},
   "outputs": [],
   "source": [
    "plot.figure(figsize=)"
   ]
  },
  {
   "cell_type": "code",
   "execution_count": null,
   "id": "459fd8ad",
   "metadata": {},
   "outputs": [],
   "source": []
  }
 ],
 "metadata": {
  "kernelspec": {
   "display_name": "Python 3 (ipykernel)",
   "language": "python",
   "name": "python3"
  },
  "language_info": {
   "codemirror_mode": {
    "name": "ipython",
    "version": 3
   },
   "file_extension": ".py",
   "mimetype": "text/x-python",
   "name": "python",
   "nbconvert_exporter": "python",
   "pygments_lexer": "ipython3",
   "version": "3.10.7"
  }
 },
 "nbformat": 4,
 "nbformat_minor": 5
}
